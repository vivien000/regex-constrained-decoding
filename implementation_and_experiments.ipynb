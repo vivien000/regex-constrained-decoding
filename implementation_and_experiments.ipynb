{
  "cells": [
    {
      "cell_type": "markdown",
      "source": [
        "This notebook accompanies the \"Fast, high-fidelity LLM decoding with regex constraints\" blog post ([blog post](https://vivien000.github.io/blog/journal/llm-decoding-with-regex-constraints.html), [technical appendix](https://github.com/vivien000/regex-constrained-decoding/blob/main/technical_appendix.pdf))."
      ],
      "metadata": {
        "id": "WNDQS-9OVR4o"
      }
    },
    {
      "cell_type": "markdown",
      "source": [
        "# Technical prerequisites"
      ],
      "metadata": {
        "id": "ItpsHeBeke7C"
      }
    },
    {
      "cell_type": "code",
      "execution_count": null,
      "metadata": {
        "id": "AEzgrA55jNv0"
      },
      "outputs": [],
      "source": [
        "%%capture\n",
        "!sudo apt install cm-super dvipng texlive-latex-extra texlive-latex-recommended\n",
        "!apt install libgraphviz-dev\n",
        "!pip install automata-lib[visual]\n",
        "!pip install outlines==0.0.24\n",
        "!pip install datasets\n",
        "!pip install numba\n",
        "!pip install peft bitsandbytes accelerate\n",
        "\n",
        "import os\n",
        "import re\n",
        "import time\n",
        "import json\n",
        "import logging\n",
        "import string\n",
        "from collections import defaultdict\n",
        "import transformers\n",
        "from automata.fa.dfa import DFA\n",
        "import seaborn as sns\n",
        "import numpy as np\n",
        "import matplotlib.pyplot as plt\n",
        "from outlines.models.transformers import TransformerTokenizer\n",
        "\n",
        "sns.set(rc={'figure.figsize':(8,6)})\n",
        "plt.rcParams['text.usetex'] = True\n",
        "\n",
        "tokenizer = transformers.AutoTokenizer.from_pretrained(\"mistralai/Mistral-7B-v0.1\")\n",
        "tokenizer_outlines = TransformerTokenizer(\"mistralai/Mistral-7B-v0.1\", padding_side=\"left\")\n",
        "\n",
        "# As far as I know, we cannot get the merge table from the HF Tokenizer object.\n",
        "# I retrieve it from the tokenizer.json file in the model's HF repository.\n",
        "!wget -nc https://huggingface.co/mistralai/Mistral-7B-v0.1/raw/main/tokenizer.json\n",
        "with open(\"tokenizer.json\", \"r\") as f:\n",
        "    tokenizer_dict = json.load(f)"
      ]
    },
    {
      "cell_type": "markdown",
      "source": [
        "# `DirectMerge`"
      ],
      "metadata": {
        "id": "Q9or9JIImnHL"
      }
    },
    {
      "cell_type": "markdown",
      "source": [
        "## Implementation: `DirectMerge`\n",
        "\n",
        "Cf. Algorithms 1 and 2 of the technical appendix."
      ],
      "metadata": {
        "id": "H8Nocqqfz1kD"
      }
    },
    {
      "cell_type": "code",
      "source": [
        "import interegular\n",
        "\n",
        "def get_token_id(token, tokenizer):\n",
        "    \"\"\"\n",
        "    Return the token id of a given token.\n",
        "    \"\"\"\n",
        "    return tokenizer.backend_tokenizer.model.token_to_id(token)\n",
        "\n",
        "def get_token(token_id, tokenizer):\n",
        "    \"\"\"\n",
        "    Return the token corresponding to a token id.\n",
        "    \"\"\"\n",
        "    return tokenizer.backend_tokenizer.model.id_to_token(token_id)\n",
        "\n",
        "def encode(s, tokenizer):\n",
        "    \"\"\"\n",
        "    Encode a string with a tokenizer.\n",
        "    \"\"\"\n",
        "    # The difference with the standard encode function is that we remove the\n",
        "    # added blank space at the beginning of the string\n",
        "    normalized = tokenizer.backend_tokenizer.normalizer.normalize_str(s)[1:]\n",
        "    return [\n",
        "        x.as_tuple()[0]\n",
        "        for x in tokenizer.backend_tokenizer.model.tokenize(normalized)\n",
        "    ]\n",
        "\n",
        "class DirectMergeFSM(object):\n",
        "    \"\"\"\n",
        "    Object to create and build a DFA with DirectMerge.\n",
        "    \"\"\"\n",
        "\n",
        "    def __init__(self, fsm, letters, tokenizer):\n",
        "        \"\"\"\n",
        "        Initialize the DFA with the character-level DFA.\n",
        "        \"\"\"\n",
        "        self.tokenizer = tokenizer\n",
        "        inverse_alphabet = {\n",
        "            fsm.alphabet[x]: encode(x, tokenizer)[0]\n",
        "            for x in fsm.alphabet\n",
        "            if type(x) == str\n",
        "            if x in letters\n",
        "        }\n",
        "        anything_else = {encode(c, tokenizer)[0] for c in letters if c not in inverse_alphabet}\n",
        "        self.initial_state = fsm.initial\n",
        "        self.final_states = set(fsm.finals)\n",
        "        self.map = {s: {} for s in fsm.map}\n",
        "        for s in fsm.map:\n",
        "            for t in fsm.map[s]:\n",
        "                if t in inverse_alphabet:\n",
        "                    self.map[s][inverse_alphabet[t]] = fsm.map[s][t]\n",
        "                else:\n",
        "                    for c in anything_else:\n",
        "                        self.map[s][c] = fsm.map[s][t]\n",
        "        self.build_internal_variables()\n",
        "\n",
        "    def build_internal_variables(self):\n",
        "        \"\"\"\n",
        "        Create internal dictionaries that will be useful when processing the merge table.\n",
        "        \"\"\"\n",
        "        self.N = max(k for k in self.map) + 1\n",
        "        self.inverse_map = defaultdict(lambda: defaultdict(set))\n",
        "        self.token_to_start_state = defaultdict(set)\n",
        "        self.token_to_end_state = defaultdict(set)\n",
        "        for s in self.map:\n",
        "            for t in self.map[s]:\n",
        "                s2 = self.map[s][t]\n",
        "                self.token_to_start_state[t].add(s)\n",
        "                self.token_to_end_state[t].add(s2)\n",
        "                self.inverse_map[s2][t].add(s)\n",
        "\n",
        "    def add_edge(self, s, t, s2):\n",
        "        \"\"\"\n",
        "        Add a transition to the DFA.\n",
        "        \"\"\"\n",
        "        assert s not in self.map or t not in self.map[s]\n",
        "        if s not in self.map:\n",
        "            self.map[s] = {t: s2}\n",
        "        else:\n",
        "            self.map[s][t] = s2\n",
        "        self.inverse_map[s2][t].add(s)\n",
        "        self.token_to_start_state[t].add(s)\n",
        "        self.token_to_end_state[t].add(s2)\n",
        "\n",
        "    def remove_edge(self, s, t):\n",
        "        \"\"\"\n",
        "        Remove a transition to the DFA.\n",
        "        \"\"\"\n",
        "        s2 = self.map[s][t]\n",
        "        del self.map[s][t]\n",
        "        if len(self.inverse_map[s2][t]) == 1:\n",
        "            del self.inverse_map[s2][t]\n",
        "            self.token_to_end_state[t].remove(s2)\n",
        "        else:\n",
        "            self.inverse_map[s2][t].remove(s)\n",
        "        if len(self.token_to_start_state[t]) == 1:\n",
        "            del self.token_to_start_state[t]\n",
        "        else:\n",
        "            self.token_to_start_state[t].remove(s)\n",
        "\n",
        "    def remove_state(self, s):\n",
        "        \"\"\"\n",
        "        Remove a state to the DFA.\n",
        "        \"\"\"\n",
        "        to_remove = []\n",
        "        for t in self.map[s]:\n",
        "            to_remove.append((s, t))\n",
        "        for t in self.inverse_map[s]:\n",
        "            for s2 in self.inverse_map[s][t]:\n",
        "                to_remove.append((s2, t))\n",
        "        for x in to_remove:\n",
        "            self.remove_edge(*x)\n",
        "        del self.map[s]\n",
        "        del self.inverse_map[s]\n",
        "        self.final_states.discard(s)\n",
        "\n",
        "    def process_state(self, s, t1, t2, t3):\n",
        "        \"\"\"\n",
        "        Implement DirectMerge for a a single state.\n",
        "        \"\"\"\n",
        "        start_states = [x for x in self.inverse_map[s][t1]]\n",
        "        end_state = self.map[s][t2]\n",
        "        for start_state in start_states:\n",
        "            self.add_edge(start_state, t3, end_state)\n",
        "        other_incoming = (len(self.inverse_map[s]) > 1 or s == self.initial_state)\n",
        "        other_outgoing = (len(self.map[s]) > 1 or s in self.final_states)\n",
        "        if not other_incoming:\n",
        "            if not other_outgoing:\n",
        "                self.remove_state(s)\n",
        "            else:\n",
        "                self.remove_edge(s, t2)\n",
        "        else:\n",
        "            if not other_outgoing:\n",
        "                for start_state in start_states:\n",
        "                    self.remove_edge(start_state, t1)\n",
        "            else:\n",
        "                N, self.N = self.N, self.N + 1\n",
        "                self.map[N] = {}\n",
        "                to_remove, to_add = [], []\n",
        "                for start_state in start_states:\n",
        "                    to_remove.append((start_state, t1))\n",
        "                    to_add.append((start_state, t1, N))\n",
        "                for x in to_remove:\n",
        "                    self.remove_edge(*x)\n",
        "                for x in to_add:\n",
        "                    self.add_edge(*x)\n",
        "                for y in self.map[s]:\n",
        "                    if y != t2:\n",
        "                        self.add_edge(N, y, self.map[s][y])\n",
        "                if s in self.final_states:\n",
        "                    self.final_states.add(N)\n",
        "\n",
        "    def apply_merge_distinct(self, t1, t2, t3):\n",
        "        \"\"\"\n",
        "        Implement DirectMerge for a merge operation with two distinct tokens.\n",
        "        \"\"\"\n",
        "        affected_states = set(self.token_to_start_state[t2]).intersection(set(self.token_to_end_state[t1]))\n",
        "        for s in affected_states:\n",
        "            self.process_state(s, t1, t2, t3)\n",
        "\n",
        "    def apply_merge_same(self, t, t_merged):\n",
        "        \"\"\"\n",
        "        Implement DirectMerge for a merge operation with two identical tokens.\n",
        "        \"\"\"\n",
        "        num_states = self.N\n",
        "        # We first identify the concerned states.\n",
        "        affected_states = (\n",
        "            set(self.token_to_start_state[t])\n",
        "            .intersection(set(self.token_to_end_state[t]))\n",
        "        )\n",
        "\n",
        "        # We perform a breadth-first exploration to identify, among the\n",
        "        # concerned states, whether a complementary state needs to be created.\n",
        "        # This is the state if a concerned state has a parity of {0, 1}.\n",
        "        to_explore = []\n",
        "        reachable = set()\n",
        "        # We start the exploration from the initial state or the non-concerned\n",
        "        # states with an outgoing `a` transition to a concerned state.\n",
        "        for s in affected_states:\n",
        "            for s2 in self.inverse_map[s][t]:\n",
        "                if s2 not in affected_states:\n",
        "                    reachable.add((s, 1))\n",
        "                    break\n",
        "            already_added = False\n",
        "            for token in self.inverse_map[s]:\n",
        "                if t != token:\n",
        "                    for s2 in self.inverse_map[s][token]:\n",
        "                        if s2 not in affected_states:\n",
        "                            reachable.add((s, 0))\n",
        "                            already_added = True\n",
        "                            break\n",
        "                if already_added:\n",
        "                    break\n",
        "\n",
        "        if t in self.map[self.initial_state]:\n",
        "            s = self.map[self.initial_state][t]\n",
        "            if s in affected_states and (s, 1) not in reachable:\n",
        "                reachable.add((s, 1))\n",
        "        # We explore until we do not find any new state x parity configuration.\n",
        "        to_explore = list(reachable)\n",
        "        i, n = 0, len(to_explore)\n",
        "        while i < n:\n",
        "            s, parity = to_explore[i]\n",
        "            i += 1\n",
        "            other_parity = 1 - parity\n",
        "            s2 = self.map[s][t]\n",
        "            if s2 in affected_states and (s2, other_parity) not in reachable:\n",
        "                to_explore.append((s2, other_parity))\n",
        "                reachable.add((s2, other_parity))\n",
        "                n += 1\n",
        "        # We create a dictionary mapping the state x parity configurations to\n",
        "        # the id of the (potentially) new state.\n",
        "        augmented_states = {s: {} for s in affected_states}\n",
        "        for (s, parity) in reachable:\n",
        "            augmented_states[s][parity] = s\n",
        "        for s in augmented_states:\n",
        "            if len(augmented_states[s]) > 1:\n",
        "                # For a given state, we create an additional state if the parity\n",
        "                # is {0, 1}.\n",
        "                N, self.N = self.N, self.N + 1\n",
        "                self.map[N] = {}\n",
        "                augmented_states[s][1] = N\n",
        "                if s in self.final_states:\n",
        "                    self.final_states.add(N)\n",
        "\n",
        "        # We properly rewire the concerned and new states, first with the\n",
        "        # outgoing transitions.\n",
        "        to_remove, to_add = [], []\n",
        "        for s in augmented_states:\n",
        "                for token in self.map[s]:\n",
        "                    s2 = self.map[s][token]\n",
        "                    if token != t or s2 not in affected_states:\n",
        "                        if len(augmented_states[s]) > 1:\n",
        "                            to_add.append((augmented_states[s][1], token, s2))\n",
        "                    else:\n",
        "                        to_remove.append((s, t))\n",
        "                        if 0 in augmented_states[s]:\n",
        "                            to_add.append((augmented_states[s][0], t, augmented_states[s2][1]))\n",
        "                        if 1 in augmented_states[s]:\n",
        "                            to_add.append((augmented_states[s][1], t, augmented_states[s2][0]))\n",
        "        for x in to_remove:\n",
        "            self.remove_edge(*x)\n",
        "        for x in to_add:\n",
        "            self.add_edge(*x)\n",
        "\n",
        "        # We rewire the incoming transitions.\n",
        "        to_remove, to_add = [], []\n",
        "        for s in augmented_states:\n",
        "            if t in self.inverse_map[s]:\n",
        "                for s2 in self.inverse_map[s][t]:\n",
        "                    if (s2 not in affected_states) and (s2 < num_states):\n",
        "                        to_remove.append((s2, t))\n",
        "                        to_add.append((s2, t, augmented_states[s][1]))\n",
        "\n",
        "        for x in to_remove:\n",
        "            self.remove_edge(*x)\n",
        "        for x in to_add:\n",
        "            self.add_edge(*x)\n",
        "\n",
        "        # We apply the same transformations as before but only to the states\n",
        "        # with a parity of 1.\n",
        "        for s_initial in augmented_states:\n",
        "            if 1 in augmented_states[s_initial]:\n",
        "                s = augmented_states[s_initial][1]\n",
        "                self.process_state(s, t, t, t_merged)\n",
        "\n",
        "    def apply_merges(self, merge_table):\n",
        "        \"\"\"\n",
        "        Iteratively apply DirectMerge for all merge operations of the merge table.\n",
        "        \"\"\"\n",
        "        i = 0\n",
        "        for m in merge_table:\n",
        "            i += 1\n",
        "            token1, token2 = m.split(\" \")\n",
        "            id1 = self.tokenizer.backend_tokenizer.model.token_to_id(token1)\n",
        "            id2 = self.tokenizer.backend_tokenizer.model.token_to_id(token2)\n",
        "            id_merged = self.tokenizer.backend_tokenizer.model.token_to_id(\n",
        "                token1 + token2\n",
        "            )\n",
        "            assert id1 is not None and id2 is not None and id_merged is not None\n",
        "            if id1 == id2:\n",
        "                self.apply_merge_same(id1, id_merged)\n",
        "            else:\n",
        "                self.apply_merge_distinct(id1, id2, id_merged)\n",
        "\n",
        "    def get_dfa(self):\n",
        "        \"\"\"\n",
        "        Return the corresponding DFA in view of displaying it.\n",
        "        \"\"\"\n",
        "        transitions = {}\n",
        "        input_symbols = set()\n",
        "        for s in self.map:\n",
        "            transitions[s] = {}\n",
        "            for t in self.map[s]:\n",
        "                token = tokenizer.backend_tokenizer.model.id_to_token(t)\n",
        "                transitions[s][token] = self.map[s][t]\n",
        "                input_symbols.add(token)\n",
        "\n",
        "        return DFA(\n",
        "            states=set(self.map.keys()),\n",
        "            input_symbols=input_symbols,\n",
        "            transitions=transitions,\n",
        "            initial_state=self.initial_state,\n",
        "            final_states=set(self.final_states),\n",
        "            allow_partial=True\n",
        "        )"
      ],
      "metadata": {
        "id": "NUphRnT5oQvM"
      },
      "execution_count": null,
      "outputs": []
    },
    {
      "cell_type": "markdown",
      "source": [
        "## Test: basic configurations\n",
        "\n",
        "We test all the configurations presented as examples in sections 2 and 3 of the technical appendix"
      ],
      "metadata": {
        "id": "4WCDj0Hgon9X"
      }
    },
    {
      "cell_type": "code",
      "source": [
        "map = {0: {28708: 1}, 1: {28726: 2}, 2: {}}\n",
        "fsm = DirectMergeFSM(interegular.parse_pattern(\"abcd\").to_fsm(), string.printable, tokenizer)\n",
        "fsm.map = map\n",
        "fsm.final_states = set()\n",
        "fsm.initial_state = 0\n",
        "fsm.build_internal_variables()\n",
        "fsm.get_dfa().show_diagram()"
      ],
      "metadata": {
        "colab": {
          "base_uri": "https://localhost:8080/"
        },
        "id": "04o-5fvES4dn",
        "outputId": "fa50e5c8-cdaf-4b70-8b10-d7e3dfc8df4e"
      },
      "execution_count": null,
      "outputs": [
        {
          "output_type": "execute_result",
          "data": {
            "image/svg+xml": "<?xml version=\"1.0\" encoding=\"UTF-8\" standalone=\"no\"?>\n<!DOCTYPE svg PUBLIC \"-//W3C//DTD SVG 1.1//EN\"\n \"http://www.w3.org/Graphics/SVG/1.1/DTD/svg11.dtd\">\n<!-- Generated by graphviz version 2.43.0 (0)\n -->\n<!-- Pages: 1 -->\n<svg width=\"243pt\" height=\"44pt\"\n viewBox=\"0.00 0.00 242.60 44.00\" xmlns=\"http://www.w3.org/2000/svg\" xmlns:xlink=\"http://www.w3.org/1999/xlink\">\n<g id=\"graph0\" class=\"graph\" transform=\"scale(1 1) rotate(0) translate(4 40)\">\n<polygon fill=\"white\" stroke=\"transparent\" points=\"-4,4 -4,-40 238.6,-40 238.6,4 -4,4\"/>\n<!-- 51e325d4&#45;bbf0&#45;466f&#45;8002&#45;349439b326b7 -->\n<g id=\"node1\" class=\"node\">\n<title>51e325d4&#45;bbf0&#45;466f&#45;8002&#45;349439b326b7</title>\n<g id=\"a_node1\"><a xlink:title=\".\">\n<ellipse fill=\"black\" stroke=\"black\" cx=\"1.8\" cy=\"-18\" rx=\"1.8\" ry=\"1.8\"/>\n</a>\n</g>\n</g>\n<!-- 0 -->\n<g id=\"node2\" class=\"node\">\n<title>0</title>\n<ellipse fill=\"none\" stroke=\"black\" cx=\"58.6\" cy=\"-18\" rx=\"18\" ry=\"18\"/>\n<text text-anchor=\"middle\" x=\"58.6\" y=\"-14.3\" font-family=\"Times,serif\" font-size=\"14.00\">0</text>\n</g>\n<!-- 51e325d4&#45;bbf0&#45;466f&#45;8002&#45;349439b326b7&#45;&gt;0 -->\n<g id=\"edge1\" class=\"edge\">\n<title>51e325d4&#45;bbf0&#45;466f&#45;8002&#45;349439b326b7&#45;&gt;0</title>\n<g id=\"a_edge1\"><a xlink:title=\"&#45;&gt;0\">\n<path fill=\"none\" stroke=\"black\" d=\"M3.75,-18C7.25,-18 19.84,-18 31.96,-18\"/>\n<polygon fill=\"black\" stroke=\"black\" points=\"32.08,-20.98 40.58,-18 32.07,-15.03 32.08,-20.98\"/>\n</a>\n</g>\n</g>\n<!-- 1 -->\n<g id=\"node3\" class=\"node\">\n<title>1</title>\n<ellipse fill=\"none\" stroke=\"black\" cx=\"137.6\" cy=\"-18\" rx=\"18\" ry=\"18\"/>\n<text text-anchor=\"middle\" x=\"137.6\" y=\"-14.3\" font-family=\"Times,serif\" font-size=\"14.00\">1</text>\n</g>\n<!-- 0&#45;&gt;1 -->\n<g id=\"edge2\" class=\"edge\">\n<title>0&#45;&gt;1</title>\n<path fill=\"none\" stroke=\"black\" d=\"M76.69,-18C86.76,-18 99.69,-18 110.96,-18\"/>\n<polygon fill=\"black\" stroke=\"black\" points=\"111.06,-20.98 119.56,-18 111.06,-15.03 111.06,-20.98\"/>\n<text text-anchor=\"middle\" x=\"98.1\" y=\"-21.8\" font-family=\"Times,serif\" font-size=\"14.00\">a</text>\n</g>\n<!-- 2 -->\n<g id=\"node4\" class=\"node\">\n<title>2</title>\n<ellipse fill=\"none\" stroke=\"black\" cx=\"216.6\" cy=\"-18\" rx=\"18\" ry=\"18\"/>\n<text text-anchor=\"middle\" x=\"216.6\" y=\"-14.3\" font-family=\"Times,serif\" font-size=\"14.00\">2</text>\n</g>\n<!-- 1&#45;&gt;2 -->\n<g id=\"edge3\" class=\"edge\">\n<title>1&#45;&gt;2</title>\n<path fill=\"none\" stroke=\"black\" d=\"M155.69,-18C165.76,-18 178.69,-18 189.96,-18\"/>\n<polygon fill=\"black\" stroke=\"black\" points=\"190.06,-20.98 198.56,-18 190.06,-15.03 190.06,-20.98\"/>\n<text text-anchor=\"middle\" x=\"177.1\" y=\"-21.8\" font-family=\"Times,serif\" font-size=\"14.00\">b</text>\n</g>\n</g>\n</svg>\n",
            "text/plain": [
              "<AGraph <Swig Object of type 'Agraph_t *' at 0x7a2ed8aa2430>>"
            ]
          },
          "metadata": {},
          "execution_count": 5
        }
      ]
    },
    {
      "cell_type": "code",
      "source": [
        "fsm.apply_merge_distinct(28708, 28726, 375)\n",
        "fsm.get_dfa().show_diagram()"
      ],
      "metadata": {
        "colab": {
          "base_uri": "https://localhost:8080/"
        },
        "id": "SOUxPyp1UAJk",
        "outputId": "e02a0553-1f22-48cf-9d4e-e8f1d6086eb2"
      },
      "execution_count": null,
      "outputs": [
        {
          "output_type": "execute_result",
          "data": {
            "image/svg+xml": "<?xml version=\"1.0\" encoding=\"UTF-8\" standalone=\"no\"?>\n<!DOCTYPE svg PUBLIC \"-//W3C//DTD SVG 1.1//EN\"\n \"http://www.w3.org/Graphics/SVG/1.1/DTD/svg11.dtd\">\n<!-- Generated by graphviz version 2.43.0 (0)\n -->\n<!-- Pages: 1 -->\n<svg width=\"170pt\" height=\"44pt\"\n viewBox=\"0.00 0.00 169.60 44.00\" xmlns=\"http://www.w3.org/2000/svg\" xmlns:xlink=\"http://www.w3.org/1999/xlink\">\n<g id=\"graph0\" class=\"graph\" transform=\"scale(1 1) rotate(0) translate(4 40)\">\n<polygon fill=\"white\" stroke=\"transparent\" points=\"-4,4 -4,-40 165.6,-40 165.6,4 -4,4\"/>\n<!-- 2140109a&#45;4e87&#45;4f96&#45;b8b7&#45;b2ac07eacc18 -->\n<g id=\"node1\" class=\"node\">\n<title>2140109a&#45;4e87&#45;4f96&#45;b8b7&#45;b2ac07eacc18</title>\n<g id=\"a_node1\"><a xlink:title=\".\">\n<ellipse fill=\"black\" stroke=\"black\" cx=\"1.8\" cy=\"-18\" rx=\"1.8\" ry=\"1.8\"/>\n</a>\n</g>\n</g>\n<!-- 0 -->\n<g id=\"node2\" class=\"node\">\n<title>0</title>\n<ellipse fill=\"none\" stroke=\"black\" cx=\"58.6\" cy=\"-18\" rx=\"18\" ry=\"18\"/>\n<text text-anchor=\"middle\" x=\"58.6\" y=\"-14.3\" font-family=\"Times,serif\" font-size=\"14.00\">0</text>\n</g>\n<!-- 2140109a&#45;4e87&#45;4f96&#45;b8b7&#45;b2ac07eacc18&#45;&gt;0 -->\n<g id=\"edge1\" class=\"edge\">\n<title>2140109a&#45;4e87&#45;4f96&#45;b8b7&#45;b2ac07eacc18&#45;&gt;0</title>\n<g id=\"a_edge1\"><a xlink:title=\"&#45;&gt;0\">\n<path fill=\"none\" stroke=\"black\" d=\"M3.75,-18C7.25,-18 19.84,-18 31.96,-18\"/>\n<polygon fill=\"black\" stroke=\"black\" points=\"32.08,-20.98 40.58,-18 32.07,-15.03 32.08,-20.98\"/>\n</a>\n</g>\n</g>\n<!-- 2 -->\n<g id=\"node3\" class=\"node\">\n<title>2</title>\n<ellipse fill=\"none\" stroke=\"black\" cx=\"143.6\" cy=\"-18\" rx=\"18\" ry=\"18\"/>\n<text text-anchor=\"middle\" x=\"143.6\" y=\"-14.3\" font-family=\"Times,serif\" font-size=\"14.00\">2</text>\n</g>\n<!-- 0&#45;&gt;2 -->\n<g id=\"edge2\" class=\"edge\">\n<title>0&#45;&gt;2</title>\n<path fill=\"none\" stroke=\"black\" d=\"M76.8,-18C88.37,-18 103.84,-18 116.87,-18\"/>\n<polygon fill=\"black\" stroke=\"black\" points=\"116.92,-20.98 125.42,-18 116.92,-15.03 116.92,-20.98\"/>\n<text text-anchor=\"middle\" x=\"101.1\" y=\"-21.8\" font-family=\"Times,serif\" font-size=\"14.00\">ab</text>\n</g>\n</g>\n</svg>\n",
            "text/plain": [
              "<AGraph <Swig Object of type 'Agraph_t *' at 0x7a2fc96170f0>>"
            ]
          },
          "metadata": {},
          "execution_count": 6
        }
      ]
    },
    {
      "cell_type": "code",
      "source": [
        "map = {0: {28708: 1}, 1: {28726: 2}, 2: {}}\n",
        "fsm = DirectMergeFSM(interegular.parse_pattern(\"abcd\").to_fsm(), string.printable, tokenizer)\n",
        "fsm.map = map\n",
        "fsm.final_states = set([1])\n",
        "fsm.initial_state = 0\n",
        "fsm.build_internal_variables()\n",
        "fsm.get_dfa().show_diagram()"
      ],
      "metadata": {
        "colab": {
          "base_uri": "https://localhost:8080/"
        },
        "outputId": "d5087915-c902-4fa3-8beb-dac6af975dc7",
        "id": "RBfYcZApaZSi"
      },
      "execution_count": null,
      "outputs": [
        {
          "output_type": "execute_result",
          "data": {
            "image/svg+xml": "<?xml version=\"1.0\" encoding=\"UTF-8\" standalone=\"no\"?>\n<!DOCTYPE svg PUBLIC \"-//W3C//DTD SVG 1.1//EN\"\n \"http://www.w3.org/Graphics/SVG/1.1/DTD/svg11.dtd\">\n<!-- Generated by graphviz version 2.43.0 (0)\n -->\n<!-- Pages: 1 -->\n<svg width=\"251pt\" height=\"60pt\"\n viewBox=\"0.00 0.00 250.60 60.00\" xmlns=\"http://www.w3.org/2000/svg\" xmlns:xlink=\"http://www.w3.org/1999/xlink\">\n<g id=\"graph0\" class=\"graph\" transform=\"scale(1 1) rotate(0) translate(4 56)\">\n<polygon fill=\"white\" stroke=\"transparent\" points=\"-4,4 -4,-56 246.6,-56 246.6,4 -4,4\"/>\n<!-- 153079dc&#45;5e5e&#45;43ce&#45;9afd&#45;afe5243edf53 -->\n<g id=\"node1\" class=\"node\">\n<title>153079dc&#45;5e5e&#45;43ce&#45;9afd&#45;afe5243edf53</title>\n<g id=\"a_node1\"><a xlink:title=\".\">\n<ellipse fill=\"black\" stroke=\"black\" cx=\"1.8\" cy=\"-26\" rx=\"1.8\" ry=\"1.8\"/>\n</a>\n</g>\n</g>\n<!-- 0 -->\n<g id=\"node2\" class=\"node\">\n<title>0</title>\n<ellipse fill=\"none\" stroke=\"black\" cx=\"58.6\" cy=\"-26\" rx=\"18\" ry=\"18\"/>\n<text text-anchor=\"middle\" x=\"58.6\" y=\"-22.3\" font-family=\"Times,serif\" font-size=\"14.00\">0</text>\n</g>\n<!-- 153079dc&#45;5e5e&#45;43ce&#45;9afd&#45;afe5243edf53&#45;&gt;0 -->\n<g id=\"edge1\" class=\"edge\">\n<title>153079dc&#45;5e5e&#45;43ce&#45;9afd&#45;afe5243edf53&#45;&gt;0</title>\n<g id=\"a_edge1\"><a xlink:title=\"&#45;&gt;0\">\n<path fill=\"none\" stroke=\"black\" d=\"M3.75,-26C7.25,-26 19.84,-26 31.96,-26\"/>\n<polygon fill=\"black\" stroke=\"black\" points=\"32.08,-28.98 40.58,-26 32.07,-23.03 32.08,-28.98\"/>\n</a>\n</g>\n</g>\n<!-- 1 -->\n<g id=\"node3\" class=\"node\">\n<title>1</title>\n<ellipse fill=\"none\" stroke=\"black\" cx=\"141.6\" cy=\"-26\" rx=\"22\" ry=\"22\"/>\n<ellipse fill=\"none\" stroke=\"black\" cx=\"141.6\" cy=\"-26\" rx=\"26\" ry=\"26\"/>\n<text text-anchor=\"middle\" x=\"141.6\" y=\"-22.3\" font-family=\"Times,serif\" font-size=\"14.00\">1</text>\n</g>\n<!-- 0&#45;&gt;1 -->\n<g id=\"edge2\" class=\"edge\">\n<title>0&#45;&gt;1</title>\n<path fill=\"none\" stroke=\"black\" d=\"M76.78,-26C86.6,-26 99.19,-26 110.6,-26\"/>\n<polygon fill=\"black\" stroke=\"black\" points=\"110.91,-28.98 119.41,-26 110.91,-23.03 110.91,-28.98\"/>\n<text text-anchor=\"middle\" x=\"98.1\" y=\"-29.8\" font-family=\"Times,serif\" font-size=\"14.00\">a</text>\n</g>\n<!-- 2 -->\n<g id=\"node4\" class=\"node\">\n<title>2</title>\n<ellipse fill=\"none\" stroke=\"black\" cx=\"224.6\" cy=\"-26\" rx=\"18\" ry=\"18\"/>\n<text text-anchor=\"middle\" x=\"224.6\" y=\"-22.3\" font-family=\"Times,serif\" font-size=\"14.00\">2</text>\n</g>\n<!-- 1&#45;&gt;2 -->\n<g id=\"edge3\" class=\"edge\">\n<title>1&#45;&gt;2</title>\n<path fill=\"none\" stroke=\"black\" d=\"M163.88,-26C174.28,-26 186.88,-26 197.82,-26\"/>\n<polygon fill=\"black\" stroke=\"black\" points=\"198.04,-28.98 206.54,-26 198.04,-23.03 198.04,-28.98\"/>\n<text text-anchor=\"middle\" x=\"185.1\" y=\"-29.8\" font-family=\"Times,serif\" font-size=\"14.00\">b</text>\n</g>\n</g>\n</svg>\n",
            "text/plain": [
              "<AGraph <Swig Object of type 'Agraph_t *' at 0x7a2ed9530e70>>"
            ]
          },
          "metadata": {},
          "execution_count": 7
        }
      ]
    },
    {
      "cell_type": "code",
      "source": [
        "fsm.apply_merge_distinct(28708, 28726, 375)\n",
        "fsm.get_dfa().show_diagram()"
      ],
      "metadata": {
        "colab": {
          "base_uri": "https://localhost:8080/"
        },
        "outputId": "8d1a3293-35d2-41b8-e9b8-22bd82f1c950",
        "id": "4wD_fvj5aZSv"
      },
      "execution_count": null,
      "outputs": [
        {
          "output_type": "execute_result",
          "data": {
            "image/svg+xml": "<?xml version=\"1.0\" encoding=\"UTF-8\" standalone=\"no\"?>\n<!DOCTYPE svg PUBLIC \"-//W3C//DTD SVG 1.1//EN\"\n \"http://www.w3.org/Graphics/SVG/1.1/DTD/svg11.dtd\">\n<!-- Generated by graphviz version 2.43.0 (0)\n -->\n<!-- Pages: 1 -->\n<svg width=\"182pt\" height=\"110pt\"\n viewBox=\"0.00 0.00 181.60 110.00\" xmlns=\"http://www.w3.org/2000/svg\" xmlns:xlink=\"http://www.w3.org/1999/xlink\">\n<g id=\"graph0\" class=\"graph\" transform=\"scale(1 1) rotate(0) translate(4 106)\">\n<polygon fill=\"white\" stroke=\"transparent\" points=\"-4,4 -4,-106 177.6,-106 177.6,4 -4,4\"/>\n<!-- 8f01c7df&#45;c24f&#45;4e1e&#45;b58e&#45;a7a1f5e00aa2 -->\n<g id=\"node1\" class=\"node\">\n<title>8f01c7df&#45;c24f&#45;4e1e&#45;b58e&#45;a7a1f5e00aa2</title>\n<g id=\"a_node1\"><a xlink:title=\".\">\n<ellipse fill=\"black\" stroke=\"black\" cx=\"1.8\" cy=\"-55\" rx=\"1.8\" ry=\"1.8\"/>\n</a>\n</g>\n</g>\n<!-- 0 -->\n<g id=\"node2\" class=\"node\">\n<title>0</title>\n<ellipse fill=\"none\" stroke=\"black\" cx=\"58.6\" cy=\"-55\" rx=\"18\" ry=\"18\"/>\n<text text-anchor=\"middle\" x=\"58.6\" y=\"-51.3\" font-family=\"Times,serif\" font-size=\"14.00\">0</text>\n</g>\n<!-- 8f01c7df&#45;c24f&#45;4e1e&#45;b58e&#45;a7a1f5e00aa2&#45;&gt;0 -->\n<g id=\"edge1\" class=\"edge\">\n<title>8f01c7df&#45;c24f&#45;4e1e&#45;b58e&#45;a7a1f5e00aa2&#45;&gt;0</title>\n<g id=\"a_edge1\"><a xlink:title=\"&#45;&gt;0\">\n<path fill=\"none\" stroke=\"black\" d=\"M3.75,-55C7.25,-55 19.84,-55 31.96,-55\"/>\n<polygon fill=\"black\" stroke=\"black\" points=\"32.08,-57.98 40.58,-55 32.07,-52.03 32.08,-57.98\"/>\n</a>\n</g>\n</g>\n<!-- 2 -->\n<g id=\"node3\" class=\"node\">\n<title>2</title>\n<ellipse fill=\"none\" stroke=\"black\" cx=\"147.6\" cy=\"-84\" rx=\"18\" ry=\"18\"/>\n<text text-anchor=\"middle\" x=\"147.6\" y=\"-80.3\" font-family=\"Times,serif\" font-size=\"14.00\">2</text>\n</g>\n<!-- 0&#45;&gt;2 -->\n<g id=\"edge2\" class=\"edge\">\n<title>0&#45;&gt;2</title>\n<path fill=\"none\" stroke=\"black\" d=\"M75.96,-60.45C88.97,-64.79 107.35,-70.92 122.11,-75.84\"/>\n<polygon fill=\"black\" stroke=\"black\" points=\"121.31,-78.7 130.31,-78.57 123.19,-73.06 121.31,-78.7\"/>\n<text text-anchor=\"middle\" x=\"101.1\" y=\"-73.8\" font-family=\"Times,serif\" font-size=\"14.00\">ab</text>\n</g>\n<!-- 1 -->\n<g id=\"node4\" class=\"node\">\n<title>1</title>\n<ellipse fill=\"none\" stroke=\"black\" cx=\"147.6\" cy=\"-26\" rx=\"22\" ry=\"22\"/>\n<ellipse fill=\"none\" stroke=\"black\" cx=\"147.6\" cy=\"-26\" rx=\"26\" ry=\"26\"/>\n<text text-anchor=\"middle\" x=\"147.6\" y=\"-22.3\" font-family=\"Times,serif\" font-size=\"14.00\">1</text>\n</g>\n<!-- 0&#45;&gt;1 -->\n<g id=\"edge3\" class=\"edge\">\n<title>0&#45;&gt;1</title>\n<path fill=\"none\" stroke=\"black\" d=\"M75.96,-49.55C87.78,-45.6 104.06,-40.18 118,-35.53\"/>\n<polygon fill=\"black\" stroke=\"black\" points=\"119.21,-38.27 126.33,-32.76 117.33,-32.62 119.21,-38.27\"/>\n<text text-anchor=\"middle\" x=\"101.1\" y=\"-46.8\" font-family=\"Times,serif\" font-size=\"14.00\">a</text>\n</g>\n</g>\n</svg>\n",
            "text/plain": [
              "<AGraph <Swig Object of type 'Agraph_t *' at 0x7a2ed8aa3810>>"
            ]
          },
          "metadata": {},
          "execution_count": 8
        }
      ]
    },
    {
      "cell_type": "code",
      "source": [
        "map = {0: {28708: 1}, 1: {28726: 2, 28724: 3}, 3: {}, 2: {}}\n",
        "fsm = DirectMergeFSM(interegular.parse_pattern(\"abcd\").to_fsm(), string.printable, tokenizer)\n",
        "fsm.map = map\n",
        "fsm.final_states = set()\n",
        "fsm.initial_state = 0\n",
        "fsm.build_internal_variables()\n",
        "fsm.get_dfa().show_diagram()"
      ],
      "metadata": {
        "colab": {
          "base_uri": "https://localhost:8080/"
        },
        "outputId": "f04eea8d-a39a-456b-cfcc-a7d28448d6a3",
        "id": "ArurTDzpa2_F"
      },
      "execution_count": null,
      "outputs": [
        {
          "output_type": "execute_result",
          "data": {
            "image/svg+xml": "<?xml version=\"1.0\" encoding=\"UTF-8\" standalone=\"no\"?>\n<!DOCTYPE svg PUBLIC \"-//W3C//DTD SVG 1.1//EN\"\n \"http://www.w3.org/Graphics/SVG/1.1/DTD/svg11.dtd\">\n<!-- Generated by graphviz version 2.43.0 (0)\n -->\n<!-- Pages: 1 -->\n<svg width=\"243pt\" height=\"98pt\"\n viewBox=\"0.00 0.00 242.60 98.00\" xmlns=\"http://www.w3.org/2000/svg\" xmlns:xlink=\"http://www.w3.org/1999/xlink\">\n<g id=\"graph0\" class=\"graph\" transform=\"scale(1 1) rotate(0) translate(4 94)\">\n<polygon fill=\"white\" stroke=\"transparent\" points=\"-4,4 -4,-94 238.6,-94 238.6,4 -4,4\"/>\n<!-- 16d67160&#45;310a&#45;48b4&#45;a09e&#45;00dfcd2eb3c9 -->\n<g id=\"node1\" class=\"node\">\n<title>16d67160&#45;310a&#45;48b4&#45;a09e&#45;00dfcd2eb3c9</title>\n<g id=\"a_node1\"><a xlink:title=\".\">\n<ellipse fill=\"black\" stroke=\"black\" cx=\"1.8\" cy=\"-45\" rx=\"1.8\" ry=\"1.8\"/>\n</a>\n</g>\n</g>\n<!-- 0 -->\n<g id=\"node2\" class=\"node\">\n<title>0</title>\n<ellipse fill=\"none\" stroke=\"black\" cx=\"58.6\" cy=\"-45\" rx=\"18\" ry=\"18\"/>\n<text text-anchor=\"middle\" x=\"58.6\" y=\"-41.3\" font-family=\"Times,serif\" font-size=\"14.00\">0</text>\n</g>\n<!-- 16d67160&#45;310a&#45;48b4&#45;a09e&#45;00dfcd2eb3c9&#45;&gt;0 -->\n<g id=\"edge1\" class=\"edge\">\n<title>16d67160&#45;310a&#45;48b4&#45;a09e&#45;00dfcd2eb3c9&#45;&gt;0</title>\n<g id=\"a_edge1\"><a xlink:title=\"&#45;&gt;0\">\n<path fill=\"none\" stroke=\"black\" d=\"M3.75,-45C7.25,-45 19.84,-45 31.96,-45\"/>\n<polygon fill=\"black\" stroke=\"black\" points=\"32.08,-47.98 40.58,-45 32.07,-42.03 32.08,-47.98\"/>\n</a>\n</g>\n</g>\n<!-- 1 -->\n<g id=\"node3\" class=\"node\">\n<title>1</title>\n<ellipse fill=\"none\" stroke=\"black\" cx=\"137.6\" cy=\"-45\" rx=\"18\" ry=\"18\"/>\n<text text-anchor=\"middle\" x=\"137.6\" y=\"-41.3\" font-family=\"Times,serif\" font-size=\"14.00\">1</text>\n</g>\n<!-- 0&#45;&gt;1 -->\n<g id=\"edge2\" class=\"edge\">\n<title>0&#45;&gt;1</title>\n<path fill=\"none\" stroke=\"black\" d=\"M76.69,-45C86.76,-45 99.69,-45 110.96,-45\"/>\n<polygon fill=\"black\" stroke=\"black\" points=\"111.06,-47.98 119.56,-45 111.06,-42.03 111.06,-47.98\"/>\n<text text-anchor=\"middle\" x=\"98.1\" y=\"-48.8\" font-family=\"Times,serif\" font-size=\"14.00\">a</text>\n</g>\n<!-- 2 -->\n<g id=\"node4\" class=\"node\">\n<title>2</title>\n<ellipse fill=\"none\" stroke=\"black\" cx=\"216.6\" cy=\"-72\" rx=\"18\" ry=\"18\"/>\n<text text-anchor=\"middle\" x=\"216.6\" y=\"-68.3\" font-family=\"Times,serif\" font-size=\"14.00\">2</text>\n</g>\n<!-- 1&#45;&gt;2 -->\n<g id=\"edge3\" class=\"edge\">\n<title>1&#45;&gt;2</title>\n<path fill=\"none\" stroke=\"black\" d=\"M154.93,-50.73C165.44,-54.41 179.31,-59.27 191.13,-63.42\"/>\n<polygon fill=\"black\" stroke=\"black\" points=\"190.28,-66.27 199.29,-66.28 192.25,-60.66 190.28,-66.27\"/>\n<text text-anchor=\"middle\" x=\"177.1\" y=\"-62.8\" font-family=\"Times,serif\" font-size=\"14.00\">b</text>\n</g>\n<!-- 3 -->\n<g id=\"node5\" class=\"node\">\n<title>3</title>\n<ellipse fill=\"none\" stroke=\"black\" cx=\"216.6\" cy=\"-18\" rx=\"18\" ry=\"18\"/>\n<text text-anchor=\"middle\" x=\"216.6\" y=\"-14.3\" font-family=\"Times,serif\" font-size=\"14.00\">3</text>\n</g>\n<!-- 1&#45;&gt;3 -->\n<g id=\"edge4\" class=\"edge\">\n<title>1&#45;&gt;3</title>\n<path fill=\"none\" stroke=\"black\" d=\"M154.93,-39.27C165.44,-35.59 179.31,-30.73 191.13,-26.58\"/>\n<polygon fill=\"black\" stroke=\"black\" points=\"192.25,-29.34 199.29,-23.72 190.28,-23.73 192.25,-29.34\"/>\n<text text-anchor=\"middle\" x=\"177.1\" y=\"-35.8\" font-family=\"Times,serif\" font-size=\"14.00\">y</text>\n</g>\n</g>\n</svg>\n",
            "text/plain": [
              "<AGraph <Swig Object of type 'Agraph_t *' at 0x7a2ed9531740>>"
            ]
          },
          "metadata": {},
          "execution_count": 9
        }
      ]
    },
    {
      "cell_type": "code",
      "source": [
        "fsm.apply_merge_distinct(28708, 28726, 375)\n",
        "fsm.get_dfa().show_diagram()"
      ],
      "metadata": {
        "colab": {
          "base_uri": "https://localhost:8080/"
        },
        "outputId": "07ec6867-c235-4397-bb25-14bf29b7b040",
        "id": "eEMR8D8Qa2_f"
      },
      "execution_count": null,
      "outputs": [
        {
          "output_type": "execute_result",
          "data": {
            "image/svg+xml": "<?xml version=\"1.0\" encoding=\"UTF-8\" standalone=\"no\"?>\n<!DOCTYPE svg PUBLIC \"-//W3C//DTD SVG 1.1//EN\"\n \"http://www.w3.org/Graphics/SVG/1.1/DTD/svg11.dtd\">\n<!-- Generated by graphviz version 2.43.0 (0)\n -->\n<!-- Pages: 1 -->\n<svg width=\"249pt\" height=\"98pt\"\n viewBox=\"0.00 0.00 248.60 98.00\" xmlns=\"http://www.w3.org/2000/svg\" xmlns:xlink=\"http://www.w3.org/1999/xlink\">\n<g id=\"graph0\" class=\"graph\" transform=\"scale(1 1) rotate(0) translate(4 94)\">\n<polygon fill=\"white\" stroke=\"transparent\" points=\"-4,4 -4,-94 244.6,-94 244.6,4 -4,4\"/>\n<!-- 2352fa8a&#45;b9a2&#45;4ae6&#45;b785&#45;11fd260ebd95 -->\n<g id=\"node1\" class=\"node\">\n<title>2352fa8a&#45;b9a2&#45;4ae6&#45;b785&#45;11fd260ebd95</title>\n<g id=\"a_node1\"><a xlink:title=\".\">\n<ellipse fill=\"black\" stroke=\"black\" cx=\"1.8\" cy=\"-37\" rx=\"1.8\" ry=\"1.8\"/>\n</a>\n</g>\n</g>\n<!-- 0 -->\n<g id=\"node2\" class=\"node\">\n<title>0</title>\n<ellipse fill=\"none\" stroke=\"black\" cx=\"58.6\" cy=\"-37\" rx=\"18\" ry=\"18\"/>\n<text text-anchor=\"middle\" x=\"58.6\" y=\"-33.3\" font-family=\"Times,serif\" font-size=\"14.00\">0</text>\n</g>\n<!-- 2352fa8a&#45;b9a2&#45;4ae6&#45;b785&#45;11fd260ebd95&#45;&gt;0 -->\n<g id=\"edge1\" class=\"edge\">\n<title>2352fa8a&#45;b9a2&#45;4ae6&#45;b785&#45;11fd260ebd95&#45;&gt;0</title>\n<g id=\"a_edge1\"><a xlink:title=\"&#45;&gt;0\">\n<path fill=\"none\" stroke=\"black\" d=\"M3.75,-37C7.25,-37 19.84,-37 31.96,-37\"/>\n<polygon fill=\"black\" stroke=\"black\" points=\"32.08,-39.98 40.58,-37 32.07,-34.03 32.08,-39.98\"/>\n</a>\n</g>\n</g>\n<!-- 1 -->\n<g id=\"node3\" class=\"node\">\n<title>1</title>\n<ellipse fill=\"none\" stroke=\"black\" cx=\"143.6\" cy=\"-72\" rx=\"18\" ry=\"18\"/>\n<text text-anchor=\"middle\" x=\"143.6\" y=\"-68.3\" font-family=\"Times,serif\" font-size=\"14.00\">1</text>\n</g>\n<!-- 0&#45;&gt;1 -->\n<g id=\"edge2\" class=\"edge\">\n<title>0&#45;&gt;1</title>\n<path fill=\"none\" stroke=\"black\" d=\"M75.6,-43.75C87.78,-48.88 104.72,-56.03 118.53,-61.85\"/>\n<polygon fill=\"black\" stroke=\"black\" points=\"117.66,-64.71 126.65,-65.27 119.97,-59.23 117.66,-64.71\"/>\n<text text-anchor=\"middle\" x=\"101.1\" y=\"-60.8\" font-family=\"Times,serif\" font-size=\"14.00\">a</text>\n</g>\n<!-- 2 -->\n<g id=\"node4\" class=\"node\">\n<title>2</title>\n<ellipse fill=\"none\" stroke=\"black\" cx=\"143.6\" cy=\"-18\" rx=\"18\" ry=\"18\"/>\n<text text-anchor=\"middle\" x=\"143.6\" y=\"-14.3\" font-family=\"Times,serif\" font-size=\"14.00\">2</text>\n</g>\n<!-- 0&#45;&gt;2 -->\n<g id=\"edge3\" class=\"edge\">\n<title>0&#45;&gt;2</title>\n<path fill=\"none\" stroke=\"black\" d=\"M75.9,-32C81.76,-30.3 88.45,-28.45 94.6,-27 101.79,-25.3 109.66,-23.72 116.9,-22.36\"/>\n<polygon fill=\"black\" stroke=\"black\" points=\"117.8,-25.22 125.64,-20.78 116.75,-19.37 117.8,-25.22\"/>\n<text text-anchor=\"middle\" x=\"101.1\" y=\"-30.8\" font-family=\"Times,serif\" font-size=\"14.00\">ab</text>\n</g>\n<!-- 3 -->\n<g id=\"node5\" class=\"node\">\n<title>3</title>\n<ellipse fill=\"none\" stroke=\"black\" cx=\"222.6\" cy=\"-72\" rx=\"18\" ry=\"18\"/>\n<text text-anchor=\"middle\" x=\"222.6\" y=\"-68.3\" font-family=\"Times,serif\" font-size=\"14.00\">3</text>\n</g>\n<!-- 1&#45;&gt;3 -->\n<g id=\"edge4\" class=\"edge\">\n<title>1&#45;&gt;3</title>\n<path fill=\"none\" stroke=\"black\" d=\"M161.69,-72C171.76,-72 184.69,-72 195.96,-72\"/>\n<polygon fill=\"black\" stroke=\"black\" points=\"196.06,-74.98 204.56,-72 196.06,-69.03 196.06,-74.98\"/>\n<text text-anchor=\"middle\" x=\"183.1\" y=\"-75.8\" font-family=\"Times,serif\" font-size=\"14.00\">y</text>\n</g>\n</g>\n</svg>\n",
            "text/plain": [
              "<AGraph <Swig Object of type 'Agraph_t *' at 0x7a2ed8aa1e30>>"
            ]
          },
          "metadata": {},
          "execution_count": 10
        }
      ]
    },
    {
      "cell_type": "code",
      "source": [
        "map = {0: {28708: 1}, 1: {28726: 2}, 3: {28744: 1}, 2: {}}\n",
        "fsm = DirectMergeFSM(interegular.parse_pattern(\"abcd\").to_fsm(), string.printable, tokenizer)\n",
        "fsm.map = map\n",
        "fsm.final_states = set()\n",
        "fsm.initial_state = 0\n",
        "fsm.build_internal_variables()\n",
        "fsm.get_dfa().show_diagram()"
      ],
      "metadata": {
        "colab": {
          "base_uri": "https://localhost:8080/"
        },
        "outputId": "3604cfc9-1595-4374-dae0-0d98f849b735",
        "id": "RBGHVna4bkvh"
      },
      "execution_count": null,
      "outputs": [
        {
          "output_type": "execute_result",
          "data": {
            "image/svg+xml": "<?xml version=\"1.0\" encoding=\"UTF-8\" standalone=\"no\"?>\n<!DOCTYPE svg PUBLIC \"-//W3C//DTD SVG 1.1//EN\"\n \"http://www.w3.org/Graphics/SVG/1.1/DTD/svg11.dtd\">\n<!-- Generated by graphviz version 2.43.0 (0)\n -->\n<!-- Pages: 1 -->\n<svg width=\"243pt\" height=\"98pt\"\n viewBox=\"0.00 0.00 242.60 98.00\" xmlns=\"http://www.w3.org/2000/svg\" xmlns:xlink=\"http://www.w3.org/1999/xlink\">\n<g id=\"graph0\" class=\"graph\" transform=\"scale(1 1) rotate(0) translate(4 94)\">\n<polygon fill=\"white\" stroke=\"transparent\" points=\"-4,4 -4,-94 238.6,-94 238.6,4 -4,4\"/>\n<!-- c15a0960&#45;568e&#45;4b2a&#45;8a3d&#45;cc189b9584ea -->\n<g id=\"node1\" class=\"node\">\n<title>c15a0960&#45;568e&#45;4b2a&#45;8a3d&#45;cc189b9584ea</title>\n<g id=\"a_node1\"><a xlink:title=\".\">\n<ellipse fill=\"black\" stroke=\"black\" cx=\"1.8\" cy=\"-72\" rx=\"1.8\" ry=\"1.8\"/>\n</a>\n</g>\n</g>\n<!-- 0 -->\n<g id=\"node2\" class=\"node\">\n<title>0</title>\n<ellipse fill=\"none\" stroke=\"black\" cx=\"58.6\" cy=\"-72\" rx=\"18\" ry=\"18\"/>\n<text text-anchor=\"middle\" x=\"58.6\" y=\"-68.3\" font-family=\"Times,serif\" font-size=\"14.00\">0</text>\n</g>\n<!-- c15a0960&#45;568e&#45;4b2a&#45;8a3d&#45;cc189b9584ea&#45;&gt;0 -->\n<g id=\"edge1\" class=\"edge\">\n<title>c15a0960&#45;568e&#45;4b2a&#45;8a3d&#45;cc189b9584ea&#45;&gt;0</title>\n<g id=\"a_edge1\"><a xlink:title=\"&#45;&gt;0\">\n<path fill=\"none\" stroke=\"black\" d=\"M3.75,-72C7.25,-72 19.84,-72 31.96,-72\"/>\n<polygon fill=\"black\" stroke=\"black\" points=\"32.08,-74.98 40.58,-72 32.07,-69.03 32.08,-74.98\"/>\n</a>\n</g>\n</g>\n<!-- 1 -->\n<g id=\"node3\" class=\"node\">\n<title>1</title>\n<ellipse fill=\"none\" stroke=\"black\" cx=\"137.6\" cy=\"-37\" rx=\"18\" ry=\"18\"/>\n<text text-anchor=\"middle\" x=\"137.6\" y=\"-33.3\" font-family=\"Times,serif\" font-size=\"14.00\">1</text>\n</g>\n<!-- 0&#45;&gt;1 -->\n<g id=\"edge2\" class=\"edge\">\n<title>0&#45;&gt;1</title>\n<path fill=\"none\" stroke=\"black\" d=\"M75.18,-64.92C86.04,-59.98 100.71,-53.31 113,-47.73\"/>\n<polygon fill=\"black\" stroke=\"black\" points=\"114.53,-50.3 121.04,-44.07 112.07,-44.88 114.53,-50.3\"/>\n<text text-anchor=\"middle\" x=\"98.1\" y=\"-59.8\" font-family=\"Times,serif\" font-size=\"14.00\">a</text>\n</g>\n<!-- 2 -->\n<g id=\"node4\" class=\"node\">\n<title>2</title>\n<ellipse fill=\"none\" stroke=\"black\" cx=\"216.6\" cy=\"-37\" rx=\"18\" ry=\"18\"/>\n<text text-anchor=\"middle\" x=\"216.6\" y=\"-33.3\" font-family=\"Times,serif\" font-size=\"14.00\">2</text>\n</g>\n<!-- 1&#45;&gt;2 -->\n<g id=\"edge3\" class=\"edge\">\n<title>1&#45;&gt;2</title>\n<path fill=\"none\" stroke=\"black\" d=\"M155.69,-37C165.76,-37 178.69,-37 189.96,-37\"/>\n<polygon fill=\"black\" stroke=\"black\" points=\"190.06,-39.98 198.56,-37 190.06,-34.03 190.06,-39.98\"/>\n<text text-anchor=\"middle\" x=\"177.1\" y=\"-40.8\" font-family=\"Times,serif\" font-size=\"14.00\">b</text>\n</g>\n<!-- 3 -->\n<g id=\"node5\" class=\"node\">\n<title>3</title>\n<ellipse fill=\"none\" stroke=\"black\" cx=\"58.6\" cy=\"-18\" rx=\"18\" ry=\"18\"/>\n<text text-anchor=\"middle\" x=\"58.6\" y=\"-14.3\" font-family=\"Times,serif\" font-size=\"14.00\">3</text>\n</g>\n<!-- 3&#45;&gt;1 -->\n<g id=\"edge4\" class=\"edge\">\n<title>3&#45;&gt;1</title>\n<path fill=\"none\" stroke=\"black\" d=\"M76.42,-21.33C84.12,-22.93 93.35,-24.94 101.6,-27 104.95,-27.84 108.47,-28.77 111.93,-29.73\"/>\n<polygon fill=\"black\" stroke=\"black\" points=\"111.29,-32.64 120.28,-32.09 112.91,-26.91 111.29,-32.64\"/>\n<text text-anchor=\"middle\" x=\"98.1\" y=\"-30.8\" font-family=\"Times,serif\" font-size=\"14.00\">x</text>\n</g>\n</g>\n</svg>\n",
            "text/plain": [
              "<AGraph <Swig Object of type 'Agraph_t *' at 0x7a2fc882f060>>"
            ]
          },
          "metadata": {},
          "execution_count": 11
        }
      ]
    },
    {
      "cell_type": "code",
      "source": [
        "fsm.apply_merge_distinct(28708, 28726, 375)\n",
        "fsm.get_dfa().show_diagram()"
      ],
      "metadata": {
        "colab": {
          "base_uri": "https://localhost:8080/"
        },
        "outputId": "75c94944-4894-4f0c-a3a9-767d91cc4f6a",
        "id": "fdzT9dWqbkvu"
      },
      "execution_count": null,
      "outputs": [
        {
          "output_type": "execute_result",
          "data": {
            "image/svg+xml": "<?xml version=\"1.0\" encoding=\"UTF-8\" standalone=\"no\"?>\n<!DOCTYPE svg PUBLIC \"-//W3C//DTD SVG 1.1//EN\"\n \"http://www.w3.org/Graphics/SVG/1.1/DTD/svg11.dtd\">\n<!-- Generated by graphviz version 2.43.0 (0)\n -->\n<!-- Pages: 1 -->\n<svg width=\"208pt\" height=\"98pt\"\n viewBox=\"0.00 0.00 208.00 98.00\" xmlns=\"http://www.w3.org/2000/svg\" xmlns:xlink=\"http://www.w3.org/1999/xlink\">\n<g id=\"graph0\" class=\"graph\" transform=\"scale(1 1) rotate(0) translate(4 94)\">\n<polygon fill=\"white\" stroke=\"transparent\" points=\"-4,4 -4,-94 204,-94 204,4 -4,4\"/>\n<!-- 4a067917&#45;8170&#45;4ae3&#45;ba45&#45;a3fd49c4840a -->\n<g id=\"node1\" class=\"node\">\n<title>4a067917&#45;8170&#45;4ae3&#45;ba45&#45;a3fd49c4840a</title>\n<g id=\"a_node1\"><a xlink:title=\".\">\n<ellipse fill=\"black\" stroke=\"black\" cx=\"18\" cy=\"-72\" rx=\"1.8\" ry=\"1.8\"/>\n</a>\n</g>\n</g>\n<!-- 0 -->\n<g id=\"node2\" class=\"node\">\n<title>0</title>\n<ellipse fill=\"none\" stroke=\"black\" cx=\"97\" cy=\"-72\" rx=\"18\" ry=\"18\"/>\n<text text-anchor=\"middle\" x=\"97\" y=\"-68.3\" font-family=\"Times,serif\" font-size=\"14.00\">0</text>\n</g>\n<!-- 4a067917&#45;8170&#45;4ae3&#45;ba45&#45;a3fd49c4840a&#45;&gt;0 -->\n<g id=\"edge1\" class=\"edge\">\n<title>4a067917&#45;8170&#45;4ae3&#45;ba45&#45;a3fd49c4840a&#45;&gt;0</title>\n<g id=\"a_edge1\"><a xlink:title=\"&#45;&gt;0\">\n<path fill=\"none\" stroke=\"black\" d=\"M19.86,-72C24.84,-72 50.34,-72 70.48,-72\"/>\n<polygon fill=\"black\" stroke=\"black\" points=\"70.48,-74.98 78.98,-72 70.48,-69.03 70.48,-74.98\"/>\n</a>\n</g>\n</g>\n<!-- 2 -->\n<g id=\"node3\" class=\"node\">\n<title>2</title>\n<ellipse fill=\"none\" stroke=\"black\" cx=\"182\" cy=\"-45\" rx=\"18\" ry=\"18\"/>\n<text text-anchor=\"middle\" x=\"182\" y=\"-41.3\" font-family=\"Times,serif\" font-size=\"14.00\">2</text>\n</g>\n<!-- 0&#45;&gt;2 -->\n<g id=\"edge2\" class=\"edge\">\n<title>0&#45;&gt;2</title>\n<path fill=\"none\" stroke=\"black\" d=\"M114.4,-66.67C126.33,-62.78 142.71,-57.46 156.23,-53.06\"/>\n<polygon fill=\"black\" stroke=\"black\" points=\"157.48,-55.78 164.64,-50.32 155.64,-50.12 157.48,-55.78\"/>\n<text text-anchor=\"middle\" x=\"139.5\" y=\"-63.8\" font-family=\"Times,serif\" font-size=\"14.00\">ab</text>\n</g>\n<!-- 1 -->\n<g id=\"node4\" class=\"node\">\n<title>1</title>\n<ellipse fill=\"none\" stroke=\"black\" cx=\"97\" cy=\"-18\" rx=\"18\" ry=\"18\"/>\n<text text-anchor=\"middle\" x=\"97\" y=\"-14.3\" font-family=\"Times,serif\" font-size=\"14.00\">1</text>\n</g>\n<!-- 1&#45;&gt;2 -->\n<g id=\"edge3\" class=\"edge\">\n<title>1&#45;&gt;2</title>\n<path fill=\"none\" stroke=\"black\" d=\"M114.4,-23.33C126.33,-27.22 142.71,-32.54 156.23,-36.94\"/>\n<polygon fill=\"black\" stroke=\"black\" points=\"155.64,-39.88 164.64,-39.68 157.48,-34.22 155.64,-39.88\"/>\n<text text-anchor=\"middle\" x=\"139.5\" y=\"-37.8\" font-family=\"Times,serif\" font-size=\"14.00\">b</text>\n</g>\n<!-- 3 -->\n<g id=\"node5\" class=\"node\">\n<title>3</title>\n<ellipse fill=\"none\" stroke=\"black\" cx=\"18\" cy=\"-18\" rx=\"18\" ry=\"18\"/>\n<text text-anchor=\"middle\" x=\"18\" y=\"-14.3\" font-family=\"Times,serif\" font-size=\"14.00\">3</text>\n</g>\n<!-- 3&#45;&gt;1 -->\n<g id=\"edge4\" class=\"edge\">\n<title>3&#45;&gt;1</title>\n<path fill=\"none\" stroke=\"black\" d=\"M36.09,-18C46.16,-18 59.09,-18 70.36,-18\"/>\n<polygon fill=\"black\" stroke=\"black\" points=\"70.46,-20.98 78.96,-18 70.46,-15.03 70.46,-20.98\"/>\n<text text-anchor=\"middle\" x=\"57.5\" y=\"-21.8\" font-family=\"Times,serif\" font-size=\"14.00\">x</text>\n</g>\n</g>\n</svg>\n",
            "text/plain": [
              "<AGraph <Swig Object of type 'Agraph_t *' at 0x7a2fc882f0c0>>"
            ]
          },
          "metadata": {},
          "execution_count": 12
        }
      ]
    },
    {
      "cell_type": "code",
      "source": [
        "map = {0: {28708: 1}, 1: {28726: 2}, 2: {}}\n",
        "fsm = DirectMergeFSM(interegular.parse_pattern(\"abcd\").to_fsm(), string.printable, tokenizer)\n",
        "fsm.map = map\n",
        "fsm.final_states = set()\n",
        "fsm.initial_state = 1\n",
        "fsm.build_internal_variables()\n",
        "fsm.get_dfa().show_diagram()"
      ],
      "metadata": {
        "colab": {
          "base_uri": "https://localhost:8080/"
        },
        "outputId": "32c975d9-4ad3-430b-f0d9-4cc9d7dac803",
        "id": "7FSw3bgWbwtD"
      },
      "execution_count": null,
      "outputs": [
        {
          "output_type": "execute_result",
          "data": {
            "image/svg+xml": "<?xml version=\"1.0\" encoding=\"UTF-8\" standalone=\"no\"?>\n<!DOCTYPE svg PUBLIC \"-//W3C//DTD SVG 1.1//EN\"\n \"http://www.w3.org/Graphics/SVG/1.1/DTD/svg11.dtd\">\n<!-- Generated by graphviz version 2.43.0 (0)\n -->\n<!-- Pages: 1 -->\n<svg width=\"202pt\" height=\"66pt\"\n viewBox=\"0.00 0.00 202.00 65.80\" xmlns=\"http://www.w3.org/2000/svg\" xmlns:xlink=\"http://www.w3.org/1999/xlink\">\n<g id=\"graph0\" class=\"graph\" transform=\"scale(1 1) rotate(0) translate(4 61.8)\">\n<polygon fill=\"white\" stroke=\"transparent\" points=\"-4,4 -4,-61.8 198,-61.8 198,4 -4,4\"/>\n<!-- 4695d331&#45;f4b2&#45;49c2&#45;b30e&#45;ea2b2ebe5af5 -->\n<g id=\"node1\" class=\"node\">\n<title>4695d331&#45;f4b2&#45;49c2&#45;b30e&#45;ea2b2ebe5af5</title>\n<g id=\"a_node1\"><a xlink:title=\".\">\n<ellipse fill=\"black\" stroke=\"black\" cx=\"18\" cy=\"-56\" rx=\"1.8\" ry=\"1.8\"/>\n</a>\n</g>\n</g>\n<!-- 1 -->\n<g id=\"node2\" class=\"node\">\n<title>1</title>\n<ellipse fill=\"none\" stroke=\"black\" cx=\"97\" cy=\"-37\" rx=\"18\" ry=\"18\"/>\n<text text-anchor=\"middle\" x=\"97\" y=\"-33.3\" font-family=\"Times,serif\" font-size=\"14.00\">1</text>\n</g>\n<!-- 4695d331&#45;f4b2&#45;49c2&#45;b30e&#45;ea2b2ebe5af5&#45;&gt;1 -->\n<g id=\"edge1\" class=\"edge\">\n<title>4695d331&#45;f4b2&#45;49c2&#45;b30e&#45;ea2b2ebe5af5&#45;&gt;1</title>\n<g id=\"a_edge1\"><a xlink:title=\"&#45;&gt;1\">\n<path fill=\"none\" stroke=\"black\" d=\"M19.86,-55.79C24.87,-54.55 50.64,-48.19 70.83,-43.21\"/>\n<polygon fill=\"black\" stroke=\"black\" points=\"71.8,-46.04 79.34,-41.11 70.37,-40.26 71.8,-46.04\"/>\n</a>\n</g>\n</g>\n<!-- 2 -->\n<g id=\"node3\" class=\"node\">\n<title>2</title>\n<ellipse fill=\"none\" stroke=\"black\" cx=\"176\" cy=\"-37\" rx=\"18\" ry=\"18\"/>\n<text text-anchor=\"middle\" x=\"176\" y=\"-33.3\" font-family=\"Times,serif\" font-size=\"14.00\">2</text>\n</g>\n<!-- 1&#45;&gt;2 -->\n<g id=\"edge2\" class=\"edge\">\n<title>1&#45;&gt;2</title>\n<path fill=\"none\" stroke=\"black\" d=\"M115.09,-37C125.16,-37 138.09,-37 149.36,-37\"/>\n<polygon fill=\"black\" stroke=\"black\" points=\"149.46,-39.98 157.96,-37 149.46,-34.03 149.46,-39.98\"/>\n<text text-anchor=\"middle\" x=\"136.5\" y=\"-40.8\" font-family=\"Times,serif\" font-size=\"14.00\">b</text>\n</g>\n<!-- 0 -->\n<g id=\"node4\" class=\"node\">\n<title>0</title>\n<ellipse fill=\"none\" stroke=\"black\" cx=\"18\" cy=\"-18\" rx=\"18\" ry=\"18\"/>\n<text text-anchor=\"middle\" x=\"18\" y=\"-14.3\" font-family=\"Times,serif\" font-size=\"14.00\">0</text>\n</g>\n<!-- 0&#45;&gt;1 -->\n<g id=\"edge3\" class=\"edge\">\n<title>0&#45;&gt;1</title>\n<path fill=\"none\" stroke=\"black\" d=\"M35.82,-21.33C43.52,-22.93 52.75,-24.94 61,-27 64.35,-27.84 67.87,-28.77 71.33,-29.73\"/>\n<polygon fill=\"black\" stroke=\"black\" points=\"70.69,-32.64 79.68,-32.09 72.31,-26.91 70.69,-32.64\"/>\n<text text-anchor=\"middle\" x=\"57.5\" y=\"-30.8\" font-family=\"Times,serif\" font-size=\"14.00\">a</text>\n</g>\n</g>\n</svg>\n",
            "text/plain": [
              "<AGraph <Swig Object of type 'Agraph_t *' at 0x7a2ed8b33e70>>"
            ]
          },
          "metadata": {},
          "execution_count": 13
        }
      ]
    },
    {
      "cell_type": "code",
      "source": [
        "fsm.apply_merge_distinct(28708, 28726, 375)\n",
        "fsm.get_dfa().show_diagram()"
      ],
      "metadata": {
        "colab": {
          "base_uri": "https://localhost:8080/"
        },
        "outputId": "c8b5a913-4f08-4617-e97b-a8f3987825cb",
        "id": "yNX2OGcWbwtN"
      },
      "execution_count": null,
      "outputs": [
        {
          "output_type": "execute_result",
          "data": {
            "image/svg+xml": "<?xml version=\"1.0\" encoding=\"UTF-8\" standalone=\"no\"?>\n<!DOCTYPE svg PUBLIC \"-//W3C//DTD SVG 1.1//EN\"\n \"http://www.w3.org/Graphics/SVG/1.1/DTD/svg11.dtd\">\n<!-- Generated by graphviz version 2.43.0 (0)\n -->\n<!-- Pages: 1 -->\n<svg width=\"170pt\" height=\"98pt\"\n viewBox=\"0.00 0.00 169.60 98.00\" xmlns=\"http://www.w3.org/2000/svg\" xmlns:xlink=\"http://www.w3.org/1999/xlink\">\n<g id=\"graph0\" class=\"graph\" transform=\"scale(1 1) rotate(0) translate(4 94)\">\n<polygon fill=\"white\" stroke=\"transparent\" points=\"-4,4 -4,-94 165.6,-94 165.6,4 -4,4\"/>\n<!-- 0337f616&#45;6362&#45;4b99&#45;860b&#45;8417f1422812 -->\n<g id=\"node1\" class=\"node\">\n<title>0337f616&#45;6362&#45;4b99&#45;860b&#45;8417f1422812</title>\n<g id=\"a_node1\"><a xlink:title=\".\">\n<ellipse fill=\"black\" stroke=\"black\" cx=\"1.8\" cy=\"-72\" rx=\"1.8\" ry=\"1.8\"/>\n</a>\n</g>\n</g>\n<!-- 1 -->\n<g id=\"node2\" class=\"node\">\n<title>1</title>\n<ellipse fill=\"none\" stroke=\"black\" cx=\"58.6\" cy=\"-72\" rx=\"18\" ry=\"18\"/>\n<text text-anchor=\"middle\" x=\"58.6\" y=\"-68.3\" font-family=\"Times,serif\" font-size=\"14.00\">1</text>\n</g>\n<!-- 0337f616&#45;6362&#45;4b99&#45;860b&#45;8417f1422812&#45;&gt;1 -->\n<g id=\"edge1\" class=\"edge\">\n<title>0337f616&#45;6362&#45;4b99&#45;860b&#45;8417f1422812&#45;&gt;1</title>\n<g id=\"a_edge1\"><a xlink:title=\"&#45;&gt;1\">\n<path fill=\"none\" stroke=\"black\" d=\"M3.75,-72C7.25,-72 19.84,-72 31.96,-72\"/>\n<polygon fill=\"black\" stroke=\"black\" points=\"32.08,-74.98 40.58,-72 32.07,-69.03 32.08,-74.98\"/>\n</a>\n</g>\n</g>\n<!-- 2 -->\n<g id=\"node3\" class=\"node\">\n<title>2</title>\n<ellipse fill=\"none\" stroke=\"black\" cx=\"143.6\" cy=\"-37\" rx=\"18\" ry=\"18\"/>\n<text text-anchor=\"middle\" x=\"143.6\" y=\"-33.3\" font-family=\"Times,serif\" font-size=\"14.00\">2</text>\n</g>\n<!-- 1&#45;&gt;2 -->\n<g id=\"edge2\" class=\"edge\">\n<title>1&#45;&gt;2</title>\n<path fill=\"none\" stroke=\"black\" d=\"M75.6,-65.25C87.78,-60.12 104.72,-52.97 118.53,-47.15\"/>\n<polygon fill=\"black\" stroke=\"black\" points=\"119.97,-49.77 126.65,-43.73 117.66,-44.29 119.97,-49.77\"/>\n<text text-anchor=\"middle\" x=\"101.1\" y=\"-60.8\" font-family=\"Times,serif\" font-size=\"14.00\">b</text>\n</g>\n<!-- 0 -->\n<g id=\"node4\" class=\"node\">\n<title>0</title>\n<ellipse fill=\"none\" stroke=\"black\" cx=\"58.6\" cy=\"-18\" rx=\"18\" ry=\"18\"/>\n<text text-anchor=\"middle\" x=\"58.6\" y=\"-14.3\" font-family=\"Times,serif\" font-size=\"14.00\">0</text>\n</g>\n<!-- 0&#45;&gt;2 -->\n<g id=\"edge3\" class=\"edge\">\n<title>0&#45;&gt;2</title>\n<path fill=\"none\" stroke=\"black\" d=\"M76.56,-20.78C85.79,-22.4 97.37,-24.59 107.6,-27 110.96,-27.79 114.49,-28.7 117.95,-29.65\"/>\n<polygon fill=\"black\" stroke=\"black\" points=\"117.31,-32.56 126.3,-32 118.93,-26.83 117.31,-32.56\"/>\n<text text-anchor=\"middle\" x=\"101.1\" y=\"-30.8\" font-family=\"Times,serif\" font-size=\"14.00\">ab</text>\n</g>\n</g>\n</svg>\n",
            "text/plain": [
              "<AGraph <Swig Object of type 'Agraph_t *' at 0x7a2ed8b32c10>>"
            ]
          },
          "metadata": {},
          "execution_count": 14
        }
      ]
    },
    {
      "cell_type": "code",
      "source": [
        "map = {0: {28744: 2}, 1: {28708: 2}, 2: {28726: 3, 28724: 4}, 3: {}, 4: {}}\n",
        "fsm = DirectMergeFSM(interegular.parse_pattern(\"abcd\").to_fsm(), string.printable, tokenizer)\n",
        "fsm.map = map\n",
        "fsm.final_states = set()\n",
        "fsm.initial_state = 0\n",
        "fsm.build_internal_variables()\n",
        "fsm.get_dfa().show_diagram()"
      ],
      "metadata": {
        "colab": {
          "base_uri": "https://localhost:8080/"
        },
        "id": "2MC4VdYFZ6Dz",
        "outputId": "8eda005c-0acc-4c34-e576-9ae4e1fa1a29"
      },
      "execution_count": null,
      "outputs": [
        {
          "output_type": "execute_result",
          "data": {
            "image/svg+xml": "<?xml version=\"1.0\" encoding=\"UTF-8\" standalone=\"no\"?>\n<!DOCTYPE svg PUBLIC \"-//W3C//DTD SVG 1.1//EN\"\n \"http://www.w3.org/Graphics/SVG/1.1/DTD/svg11.dtd\">\n<!-- Generated by graphviz version 2.43.0 (0)\n -->\n<!-- Pages: 1 -->\n<svg width=\"243pt\" height=\"106pt\"\n viewBox=\"0.00 0.00 242.60 106.00\" xmlns=\"http://www.w3.org/2000/svg\" xmlns:xlink=\"http://www.w3.org/1999/xlink\">\n<g id=\"graph0\" class=\"graph\" transform=\"scale(1 1) rotate(0) translate(4 102)\">\n<polygon fill=\"white\" stroke=\"transparent\" points=\"-4,4 -4,-102 238.6,-102 238.6,4 -4,4\"/>\n<!-- 169bed1d&#45;aec0&#45;4447&#45;a6c6&#45;f98e44e84090 -->\n<g id=\"node1\" class=\"node\">\n<title>169bed1d&#45;aec0&#45;4447&#45;a6c6&#45;f98e44e84090</title>\n<g id=\"a_node1\"><a xlink:title=\".\">\n<ellipse fill=\"black\" stroke=\"black\" cx=\"1.8\" cy=\"-80\" rx=\"1.8\" ry=\"1.8\"/>\n</a>\n</g>\n</g>\n<!-- 0 -->\n<g id=\"node2\" class=\"node\">\n<title>0</title>\n<ellipse fill=\"none\" stroke=\"black\" cx=\"58.6\" cy=\"-80\" rx=\"18\" ry=\"18\"/>\n<text text-anchor=\"middle\" x=\"58.6\" y=\"-76.3\" font-family=\"Times,serif\" font-size=\"14.00\">0</text>\n</g>\n<!-- 169bed1d&#45;aec0&#45;4447&#45;a6c6&#45;f98e44e84090&#45;&gt;0 -->\n<g id=\"edge1\" class=\"edge\">\n<title>169bed1d&#45;aec0&#45;4447&#45;a6c6&#45;f98e44e84090&#45;&gt;0</title>\n<g id=\"a_edge1\"><a xlink:title=\"&#45;&gt;0\">\n<path fill=\"none\" stroke=\"black\" d=\"M3.75,-80C7.25,-80 19.84,-80 31.96,-80\"/>\n<polygon fill=\"black\" stroke=\"black\" points=\"32.08,-82.98 40.58,-80 32.07,-77.03 32.08,-82.98\"/>\n</a>\n</g>\n</g>\n<!-- 2 -->\n<g id=\"node3\" class=\"node\">\n<title>2</title>\n<ellipse fill=\"none\" stroke=\"black\" cx=\"137.6\" cy=\"-45\" rx=\"18\" ry=\"18\"/>\n<text text-anchor=\"middle\" x=\"137.6\" y=\"-41.3\" font-family=\"Times,serif\" font-size=\"14.00\">2</text>\n</g>\n<!-- 0&#45;&gt;2 -->\n<g id=\"edge2\" class=\"edge\">\n<title>0&#45;&gt;2</title>\n<path fill=\"none\" stroke=\"black\" d=\"M75.18,-72.92C86.04,-67.98 100.71,-61.31 113,-55.73\"/>\n<polygon fill=\"black\" stroke=\"black\" points=\"114.53,-58.3 121.04,-52.07 112.07,-52.88 114.53,-58.3\"/>\n<text text-anchor=\"middle\" x=\"98.1\" y=\"-67.8\" font-family=\"Times,serif\" font-size=\"14.00\">x</text>\n</g>\n<!-- 3 -->\n<g id=\"node4\" class=\"node\">\n<title>3</title>\n<ellipse fill=\"none\" stroke=\"black\" cx=\"216.6\" cy=\"-72\" rx=\"18\" ry=\"18\"/>\n<text text-anchor=\"middle\" x=\"216.6\" y=\"-68.3\" font-family=\"Times,serif\" font-size=\"14.00\">3</text>\n</g>\n<!-- 2&#45;&gt;3 -->\n<g id=\"edge3\" class=\"edge\">\n<title>2&#45;&gt;3</title>\n<path fill=\"none\" stroke=\"black\" d=\"M154.93,-50.73C165.44,-54.41 179.31,-59.27 191.13,-63.42\"/>\n<polygon fill=\"black\" stroke=\"black\" points=\"190.28,-66.27 199.29,-66.28 192.25,-60.66 190.28,-66.27\"/>\n<text text-anchor=\"middle\" x=\"177.1\" y=\"-63.8\" font-family=\"Times,serif\" font-size=\"14.00\">b</text>\n</g>\n<!-- 4 -->\n<g id=\"node5\" class=\"node\">\n<title>4</title>\n<ellipse fill=\"none\" stroke=\"black\" cx=\"216.6\" cy=\"-18\" rx=\"18\" ry=\"18\"/>\n<text text-anchor=\"middle\" x=\"216.6\" y=\"-14.3\" font-family=\"Times,serif\" font-size=\"14.00\">4</text>\n</g>\n<!-- 2&#45;&gt;4 -->\n<g id=\"edge4\" class=\"edge\">\n<title>2&#45;&gt;4</title>\n<path fill=\"none\" stroke=\"black\" d=\"M154.93,-39.27C165.44,-35.59 179.31,-30.73 191.13,-26.58\"/>\n<polygon fill=\"black\" stroke=\"black\" points=\"192.25,-29.34 199.29,-23.72 190.28,-23.73 192.25,-29.34\"/>\n<text text-anchor=\"middle\" x=\"177.1\" y=\"-36.8\" font-family=\"Times,serif\" font-size=\"14.00\">y</text>\n</g>\n<!-- 1 -->\n<g id=\"node6\" class=\"node\">\n<title>1</title>\n<ellipse fill=\"none\" stroke=\"black\" cx=\"58.6\" cy=\"-26\" rx=\"18\" ry=\"18\"/>\n<text text-anchor=\"middle\" x=\"58.6\" y=\"-22.3\" font-family=\"Times,serif\" font-size=\"14.00\">1</text>\n</g>\n<!-- 1&#45;&gt;2 -->\n<g id=\"edge5\" class=\"edge\">\n<title>1&#45;&gt;2</title>\n<path fill=\"none\" stroke=\"black\" d=\"M76.42,-29.33C84.12,-30.93 93.35,-32.94 101.6,-35 104.95,-35.84 108.47,-36.77 111.93,-37.73\"/>\n<polygon fill=\"black\" stroke=\"black\" points=\"111.29,-40.64 120.28,-40.09 112.91,-34.91 111.29,-40.64\"/>\n<text text-anchor=\"middle\" x=\"98.1\" y=\"-38.8\" font-family=\"Times,serif\" font-size=\"14.00\">a</text>\n</g>\n</g>\n</svg>\n",
            "text/plain": [
              "<AGraph <Swig Object of type 'Agraph_t *' at 0x7a2ed8aa0e70>>"
            ]
          },
          "metadata": {},
          "execution_count": 15
        }
      ]
    },
    {
      "cell_type": "code",
      "source": [
        "fsm.apply_merge_distinct(28708, 28726, 375)\n",
        "fsm.get_dfa().show_diagram()"
      ],
      "metadata": {
        "colab": {
          "base_uri": "https://localhost:8080/"
        },
        "id": "1Eba6m01a6Y1",
        "outputId": "3318a124-f3e9-42e8-a3c0-b0bb93da18be"
      },
      "execution_count": null,
      "outputs": [
        {
          "output_type": "execute_result",
          "data": {
            "image/svg+xml": "<?xml version=\"1.0\" encoding=\"UTF-8\" standalone=\"no\"?>\n<!DOCTYPE svg PUBLIC \"-//W3C//DTD SVG 1.1//EN\"\n \"http://www.w3.org/Graphics/SVG/1.1/DTD/svg11.dtd\">\n<!-- Generated by graphviz version 2.43.0 (0)\n -->\n<!-- Pages: 1 -->\n<svg width=\"243pt\" height=\"157pt\"\n viewBox=\"0.00 0.00 242.60 157.00\" xmlns=\"http://www.w3.org/2000/svg\" xmlns:xlink=\"http://www.w3.org/1999/xlink\">\n<g id=\"graph0\" class=\"graph\" transform=\"scale(1 1) rotate(0) translate(4 153)\">\n<polygon fill=\"white\" stroke=\"transparent\" points=\"-4,4 -4,-153 238.6,-153 238.6,4 -4,4\"/>\n<!-- b9690f95&#45;0bc8&#45;4e1c&#45;b1dd&#45;7b07c94d3dff -->\n<g id=\"node1\" class=\"node\">\n<title>b9690f95&#45;0bc8&#45;4e1c&#45;b1dd&#45;7b07c94d3dff</title>\n<g id=\"a_node1\"><a xlink:title=\".\">\n<ellipse fill=\"black\" stroke=\"black\" cx=\"1.8\" cy=\"-131\" rx=\"1.8\" ry=\"1.8\"/>\n</a>\n</g>\n</g>\n<!-- 0 -->\n<g id=\"node2\" class=\"node\">\n<title>0</title>\n<ellipse fill=\"none\" stroke=\"black\" cx=\"58.6\" cy=\"-131\" rx=\"18\" ry=\"18\"/>\n<text text-anchor=\"middle\" x=\"58.6\" y=\"-127.3\" font-family=\"Times,serif\" font-size=\"14.00\">0</text>\n</g>\n<!-- b9690f95&#45;0bc8&#45;4e1c&#45;b1dd&#45;7b07c94d3dff&#45;&gt;0 -->\n<g id=\"edge1\" class=\"edge\">\n<title>b9690f95&#45;0bc8&#45;4e1c&#45;b1dd&#45;7b07c94d3dff&#45;&gt;0</title>\n<g id=\"a_edge1\"><a xlink:title=\"&#45;&gt;0\">\n<path fill=\"none\" stroke=\"black\" d=\"M3.75,-131C7.25,-131 19.84,-131 31.96,-131\"/>\n<polygon fill=\"black\" stroke=\"black\" points=\"32.08,-133.98 40.58,-131 32.07,-128.03 32.08,-133.98\"/>\n</a>\n</g>\n</g>\n<!-- 2 -->\n<g id=\"node3\" class=\"node\">\n<title>2</title>\n<ellipse fill=\"none\" stroke=\"black\" cx=\"137.6\" cy=\"-131\" rx=\"18\" ry=\"18\"/>\n<text text-anchor=\"middle\" x=\"137.6\" y=\"-127.3\" font-family=\"Times,serif\" font-size=\"14.00\">2</text>\n</g>\n<!-- 0&#45;&gt;2 -->\n<g id=\"edge2\" class=\"edge\">\n<title>0&#45;&gt;2</title>\n<path fill=\"none\" stroke=\"black\" d=\"M76.69,-131C86.76,-131 99.69,-131 110.96,-131\"/>\n<polygon fill=\"black\" stroke=\"black\" points=\"111.06,-133.98 119.56,-131 111.06,-128.03 111.06,-133.98\"/>\n<text text-anchor=\"middle\" x=\"98.1\" y=\"-134.8\" font-family=\"Times,serif\" font-size=\"14.00\">x</text>\n</g>\n<!-- 3 -->\n<g id=\"node4\" class=\"node\">\n<title>3</title>\n<ellipse fill=\"none\" stroke=\"black\" cx=\"216.6\" cy=\"-125\" rx=\"18\" ry=\"18\"/>\n<text text-anchor=\"middle\" x=\"216.6\" y=\"-121.3\" font-family=\"Times,serif\" font-size=\"14.00\">3</text>\n</g>\n<!-- 2&#45;&gt;3 -->\n<g id=\"edge3\" class=\"edge\">\n<title>2&#45;&gt;3</title>\n<path fill=\"none\" stroke=\"black\" d=\"M155.69,-129.67C165.76,-128.88 178.69,-127.88 189.96,-127\"/>\n<polygon fill=\"black\" stroke=\"black\" points=\"190.32,-129.96 198.56,-126.33 189.85,-124.02 190.32,-129.96\"/>\n<text text-anchor=\"middle\" x=\"177.1\" y=\"-131.8\" font-family=\"Times,serif\" font-size=\"14.00\">b</text>\n</g>\n<!-- 4 -->\n<g id=\"node5\" class=\"node\">\n<title>4</title>\n<ellipse fill=\"none\" stroke=\"black\" cx=\"216.6\" cy=\"-53\" rx=\"18\" ry=\"18\"/>\n<text text-anchor=\"middle\" x=\"216.6\" y=\"-49.3\" font-family=\"Times,serif\" font-size=\"14.00\">4</text>\n</g>\n<!-- 2&#45;&gt;4 -->\n<g id=\"edge4\" class=\"edge\">\n<title>2&#45;&gt;4</title>\n<path fill=\"none\" stroke=\"black\" d=\"M150.97,-118.47C163.43,-105.85 182.81,-86.22 197.1,-71.75\"/>\n<polygon fill=\"black\" stroke=\"black\" points=\"199.41,-73.64 203.26,-65.5 195.17,-69.46 199.41,-73.64\"/>\n<text text-anchor=\"middle\" x=\"177.1\" y=\"-98.8\" font-family=\"Times,serif\" font-size=\"14.00\">y</text>\n</g>\n<!-- 1 -->\n<g id=\"node6\" class=\"node\">\n<title>1</title>\n<ellipse fill=\"none\" stroke=\"black\" cx=\"58.6\" cy=\"-64\" rx=\"18\" ry=\"18\"/>\n<text text-anchor=\"middle\" x=\"58.6\" y=\"-60.3\" font-family=\"Times,serif\" font-size=\"14.00\">1</text>\n</g>\n<!-- 1&#45;&gt;3 -->\n<g id=\"edge5\" class=\"edge\">\n<title>1&#45;&gt;3</title>\n<path fill=\"none\" stroke=\"black\" d=\"M76.8,-63.71C101.37,-64.03 147.24,-67.36 180.6,-86 188.18,-90.24 194.98,-96.74 200.52,-103.22\"/>\n<polygon fill=\"black\" stroke=\"black\" points=\"198.4,-105.33 206.01,-110.15 203.06,-101.64 198.4,-105.33\"/>\n<text text-anchor=\"middle\" x=\"137.6\" y=\"-79.8\" font-family=\"Times,serif\" font-size=\"14.00\">ab</text>\n</g>\n<!-- 5 -->\n<g id=\"node7\" class=\"node\">\n<title>5</title>\n<ellipse fill=\"none\" stroke=\"black\" cx=\"137.6\" cy=\"-18\" rx=\"18\" ry=\"18\"/>\n<text text-anchor=\"middle\" x=\"137.6\" y=\"-14.3\" font-family=\"Times,serif\" font-size=\"14.00\">5</text>\n</g>\n<!-- 1&#45;&gt;5 -->\n<g id=\"edge6\" class=\"edge\">\n<title>1&#45;&gt;5</title>\n<path fill=\"none\" stroke=\"black\" d=\"M74.58,-55C80.78,-51.28 88.03,-46.93 94.6,-43 100.95,-39.2 107.85,-35.09 114.18,-31.32\"/>\n<polygon fill=\"black\" stroke=\"black\" points=\"116.04,-33.68 121.82,-26.78 112.99,-28.57 116.04,-33.68\"/>\n<text text-anchor=\"middle\" x=\"98.1\" y=\"-46.8\" font-family=\"Times,serif\" font-size=\"14.00\">a</text>\n</g>\n<!-- 5&#45;&gt;4 -->\n<g id=\"edge7\" class=\"edge\">\n<title>5&#45;&gt;4</title>\n<path fill=\"none\" stroke=\"black\" d=\"M154.18,-25.08C165.04,-30.02 179.71,-36.69 192,-42.27\"/>\n<polygon fill=\"black\" stroke=\"black\" points=\"191.07,-45.12 200.04,-45.93 193.53,-39.7 191.07,-45.12\"/>\n<text text-anchor=\"middle\" x=\"177.1\" y=\"-40.8\" font-family=\"Times,serif\" font-size=\"14.00\">y</text>\n</g>\n</g>\n</svg>\n",
            "text/plain": [
              "<AGraph <Swig Object of type 'Agraph_t *' at 0x7a2fc882ce10>>"
            ]
          },
          "metadata": {},
          "execution_count": 16
        }
      ]
    },
    {
      "cell_type": "code",
      "source": [
        "map = {0: {28744: 2}, 1: {28708: 2}, 2: {28726: 3, 28724: 4, 28708: 2, 28764: 2}, 3: {}, 4: {}}\n",
        "fsm = DirectMergeFSM(interegular.parse_pattern(\"abcd\").to_fsm(), string.printable, tokenizer)\n",
        "fsm.map = map\n",
        "fsm.final_states = {}\n",
        "fsm.initial_state = 0\n",
        "fsm.build_internal_variables()\n",
        "fsm.get_dfa().show_diagram()"
      ],
      "metadata": {
        "colab": {
          "base_uri": "https://localhost:8080/"
        },
        "id": "RLxyTnNRYGfP",
        "outputId": "fbdc5921-a6c0-4a87-b451-ba671b9531c8"
      },
      "execution_count": null,
      "outputs": [
        {
          "output_type": "execute_result",
          "data": {
            "image/svg+xml": "<?xml version=\"1.0\" encoding=\"UTF-8\" standalone=\"no\"?>\n<!DOCTYPE svg PUBLIC \"-//W3C//DTD SVG 1.1//EN\"\n \"http://www.w3.org/Graphics/SVG/1.1/DTD/svg11.dtd\">\n<!-- Generated by graphviz version 2.43.0 (0)\n -->\n<!-- Pages: 1 -->\n<svg width=\"243pt\" height=\"106pt\"\n viewBox=\"0.00 0.00 242.60 106.00\" xmlns=\"http://www.w3.org/2000/svg\" xmlns:xlink=\"http://www.w3.org/1999/xlink\">\n<g id=\"graph0\" class=\"graph\" transform=\"scale(1 1) rotate(0) translate(4 102)\">\n<polygon fill=\"white\" stroke=\"transparent\" points=\"-4,4 -4,-102 238.6,-102 238.6,4 -4,4\"/>\n<!-- 7dae2e0c&#45;91ee&#45;40ec&#45;b87e&#45;1462f7450a93 -->\n<g id=\"node1\" class=\"node\">\n<title>7dae2e0c&#45;91ee&#45;40ec&#45;b87e&#45;1462f7450a93</title>\n<g id=\"a_node1\"><a xlink:title=\".\">\n<ellipse fill=\"black\" stroke=\"black\" cx=\"1.8\" cy=\"-80\" rx=\"1.8\" ry=\"1.8\"/>\n</a>\n</g>\n</g>\n<!-- 0 -->\n<g id=\"node2\" class=\"node\">\n<title>0</title>\n<ellipse fill=\"none\" stroke=\"black\" cx=\"58.6\" cy=\"-80\" rx=\"18\" ry=\"18\"/>\n<text text-anchor=\"middle\" x=\"58.6\" y=\"-76.3\" font-family=\"Times,serif\" font-size=\"14.00\">0</text>\n</g>\n<!-- 7dae2e0c&#45;91ee&#45;40ec&#45;b87e&#45;1462f7450a93&#45;&gt;0 -->\n<g id=\"edge1\" class=\"edge\">\n<title>7dae2e0c&#45;91ee&#45;40ec&#45;b87e&#45;1462f7450a93&#45;&gt;0</title>\n<g id=\"a_edge1\"><a xlink:title=\"&#45;&gt;0\">\n<path fill=\"none\" stroke=\"black\" d=\"M3.75,-80C7.25,-80 19.84,-80 31.96,-80\"/>\n<polygon fill=\"black\" stroke=\"black\" points=\"32.08,-82.98 40.58,-80 32.07,-77.03 32.08,-82.98\"/>\n</a>\n</g>\n</g>\n<!-- 2 -->\n<g id=\"node3\" class=\"node\">\n<title>2</title>\n<ellipse fill=\"none\" stroke=\"black\" cx=\"137.6\" cy=\"-45\" rx=\"18\" ry=\"18\"/>\n<text text-anchor=\"middle\" x=\"137.6\" y=\"-41.3\" font-family=\"Times,serif\" font-size=\"14.00\">2</text>\n</g>\n<!-- 0&#45;&gt;2 -->\n<g id=\"edge2\" class=\"edge\">\n<title>0&#45;&gt;2</title>\n<path fill=\"none\" stroke=\"black\" d=\"M75.18,-72.92C86.04,-67.98 100.71,-61.31 113,-55.73\"/>\n<polygon fill=\"black\" stroke=\"black\" points=\"114.53,-58.3 121.04,-52.07 112.07,-52.88 114.53,-58.3\"/>\n<text text-anchor=\"middle\" x=\"98.1\" y=\"-67.8\" font-family=\"Times,serif\" font-size=\"14.00\">x</text>\n</g>\n<!-- 2&#45;&gt;2 -->\n<g id=\"edge3\" class=\"edge\">\n<title>2&#45;&gt;2</title>\n<path fill=\"none\" stroke=\"black\" d=\"M130.87,-62.04C129.49,-71.86 131.74,-81 137.6,-81 141.63,-81 143.95,-76.68 144.56,-70.79\"/>\n<polygon fill=\"black\" stroke=\"black\" points=\"147.53,-70.46 144.33,-62.04 141.58,-70.61 147.53,-70.46\"/>\n<text text-anchor=\"middle\" x=\"137.6\" y=\"-84.8\" font-family=\"Times,serif\" font-size=\"14.00\">a,z</text>\n</g>\n<!-- 3 -->\n<g id=\"node4\" class=\"node\">\n<title>3</title>\n<ellipse fill=\"none\" stroke=\"black\" cx=\"216.6\" cy=\"-72\" rx=\"18\" ry=\"18\"/>\n<text text-anchor=\"middle\" x=\"216.6\" y=\"-68.3\" font-family=\"Times,serif\" font-size=\"14.00\">3</text>\n</g>\n<!-- 2&#45;&gt;3 -->\n<g id=\"edge4\" class=\"edge\">\n<title>2&#45;&gt;3</title>\n<path fill=\"none\" stroke=\"black\" d=\"M154.93,-50.73C165.44,-54.41 179.31,-59.27 191.13,-63.42\"/>\n<polygon fill=\"black\" stroke=\"black\" points=\"190.28,-66.27 199.29,-66.28 192.25,-60.66 190.28,-66.27\"/>\n<text text-anchor=\"middle\" x=\"177.1\" y=\"-63.8\" font-family=\"Times,serif\" font-size=\"14.00\">b</text>\n</g>\n<!-- 4 -->\n<g id=\"node5\" class=\"node\">\n<title>4</title>\n<ellipse fill=\"none\" stroke=\"black\" cx=\"216.6\" cy=\"-18\" rx=\"18\" ry=\"18\"/>\n<text text-anchor=\"middle\" x=\"216.6\" y=\"-14.3\" font-family=\"Times,serif\" font-size=\"14.00\">4</text>\n</g>\n<!-- 2&#45;&gt;4 -->\n<g id=\"edge5\" class=\"edge\">\n<title>2&#45;&gt;4</title>\n<path fill=\"none\" stroke=\"black\" d=\"M154.93,-39.27C165.44,-35.59 179.31,-30.73 191.13,-26.58\"/>\n<polygon fill=\"black\" stroke=\"black\" points=\"192.25,-29.34 199.29,-23.72 190.28,-23.73 192.25,-29.34\"/>\n<text text-anchor=\"middle\" x=\"177.1\" y=\"-36.8\" font-family=\"Times,serif\" font-size=\"14.00\">y</text>\n</g>\n<!-- 1 -->\n<g id=\"node6\" class=\"node\">\n<title>1</title>\n<ellipse fill=\"none\" stroke=\"black\" cx=\"58.6\" cy=\"-26\" rx=\"18\" ry=\"18\"/>\n<text text-anchor=\"middle\" x=\"58.6\" y=\"-22.3\" font-family=\"Times,serif\" font-size=\"14.00\">1</text>\n</g>\n<!-- 1&#45;&gt;2 -->\n<g id=\"edge6\" class=\"edge\">\n<title>1&#45;&gt;2</title>\n<path fill=\"none\" stroke=\"black\" d=\"M76.42,-29.33C84.12,-30.93 93.35,-32.94 101.6,-35 104.95,-35.84 108.47,-36.77 111.93,-37.73\"/>\n<polygon fill=\"black\" stroke=\"black\" points=\"111.29,-40.64 120.28,-40.09 112.91,-34.91 111.29,-40.64\"/>\n<text text-anchor=\"middle\" x=\"98.1\" y=\"-38.8\" font-family=\"Times,serif\" font-size=\"14.00\">a</text>\n</g>\n</g>\n</svg>\n",
            "text/plain": [
              "<AGraph <Swig Object of type 'Agraph_t *' at 0x7a2fc882cea0>>"
            ]
          },
          "metadata": {},
          "execution_count": 17
        }
      ]
    },
    {
      "cell_type": "code",
      "source": [
        "fsm.apply_merge_distinct(28708, 28726, 375)\n",
        "fsm.get_dfa().show_diagram()"
      ],
      "metadata": {
        "colab": {
          "base_uri": "https://localhost:8080/"
        },
        "id": "daj58v46YH4M",
        "outputId": "6d724c07-a409-47ba-f30c-60c4c3417707"
      },
      "execution_count": null,
      "outputs": [
        {
          "output_type": "execute_result",
          "data": {
            "image/svg+xml": "<?xml version=\"1.0\" encoding=\"UTF-8\" standalone=\"no\"?>\n<!DOCTYPE svg PUBLIC \"-//W3C//DTD SVG 1.1//EN\"\n \"http://www.w3.org/Graphics/SVG/1.1/DTD/svg11.dtd\">\n<!-- Generated by graphviz version 2.43.0 (0)\n -->\n<!-- Pages: 1 -->\n<svg width=\"328pt\" height=\"215pt\"\n viewBox=\"0.00 0.00 327.60 215.00\" xmlns=\"http://www.w3.org/2000/svg\" xmlns:xlink=\"http://www.w3.org/1999/xlink\">\n<g id=\"graph0\" class=\"graph\" transform=\"scale(1 1) rotate(0) translate(4 211)\">\n<polygon fill=\"white\" stroke=\"transparent\" points=\"-4,4 -4,-211 323.6,-211 323.6,4 -4,4\"/>\n<!-- b220c8ec&#45;3a87&#45;48a5&#45;84d7&#45;1f94df48b6f8 -->\n<g id=\"node1\" class=\"node\">\n<title>b220c8ec&#45;3a87&#45;48a5&#45;84d7&#45;1f94df48b6f8</title>\n<g id=\"a_node1\"><a xlink:title=\".\">\n<ellipse fill=\"black\" stroke=\"black\" cx=\"1.8\" cy=\"-125\" rx=\"1.8\" ry=\"1.8\"/>\n</a>\n</g>\n</g>\n<!-- 0 -->\n<g id=\"node2\" class=\"node\">\n<title>0</title>\n<ellipse fill=\"none\" stroke=\"black\" cx=\"58.6\" cy=\"-125\" rx=\"18\" ry=\"18\"/>\n<text text-anchor=\"middle\" x=\"58.6\" y=\"-121.3\" font-family=\"Times,serif\" font-size=\"14.00\">0</text>\n</g>\n<!-- b220c8ec&#45;3a87&#45;48a5&#45;84d7&#45;1f94df48b6f8&#45;&gt;0 -->\n<g id=\"edge1\" class=\"edge\">\n<title>b220c8ec&#45;3a87&#45;48a5&#45;84d7&#45;1f94df48b6f8&#45;&gt;0</title>\n<g id=\"a_edge1\"><a xlink:title=\"&#45;&gt;0\">\n<path fill=\"none\" stroke=\"black\" d=\"M3.75,-125C7.25,-125 19.84,-125 31.96,-125\"/>\n<polygon fill=\"black\" stroke=\"black\" points=\"32.08,-127.98 40.58,-125 32.07,-122.03 32.08,-127.98\"/>\n</a>\n</g>\n</g>\n<!-- 2 -->\n<g id=\"node3\" class=\"node\">\n<title>2</title>\n<ellipse fill=\"none\" stroke=\"black\" cx=\"137.6\" cy=\"-125\" rx=\"18\" ry=\"18\"/>\n<text text-anchor=\"middle\" x=\"137.6\" y=\"-121.3\" font-family=\"Times,serif\" font-size=\"14.00\">2</text>\n</g>\n<!-- 0&#45;&gt;2 -->\n<g id=\"edge2\" class=\"edge\">\n<title>0&#45;&gt;2</title>\n<path fill=\"none\" stroke=\"black\" d=\"M76.69,-125C86.76,-125 99.69,-125 110.96,-125\"/>\n<polygon fill=\"black\" stroke=\"black\" points=\"111.06,-127.98 119.56,-125 111.06,-122.03 111.06,-127.98\"/>\n<text text-anchor=\"middle\" x=\"98.1\" y=\"-128.8\" font-family=\"Times,serif\" font-size=\"14.00\">x</text>\n</g>\n<!-- 2&#45;&gt;2 -->\n<g id=\"edge3\" class=\"edge\">\n<title>2&#45;&gt;2</title>\n<path fill=\"none\" stroke=\"black\" d=\"M130.87,-142.04C129.49,-151.86 131.74,-161 137.6,-161 141.63,-161 143.95,-156.68 144.56,-150.79\"/>\n<polygon fill=\"black\" stroke=\"black\" points=\"147.53,-150.46 144.33,-142.04 141.58,-150.62 147.53,-150.46\"/>\n<text text-anchor=\"middle\" x=\"137.6\" y=\"-164.8\" font-family=\"Times,serif\" font-size=\"14.00\">z</text>\n</g>\n<!-- 3 -->\n<g id=\"node4\" class=\"node\">\n<title>3</title>\n<ellipse fill=\"none\" stroke=\"black\" cx=\"301.6\" cy=\"-64\" rx=\"18\" ry=\"18\"/>\n<text text-anchor=\"middle\" x=\"301.6\" y=\"-60.3\" font-family=\"Times,serif\" font-size=\"14.00\">3</text>\n</g>\n<!-- 2&#45;&gt;3 -->\n<g id=\"edge4\" class=\"edge\">\n<title>2&#45;&gt;3</title>\n<path fill=\"none\" stroke=\"black\" d=\"M149.85,-111.24C160.85,-98.87 178.8,-81.39 198.6,-73 223.09,-62.62 253.8,-61.3 275.09,-61.99\"/>\n<polygon fill=\"black\" stroke=\"black\" points=\"274.96,-64.96 283.59,-62.39 275.24,-59.02 274.96,-64.96\"/>\n<text text-anchor=\"middle\" x=\"216.6\" y=\"-76.8\" font-family=\"Times,serif\" font-size=\"14.00\">ab,b</text>\n</g>\n<!-- 5 -->\n<g id=\"node5\" class=\"node\">\n<title>5</title>\n<ellipse fill=\"none\" stroke=\"black\" cx=\"216.6\" cy=\"-115\" rx=\"18\" ry=\"18\"/>\n<text text-anchor=\"middle\" x=\"216.6\" y=\"-111.3\" font-family=\"Times,serif\" font-size=\"14.00\">5</text>\n</g>\n<!-- 2&#45;&gt;5 -->\n<g id=\"edge5\" class=\"edge\">\n<title>2&#45;&gt;5</title>\n<path fill=\"none\" stroke=\"black\" d=\"M155.82,-124.26C163.43,-123.81 172.49,-123.1 180.6,-122 183.8,-121.57 187.14,-121.02 190.44,-120.43\"/>\n<polygon fill=\"black\" stroke=\"black\" points=\"191.16,-123.32 198.94,-118.78 190.03,-117.48 191.16,-123.32\"/>\n<text text-anchor=\"middle\" x=\"177.1\" y=\"-125.8\" font-family=\"Times,serif\" font-size=\"14.00\">a</text>\n</g>\n<!-- 4 -->\n<g id=\"node6\" class=\"node\">\n<title>4</title>\n<ellipse fill=\"none\" stroke=\"black\" cx=\"301.6\" cy=\"-189\" rx=\"18\" ry=\"18\"/>\n<text text-anchor=\"middle\" x=\"301.6\" y=\"-185.3\" font-family=\"Times,serif\" font-size=\"14.00\">4</text>\n</g>\n<!-- 2&#45;&gt;4 -->\n<g id=\"edge6\" class=\"edge\">\n<title>2&#45;&gt;4</title>\n<path fill=\"none\" stroke=\"black\" d=\"M150.05,-138.02C161.2,-149.76 179.25,-166.46 198.6,-175 223.07,-185.8 253.78,-188.76 275.08,-189.35\"/>\n<polygon fill=\"black\" stroke=\"black\" points=\"275.04,-192.32 283.58,-189.48 275.13,-186.38 275.04,-192.32\"/>\n<text text-anchor=\"middle\" x=\"216.6\" y=\"-188.8\" font-family=\"Times,serif\" font-size=\"14.00\">y</text>\n</g>\n<!-- 5&#45;&gt;2 -->\n<g id=\"edge7\" class=\"edge\">\n<title>5&#45;&gt;2</title>\n<path fill=\"none\" stroke=\"black\" d=\"M200.43,-106.47C192.45,-103.04 182.49,-100.44 173.6,-103 168.65,-104.43 163.73,-106.78 159.2,-109.43\"/>\n<polygon fill=\"black\" stroke=\"black\" points=\"157.56,-106.95 152.03,-114.06 160.78,-111.95 157.56,-106.95\"/>\n<text text-anchor=\"middle\" x=\"177.1\" y=\"-106.8\" font-family=\"Times,serif\" font-size=\"14.00\">z</text>\n</g>\n<!-- 5&#45;&gt;3 -->\n<g id=\"edge8\" class=\"edge\">\n<title>5&#45;&gt;3</title>\n<path fill=\"none\" stroke=\"black\" d=\"M232.44,-105.88C245.19,-98.05 263.75,-86.64 278.29,-77.71\"/>\n<polygon fill=\"black\" stroke=\"black\" points=\"280.2,-80.02 285.89,-73.04 277.09,-74.95 280.2,-80.02\"/>\n<text text-anchor=\"middle\" x=\"259.1\" y=\"-95.8\" font-family=\"Times,serif\" font-size=\"14.00\">ab</text>\n</g>\n<!-- 5&#45;&gt;5 -->\n<g id=\"edge9\" class=\"edge\">\n<title>5&#45;&gt;5</title>\n<path fill=\"none\" stroke=\"black\" d=\"M209.87,-132.04C208.49,-141.86 210.74,-151 216.6,-151 220.63,-151 222.95,-146.68 223.56,-140.79\"/>\n<polygon fill=\"black\" stroke=\"black\" points=\"226.53,-140.46 223.33,-132.04 220.58,-140.62 226.53,-140.46\"/>\n<text text-anchor=\"middle\" x=\"216.6\" y=\"-154.8\" font-family=\"Times,serif\" font-size=\"14.00\">a</text>\n</g>\n<!-- 5&#45;&gt;4 -->\n<g id=\"edge10\" class=\"edge\">\n<title>5&#45;&gt;4</title>\n<path fill=\"none\" stroke=\"black\" d=\"M230.57,-126.56C244.09,-138.62 265.45,-157.66 281.02,-171.54\"/>\n<polygon fill=\"black\" stroke=\"black\" points=\"279.4,-174.08 287.72,-177.52 283.36,-169.64 279.4,-174.08\"/>\n<text text-anchor=\"middle\" x=\"259.1\" y=\"-159.8\" font-family=\"Times,serif\" font-size=\"14.00\">y</text>\n</g>\n<!-- 1 -->\n<g id=\"node7\" class=\"node\">\n<title>1</title>\n<ellipse fill=\"none\" stroke=\"black\" cx=\"137.6\" cy=\"-18\" rx=\"18\" ry=\"18\"/>\n<text text-anchor=\"middle\" x=\"137.6\" y=\"-14.3\" font-family=\"Times,serif\" font-size=\"14.00\">1</text>\n</g>\n<!-- 1&#45;&gt;3 -->\n<g id=\"edge11\" class=\"edge\">\n<title>1&#45;&gt;3</title>\n<path fill=\"none\" stroke=\"black\" d=\"M155.66,-17.49C175.19,-17.39 207.91,-18.68 234.6,-27 250.39,-31.92 266.6,-40.95 279.01,-48.85\"/>\n<polygon fill=\"black\" stroke=\"black\" points=\"277.47,-51.4 286.21,-53.59 280.74,-46.43 277.47,-51.4\"/>\n<text text-anchor=\"middle\" x=\"216.6\" y=\"-30.8\" font-family=\"Times,serif\" font-size=\"14.00\">ab</text>\n</g>\n<!-- 1&#45;&gt;5 -->\n<g id=\"edge12\" class=\"edge\">\n<title>1&#45;&gt;5</title>\n<path fill=\"none\" stroke=\"black\" d=\"M149.63,-31.9C162.55,-48.18 184.09,-75.31 199.03,-94.12\"/>\n<polygon fill=\"black\" stroke=\"black\" points=\"196.98,-96.32 204.59,-101.13 201.64,-92.62 196.98,-96.32\"/>\n<text text-anchor=\"middle\" x=\"177.1\" y=\"-72.8\" font-family=\"Times,serif\" font-size=\"14.00\">a</text>\n</g>\n</g>\n</svg>\n",
            "text/plain": [
              "<AGraph <Swig Object of type 'Agraph_t *' at 0x7a2ed8b323a0>>"
            ]
          },
          "metadata": {},
          "execution_count": 18
        }
      ]
    },
    {
      "cell_type": "code",
      "source": [
        "map = {0: {28764: 2}, 1: {28708: 2}, 2: {28708: 4, 28724: 3}, 3: {}, 4: {}}\n",
        "fsm = DirectMergeFSM(interegular.parse_pattern(\"abcd\").to_fsm(), string.printable, tokenizer)\n",
        "fsm.map = map\n",
        "fsm.final_states = set()\n",
        "fsm.initial_state = 0\n",
        "fsm.build_internal_variables()\n",
        "fsm.get_dfa().show_diagram()"
      ],
      "metadata": {
        "colab": {
          "base_uri": "https://localhost:8080/"
        },
        "id": "_wHAW8FscRPH",
        "outputId": "964c1002-5a0e-482b-e94a-4f1cb63c9ab1"
      },
      "execution_count": null,
      "outputs": [
        {
          "output_type": "execute_result",
          "data": {
            "image/svg+xml": "<?xml version=\"1.0\" encoding=\"UTF-8\" standalone=\"no\"?>\n<!DOCTYPE svg PUBLIC \"-//W3C//DTD SVG 1.1//EN\"\n \"http://www.w3.org/Graphics/SVG/1.1/DTD/svg11.dtd\">\n<!-- Generated by graphviz version 2.43.0 (0)\n -->\n<!-- Pages: 1 -->\n<svg width=\"243pt\" height=\"106pt\"\n viewBox=\"0.00 0.00 242.60 106.00\" xmlns=\"http://www.w3.org/2000/svg\" xmlns:xlink=\"http://www.w3.org/1999/xlink\">\n<g id=\"graph0\" class=\"graph\" transform=\"scale(1 1) rotate(0) translate(4 102)\">\n<polygon fill=\"white\" stroke=\"transparent\" points=\"-4,4 -4,-102 238.6,-102 238.6,4 -4,4\"/>\n<!-- c5fee481&#45;4390&#45;4b2c&#45;91a1&#45;0df40622ca66 -->\n<g id=\"node1\" class=\"node\">\n<title>c5fee481&#45;4390&#45;4b2c&#45;91a1&#45;0df40622ca66</title>\n<g id=\"a_node1\"><a xlink:title=\".\">\n<ellipse fill=\"black\" stroke=\"black\" cx=\"1.8\" cy=\"-80\" rx=\"1.8\" ry=\"1.8\"/>\n</a>\n</g>\n</g>\n<!-- 0 -->\n<g id=\"node2\" class=\"node\">\n<title>0</title>\n<ellipse fill=\"none\" stroke=\"black\" cx=\"58.6\" cy=\"-80\" rx=\"18\" ry=\"18\"/>\n<text text-anchor=\"middle\" x=\"58.6\" y=\"-76.3\" font-family=\"Times,serif\" font-size=\"14.00\">0</text>\n</g>\n<!-- c5fee481&#45;4390&#45;4b2c&#45;91a1&#45;0df40622ca66&#45;&gt;0 -->\n<g id=\"edge1\" class=\"edge\">\n<title>c5fee481&#45;4390&#45;4b2c&#45;91a1&#45;0df40622ca66&#45;&gt;0</title>\n<g id=\"a_edge1\"><a xlink:title=\"&#45;&gt;0\">\n<path fill=\"none\" stroke=\"black\" d=\"M3.75,-80C7.25,-80 19.84,-80 31.96,-80\"/>\n<polygon fill=\"black\" stroke=\"black\" points=\"32.08,-82.98 40.58,-80 32.07,-77.03 32.08,-82.98\"/>\n</a>\n</g>\n</g>\n<!-- 2 -->\n<g id=\"node3\" class=\"node\">\n<title>2</title>\n<ellipse fill=\"none\" stroke=\"black\" cx=\"137.6\" cy=\"-45\" rx=\"18\" ry=\"18\"/>\n<text text-anchor=\"middle\" x=\"137.6\" y=\"-41.3\" font-family=\"Times,serif\" font-size=\"14.00\">2</text>\n</g>\n<!-- 0&#45;&gt;2 -->\n<g id=\"edge2\" class=\"edge\">\n<title>0&#45;&gt;2</title>\n<path fill=\"none\" stroke=\"black\" d=\"M75.18,-72.92C86.04,-67.98 100.71,-61.31 113,-55.73\"/>\n<polygon fill=\"black\" stroke=\"black\" points=\"114.53,-58.3 121.04,-52.07 112.07,-52.88 114.53,-58.3\"/>\n<text text-anchor=\"middle\" x=\"98.1\" y=\"-67.8\" font-family=\"Times,serif\" font-size=\"14.00\">z</text>\n</g>\n<!-- 3 -->\n<g id=\"node4\" class=\"node\">\n<title>3</title>\n<ellipse fill=\"none\" stroke=\"black\" cx=\"216.6\" cy=\"-72\" rx=\"18\" ry=\"18\"/>\n<text text-anchor=\"middle\" x=\"216.6\" y=\"-68.3\" font-family=\"Times,serif\" font-size=\"14.00\">3</text>\n</g>\n<!-- 2&#45;&gt;3 -->\n<g id=\"edge3\" class=\"edge\">\n<title>2&#45;&gt;3</title>\n<path fill=\"none\" stroke=\"black\" d=\"M154.93,-50.73C165.44,-54.41 179.31,-59.27 191.13,-63.42\"/>\n<polygon fill=\"black\" stroke=\"black\" points=\"190.28,-66.27 199.29,-66.28 192.25,-60.66 190.28,-66.27\"/>\n<text text-anchor=\"middle\" x=\"177.1\" y=\"-63.8\" font-family=\"Times,serif\" font-size=\"14.00\">y</text>\n</g>\n<!-- 4 -->\n<g id=\"node5\" class=\"node\">\n<title>4</title>\n<ellipse fill=\"none\" stroke=\"black\" cx=\"216.6\" cy=\"-18\" rx=\"18\" ry=\"18\"/>\n<text text-anchor=\"middle\" x=\"216.6\" y=\"-14.3\" font-family=\"Times,serif\" font-size=\"14.00\">4</text>\n</g>\n<!-- 2&#45;&gt;4 -->\n<g id=\"edge4\" class=\"edge\">\n<title>2&#45;&gt;4</title>\n<path fill=\"none\" stroke=\"black\" d=\"M154.93,-39.27C165.44,-35.59 179.31,-30.73 191.13,-26.58\"/>\n<polygon fill=\"black\" stroke=\"black\" points=\"192.25,-29.34 199.29,-23.72 190.28,-23.73 192.25,-29.34\"/>\n<text text-anchor=\"middle\" x=\"177.1\" y=\"-36.8\" font-family=\"Times,serif\" font-size=\"14.00\">a</text>\n</g>\n<!-- 1 -->\n<g id=\"node6\" class=\"node\">\n<title>1</title>\n<ellipse fill=\"none\" stroke=\"black\" cx=\"58.6\" cy=\"-26\" rx=\"18\" ry=\"18\"/>\n<text text-anchor=\"middle\" x=\"58.6\" y=\"-22.3\" font-family=\"Times,serif\" font-size=\"14.00\">1</text>\n</g>\n<!-- 1&#45;&gt;2 -->\n<g id=\"edge5\" class=\"edge\">\n<title>1&#45;&gt;2</title>\n<path fill=\"none\" stroke=\"black\" d=\"M76.42,-29.33C84.12,-30.93 93.35,-32.94 101.6,-35 104.95,-35.84 108.47,-36.77 111.93,-37.73\"/>\n<polygon fill=\"black\" stroke=\"black\" points=\"111.29,-40.64 120.28,-40.09 112.91,-34.91 111.29,-40.64\"/>\n<text text-anchor=\"middle\" x=\"98.1\" y=\"-38.8\" font-family=\"Times,serif\" font-size=\"14.00\">a</text>\n</g>\n</g>\n</svg>\n",
            "text/plain": [
              "<AGraph <Swig Object of type 'Agraph_t *' at 0x7a2fc882f900>>"
            ]
          },
          "metadata": {},
          "execution_count": 19
        }
      ]
    },
    {
      "cell_type": "code",
      "source": [
        "fsm.apply_merge_same(28708, tokenizer.backend_tokenizer.model.token_to_id(\"aa\"))\n",
        "fsm.get_dfa().show_diagram()"
      ],
      "metadata": {
        "colab": {
          "base_uri": "https://localhost:8080/"
        },
        "id": "hyaFTlflnz7c",
        "outputId": "bf41979e-3a6b-4830-d097-c1f9e83cb409"
      },
      "execution_count": null,
      "outputs": [
        {
          "output_type": "execute_result",
          "data": {
            "image/svg+xml": "<?xml version=\"1.0\" encoding=\"UTF-8\" standalone=\"no\"?>\n<!DOCTYPE svg PUBLIC \"-//W3C//DTD SVG 1.1//EN\"\n \"http://www.w3.org/Graphics/SVG/1.1/DTD/svg11.dtd\">\n<!-- Generated by graphviz version 2.43.0 (0)\n -->\n<!-- Pages: 1 -->\n<svg width=\"243pt\" height=\"157pt\"\n viewBox=\"0.00 0.00 242.60 157.00\" xmlns=\"http://www.w3.org/2000/svg\" xmlns:xlink=\"http://www.w3.org/1999/xlink\">\n<g id=\"graph0\" class=\"graph\" transform=\"scale(1 1) rotate(0) translate(4 153)\">\n<polygon fill=\"white\" stroke=\"transparent\" points=\"-4,4 -4,-153 238.6,-153 238.6,4 -4,4\"/>\n<!-- ac270a12&#45;1f65&#45;4e80&#45;bd7b&#45;164f9a16a7a6 -->\n<g id=\"node1\" class=\"node\">\n<title>ac270a12&#45;1f65&#45;4e80&#45;bd7b&#45;164f9a16a7a6</title>\n<g id=\"a_node1\"><a xlink:title=\".\">\n<ellipse fill=\"black\" stroke=\"black\" cx=\"1.8\" cy=\"-131\" rx=\"1.8\" ry=\"1.8\"/>\n</a>\n</g>\n</g>\n<!-- 0 -->\n<g id=\"node2\" class=\"node\">\n<title>0</title>\n<ellipse fill=\"none\" stroke=\"black\" cx=\"58.6\" cy=\"-131\" rx=\"18\" ry=\"18\"/>\n<text text-anchor=\"middle\" x=\"58.6\" y=\"-127.3\" font-family=\"Times,serif\" font-size=\"14.00\">0</text>\n</g>\n<!-- ac270a12&#45;1f65&#45;4e80&#45;bd7b&#45;164f9a16a7a6&#45;&gt;0 -->\n<g id=\"edge1\" class=\"edge\">\n<title>ac270a12&#45;1f65&#45;4e80&#45;bd7b&#45;164f9a16a7a6&#45;&gt;0</title>\n<g id=\"a_edge1\"><a xlink:title=\"&#45;&gt;0\">\n<path fill=\"none\" stroke=\"black\" d=\"M3.75,-131C7.25,-131 19.84,-131 31.96,-131\"/>\n<polygon fill=\"black\" stroke=\"black\" points=\"32.08,-133.98 40.58,-131 32.07,-128.03 32.08,-133.98\"/>\n</a>\n</g>\n</g>\n<!-- 2 -->\n<g id=\"node3\" class=\"node\">\n<title>2</title>\n<ellipse fill=\"none\" stroke=\"black\" cx=\"137.6\" cy=\"-131\" rx=\"18\" ry=\"18\"/>\n<text text-anchor=\"middle\" x=\"137.6\" y=\"-127.3\" font-family=\"Times,serif\" font-size=\"14.00\">2</text>\n</g>\n<!-- 0&#45;&gt;2 -->\n<g id=\"edge2\" class=\"edge\">\n<title>0&#45;&gt;2</title>\n<path fill=\"none\" stroke=\"black\" d=\"M76.69,-131C86.76,-131 99.69,-131 110.96,-131\"/>\n<polygon fill=\"black\" stroke=\"black\" points=\"111.06,-133.98 119.56,-131 111.06,-128.03 111.06,-133.98\"/>\n<text text-anchor=\"middle\" x=\"98.1\" y=\"-134.8\" font-family=\"Times,serif\" font-size=\"14.00\">z</text>\n</g>\n<!-- 4 -->\n<g id=\"node4\" class=\"node\">\n<title>4</title>\n<ellipse fill=\"none\" stroke=\"black\" cx=\"216.6\" cy=\"-125\" rx=\"18\" ry=\"18\"/>\n<text text-anchor=\"middle\" x=\"216.6\" y=\"-121.3\" font-family=\"Times,serif\" font-size=\"14.00\">4</text>\n</g>\n<!-- 2&#45;&gt;4 -->\n<g id=\"edge3\" class=\"edge\">\n<title>2&#45;&gt;4</title>\n<path fill=\"none\" stroke=\"black\" d=\"M155.69,-129.67C165.76,-128.88 178.69,-127.88 189.96,-127\"/>\n<polygon fill=\"black\" stroke=\"black\" points=\"190.32,-129.96 198.56,-126.33 189.85,-124.02 190.32,-129.96\"/>\n<text text-anchor=\"middle\" x=\"177.1\" y=\"-131.8\" font-family=\"Times,serif\" font-size=\"14.00\">a</text>\n</g>\n<!-- 3 -->\n<g id=\"node5\" class=\"node\">\n<title>3</title>\n<ellipse fill=\"none\" stroke=\"black\" cx=\"216.6\" cy=\"-53\" rx=\"18\" ry=\"18\"/>\n<text text-anchor=\"middle\" x=\"216.6\" y=\"-49.3\" font-family=\"Times,serif\" font-size=\"14.00\">3</text>\n</g>\n<!-- 2&#45;&gt;3 -->\n<g id=\"edge4\" class=\"edge\">\n<title>2&#45;&gt;3</title>\n<path fill=\"none\" stroke=\"black\" d=\"M150.97,-118.47C163.43,-105.85 182.81,-86.22 197.1,-71.75\"/>\n<polygon fill=\"black\" stroke=\"black\" points=\"199.41,-73.64 203.26,-65.5 195.17,-69.46 199.41,-73.64\"/>\n<text text-anchor=\"middle\" x=\"177.1\" y=\"-98.8\" font-family=\"Times,serif\" font-size=\"14.00\">y</text>\n</g>\n<!-- 1 -->\n<g id=\"node6\" class=\"node\">\n<title>1</title>\n<ellipse fill=\"none\" stroke=\"black\" cx=\"58.6\" cy=\"-64\" rx=\"18\" ry=\"18\"/>\n<text text-anchor=\"middle\" x=\"58.6\" y=\"-60.3\" font-family=\"Times,serif\" font-size=\"14.00\">1</text>\n</g>\n<!-- 1&#45;&gt;4 -->\n<g id=\"edge5\" class=\"edge\">\n<title>1&#45;&gt;4</title>\n<path fill=\"none\" stroke=\"black\" d=\"M76.8,-63.71C101.37,-64.03 147.24,-67.36 180.6,-86 188.18,-90.24 194.98,-96.74 200.52,-103.22\"/>\n<polygon fill=\"black\" stroke=\"black\" points=\"198.4,-105.33 206.01,-110.15 203.06,-101.64 198.4,-105.33\"/>\n<text text-anchor=\"middle\" x=\"137.6\" y=\"-79.8\" font-family=\"Times,serif\" font-size=\"14.00\">aa</text>\n</g>\n<!-- 5 -->\n<g id=\"node7\" class=\"node\">\n<title>5</title>\n<ellipse fill=\"none\" stroke=\"black\" cx=\"137.6\" cy=\"-18\" rx=\"18\" ry=\"18\"/>\n<text text-anchor=\"middle\" x=\"137.6\" y=\"-14.3\" font-family=\"Times,serif\" font-size=\"14.00\">5</text>\n</g>\n<!-- 1&#45;&gt;5 -->\n<g id=\"edge6\" class=\"edge\">\n<title>1&#45;&gt;5</title>\n<path fill=\"none\" stroke=\"black\" d=\"M74.58,-55C80.78,-51.28 88.03,-46.93 94.6,-43 100.95,-39.2 107.85,-35.09 114.18,-31.32\"/>\n<polygon fill=\"black\" stroke=\"black\" points=\"116.04,-33.68 121.82,-26.78 112.99,-28.57 116.04,-33.68\"/>\n<text text-anchor=\"middle\" x=\"98.1\" y=\"-46.8\" font-family=\"Times,serif\" font-size=\"14.00\">a</text>\n</g>\n<!-- 5&#45;&gt;3 -->\n<g id=\"edge7\" class=\"edge\">\n<title>5&#45;&gt;3</title>\n<path fill=\"none\" stroke=\"black\" d=\"M154.18,-25.08C165.04,-30.02 179.71,-36.69 192,-42.27\"/>\n<polygon fill=\"black\" stroke=\"black\" points=\"191.07,-45.12 200.04,-45.93 193.53,-39.7 191.07,-45.12\"/>\n<text text-anchor=\"middle\" x=\"177.1\" y=\"-40.8\" font-family=\"Times,serif\" font-size=\"14.00\">y</text>\n</g>\n</g>\n</svg>\n",
            "text/plain": [
              "<AGraph <Swig Object of type 'Agraph_t *' at 0x7a2ed8b33a50>>"
            ]
          },
          "metadata": {},
          "execution_count": 20
        }
      ]
    },
    {
      "cell_type": "code",
      "source": [
        "map = {0: {28764: 2}, 1: {28708: 2}, 2: {28708: 2, 28764: 2, 28724: 3}, 3: {}}\n",
        "fsm = DirectMergeFSM(interegular.parse_pattern(\"abcd\").to_fsm(), string.printable, tokenizer)\n",
        "fsm.map = map\n",
        "fsm.final_states = set()\n",
        "fsm.initial_state = 0\n",
        "fsm.build_internal_variables()\n",
        "fsm.get_dfa().show_diagram()"
      ],
      "metadata": {
        "colab": {
          "base_uri": "https://localhost:8080/"
        },
        "id": "BxxfW1Eg-xJa",
        "outputId": "76969bc6-8bff-4161-8bc6-1627dd8df202"
      },
      "execution_count": null,
      "outputs": [
        {
          "output_type": "execute_result",
          "data": {
            "image/svg+xml": "<?xml version=\"1.0\" encoding=\"UTF-8\" standalone=\"no\"?>\n<!DOCTYPE svg PUBLIC \"-//W3C//DTD SVG 1.1//EN\"\n \"http://www.w3.org/Graphics/SVG/1.1/DTD/svg11.dtd\">\n<!-- Generated by graphviz version 2.43.0 (0)\n -->\n<!-- Pages: 1 -->\n<svg width=\"243pt\" height=\"98pt\"\n viewBox=\"0.00 0.00 242.60 98.00\" xmlns=\"http://www.w3.org/2000/svg\" xmlns:xlink=\"http://www.w3.org/1999/xlink\">\n<g id=\"graph0\" class=\"graph\" transform=\"scale(1 1) rotate(0) translate(4 94)\">\n<polygon fill=\"white\" stroke=\"transparent\" points=\"-4,4 -4,-94 238.6,-94 238.6,4 -4,4\"/>\n<!-- 6f43465e&#45;1637&#45;41fe&#45;b6cc&#45;c3b05df044da -->\n<g id=\"node1\" class=\"node\">\n<title>6f43465e&#45;1637&#45;41fe&#45;b6cc&#45;c3b05df044da</title>\n<g id=\"a_node1\"><a xlink:title=\".\">\n<ellipse fill=\"black\" stroke=\"black\" cx=\"1.8\" cy=\"-72\" rx=\"1.8\" ry=\"1.8\"/>\n</a>\n</g>\n</g>\n<!-- 0 -->\n<g id=\"node2\" class=\"node\">\n<title>0</title>\n<ellipse fill=\"none\" stroke=\"black\" cx=\"58.6\" cy=\"-72\" rx=\"18\" ry=\"18\"/>\n<text text-anchor=\"middle\" x=\"58.6\" y=\"-68.3\" font-family=\"Times,serif\" font-size=\"14.00\">0</text>\n</g>\n<!-- 6f43465e&#45;1637&#45;41fe&#45;b6cc&#45;c3b05df044da&#45;&gt;0 -->\n<g id=\"edge1\" class=\"edge\">\n<title>6f43465e&#45;1637&#45;41fe&#45;b6cc&#45;c3b05df044da&#45;&gt;0</title>\n<g id=\"a_edge1\"><a xlink:title=\"&#45;&gt;0\">\n<path fill=\"none\" stroke=\"black\" d=\"M3.75,-72C7.25,-72 19.84,-72 31.96,-72\"/>\n<polygon fill=\"black\" stroke=\"black\" points=\"32.08,-74.98 40.58,-72 32.07,-69.03 32.08,-74.98\"/>\n</a>\n</g>\n</g>\n<!-- 2 -->\n<g id=\"node3\" class=\"node\">\n<title>2</title>\n<ellipse fill=\"none\" stroke=\"black\" cx=\"137.6\" cy=\"-37\" rx=\"18\" ry=\"18\"/>\n<text text-anchor=\"middle\" x=\"137.6\" y=\"-33.3\" font-family=\"Times,serif\" font-size=\"14.00\">2</text>\n</g>\n<!-- 0&#45;&gt;2 -->\n<g id=\"edge2\" class=\"edge\">\n<title>0&#45;&gt;2</title>\n<path fill=\"none\" stroke=\"black\" d=\"M75.18,-64.92C86.04,-59.98 100.71,-53.31 113,-47.73\"/>\n<polygon fill=\"black\" stroke=\"black\" points=\"114.53,-50.3 121.04,-44.07 112.07,-44.88 114.53,-50.3\"/>\n<text text-anchor=\"middle\" x=\"98.1\" y=\"-59.8\" font-family=\"Times,serif\" font-size=\"14.00\">z</text>\n</g>\n<!-- 2&#45;&gt;2 -->\n<g id=\"edge3\" class=\"edge\">\n<title>2&#45;&gt;2</title>\n<path fill=\"none\" stroke=\"black\" d=\"M130.87,-54.04C129.49,-63.86 131.74,-73 137.6,-73 141.63,-73 143.95,-68.68 144.56,-62.79\"/>\n<polygon fill=\"black\" stroke=\"black\" points=\"147.53,-62.46 144.33,-54.04 141.58,-62.61 147.53,-62.46\"/>\n<text text-anchor=\"middle\" x=\"137.6\" y=\"-76.8\" font-family=\"Times,serif\" font-size=\"14.00\">a,z</text>\n</g>\n<!-- 3 -->\n<g id=\"node4\" class=\"node\">\n<title>3</title>\n<ellipse fill=\"none\" stroke=\"black\" cx=\"216.6\" cy=\"-37\" rx=\"18\" ry=\"18\"/>\n<text text-anchor=\"middle\" x=\"216.6\" y=\"-33.3\" font-family=\"Times,serif\" font-size=\"14.00\">3</text>\n</g>\n<!-- 2&#45;&gt;3 -->\n<g id=\"edge4\" class=\"edge\">\n<title>2&#45;&gt;3</title>\n<path fill=\"none\" stroke=\"black\" d=\"M155.69,-37C165.76,-37 178.69,-37 189.96,-37\"/>\n<polygon fill=\"black\" stroke=\"black\" points=\"190.06,-39.98 198.56,-37 190.06,-34.03 190.06,-39.98\"/>\n<text text-anchor=\"middle\" x=\"177.1\" y=\"-40.8\" font-family=\"Times,serif\" font-size=\"14.00\">y</text>\n</g>\n<!-- 1 -->\n<g id=\"node5\" class=\"node\">\n<title>1</title>\n<ellipse fill=\"none\" stroke=\"black\" cx=\"58.6\" cy=\"-18\" rx=\"18\" ry=\"18\"/>\n<text text-anchor=\"middle\" x=\"58.6\" y=\"-14.3\" font-family=\"Times,serif\" font-size=\"14.00\">1</text>\n</g>\n<!-- 1&#45;&gt;2 -->\n<g id=\"edge5\" class=\"edge\">\n<title>1&#45;&gt;2</title>\n<path fill=\"none\" stroke=\"black\" d=\"M76.42,-21.33C84.12,-22.93 93.35,-24.94 101.6,-27 104.95,-27.84 108.47,-28.77 111.93,-29.73\"/>\n<polygon fill=\"black\" stroke=\"black\" points=\"111.29,-32.64 120.28,-32.09 112.91,-26.91 111.29,-32.64\"/>\n<text text-anchor=\"middle\" x=\"98.1\" y=\"-30.8\" font-family=\"Times,serif\" font-size=\"14.00\">a</text>\n</g>\n</g>\n</svg>\n",
            "text/plain": [
              "<AGraph <Swig Object of type 'Agraph_t *' at 0x7a2ed8b32970>>"
            ]
          },
          "metadata": {},
          "execution_count": 21
        }
      ]
    },
    {
      "cell_type": "code",
      "source": [
        "fsm.apply_merge_same(28708, tokenizer.backend_tokenizer.model.token_to_id(\"aa\"))\n",
        "fsm.get_dfa().show_diagram()"
      ],
      "metadata": {
        "colab": {
          "base_uri": "https://localhost:8080/"
        },
        "id": "QFH3w5Hx_Rds",
        "outputId": "b95130f6-2dfc-4690-a7ed-898e39b9cc73"
      },
      "execution_count": null,
      "outputs": [
        {
          "output_type": "execute_result",
          "data": {
            "image/svg+xml": "<?xml version=\"1.0\" encoding=\"UTF-8\" standalone=\"no\"?>\n<!DOCTYPE svg PUBLIC \"-//W3C//DTD SVG 1.1//EN\"\n \"http://www.w3.org/Graphics/SVG/1.1/DTD/svg11.dtd\">\n<!-- Generated by graphviz version 2.43.0 (0)\n -->\n<!-- Pages: 1 -->\n<svg width=\"328pt\" height=\"139pt\"\n viewBox=\"0.00 0.00 327.60 139.00\" xmlns=\"http://www.w3.org/2000/svg\" xmlns:xlink=\"http://www.w3.org/1999/xlink\">\n<g id=\"graph0\" class=\"graph\" transform=\"scale(1 1) rotate(0) translate(4 135)\">\n<polygon fill=\"white\" stroke=\"transparent\" points=\"-4,4 -4,-135 323.6,-135 323.6,4 -4,4\"/>\n<!-- 730c5f00&#45;e303&#45;4bc7&#45;9b1a&#45;3b3d9726c919 -->\n<g id=\"node1\" class=\"node\">\n<title>730c5f00&#45;e303&#45;4bc7&#45;9b1a&#45;3b3d9726c919</title>\n<g id=\"a_node1\"><a xlink:title=\".\">\n<ellipse fill=\"black\" stroke=\"black\" cx=\"1.8\" cy=\"-80\" rx=\"1.8\" ry=\"1.8\"/>\n</a>\n</g>\n</g>\n<!-- 0 -->\n<g id=\"node2\" class=\"node\">\n<title>0</title>\n<ellipse fill=\"none\" stroke=\"black\" cx=\"58.6\" cy=\"-80\" rx=\"18\" ry=\"18\"/>\n<text text-anchor=\"middle\" x=\"58.6\" y=\"-76.3\" font-family=\"Times,serif\" font-size=\"14.00\">0</text>\n</g>\n<!-- 730c5f00&#45;e303&#45;4bc7&#45;9b1a&#45;3b3d9726c919&#45;&gt;0 -->\n<g id=\"edge1\" class=\"edge\">\n<title>730c5f00&#45;e303&#45;4bc7&#45;9b1a&#45;3b3d9726c919&#45;&gt;0</title>\n<g id=\"a_edge1\"><a xlink:title=\"&#45;&gt;0\">\n<path fill=\"none\" stroke=\"black\" d=\"M3.75,-80C7.25,-80 19.84,-80 31.96,-80\"/>\n<polygon fill=\"black\" stroke=\"black\" points=\"32.08,-82.98 40.58,-80 32.07,-77.03 32.08,-82.98\"/>\n</a>\n</g>\n</g>\n<!-- 2 -->\n<g id=\"node3\" class=\"node\">\n<title>2</title>\n<ellipse fill=\"none\" stroke=\"black\" cx=\"143.6\" cy=\"-80\" rx=\"18\" ry=\"18\"/>\n<text text-anchor=\"middle\" x=\"143.6\" y=\"-76.3\" font-family=\"Times,serif\" font-size=\"14.00\">2</text>\n</g>\n<!-- 0&#45;&gt;2 -->\n<g id=\"edge2\" class=\"edge\">\n<title>0&#45;&gt;2</title>\n<path fill=\"none\" stroke=\"black\" d=\"M76.8,-80C88.37,-80 103.84,-80 116.87,-80\"/>\n<polygon fill=\"black\" stroke=\"black\" points=\"116.92,-82.98 125.42,-80 116.92,-77.03 116.92,-82.98\"/>\n<text text-anchor=\"middle\" x=\"101.1\" y=\"-83.8\" font-family=\"Times,serif\" font-size=\"14.00\">z</text>\n</g>\n<!-- 2&#45;&gt;2 -->\n<g id=\"edge3\" class=\"edge\">\n<title>2&#45;&gt;2</title>\n<path fill=\"none\" stroke=\"black\" d=\"M136.87,-97.04C135.49,-106.86 137.74,-116 143.6,-116 147.63,-116 149.95,-111.68 150.56,-105.79\"/>\n<polygon fill=\"black\" stroke=\"black\" points=\"153.53,-105.46 150.33,-97.04 147.58,-105.61 153.53,-105.46\"/>\n<text text-anchor=\"middle\" x=\"143.6\" y=\"-119.8\" font-family=\"Times,serif\" font-size=\"14.00\">aa,z</text>\n</g>\n<!-- 4 -->\n<g id=\"node4\" class=\"node\">\n<title>4</title>\n<ellipse fill=\"none\" stroke=\"black\" cx=\"222.6\" cy=\"-49\" rx=\"18\" ry=\"18\"/>\n<text text-anchor=\"middle\" x=\"222.6\" y=\"-45.3\" font-family=\"Times,serif\" font-size=\"14.00\">4</text>\n</g>\n<!-- 2&#45;&gt;4 -->\n<g id=\"edge4\" class=\"edge\">\n<title>2&#45;&gt;4</title>\n<path fill=\"none\" stroke=\"black\" d=\"M160.55,-73.58C171.29,-69.25 185.64,-63.48 197.73,-58.61\"/>\n<polygon fill=\"black\" stroke=\"black\" points=\"198.9,-61.35 205.67,-55.41 196.67,-55.83 198.9,-61.35\"/>\n<text text-anchor=\"middle\" x=\"183.1\" y=\"-69.8\" font-family=\"Times,serif\" font-size=\"14.00\">a</text>\n</g>\n<!-- 3 -->\n<g id=\"node5\" class=\"node\">\n<title>3</title>\n<ellipse fill=\"none\" stroke=\"black\" cx=\"301.6\" cy=\"-83\" rx=\"18\" ry=\"18\"/>\n<text text-anchor=\"middle\" x=\"301.6\" y=\"-79.3\" font-family=\"Times,serif\" font-size=\"14.00\">3</text>\n</g>\n<!-- 2&#45;&gt;3 -->\n<g id=\"edge5\" class=\"edge\">\n<title>2&#45;&gt;3</title>\n<path fill=\"none\" stroke=\"black\" d=\"M161.64,-82.84C167.34,-83.68 173.73,-84.51 179.6,-85 217.7,-88.19 227.43,-89.17 265.6,-87 268.62,-86.83 271.78,-86.57 274.92,-86.27\"/>\n<polygon fill=\"black\" stroke=\"black\" points=\"275.41,-89.21 283.54,-85.34 274.77,-83.3 275.41,-89.21\"/>\n<text text-anchor=\"middle\" x=\"222.6\" y=\"-92.8\" font-family=\"Times,serif\" font-size=\"14.00\">y</text>\n</g>\n<!-- 4&#45;&gt;2 -->\n<g id=\"edge6\" class=\"edge\">\n<title>4&#45;&gt;2</title>\n<path fill=\"none\" stroke=\"black\" d=\"M205.11,-43.88C197.13,-42.28 187.59,-41.69 179.6,-45 172.3,-48.02 165.72,-53.4 160.3,-59.04\"/>\n<polygon fill=\"black\" stroke=\"black\" points=\"157.86,-57.31 154.48,-65.66 162.33,-61.24 157.86,-57.31\"/>\n<text text-anchor=\"middle\" x=\"183.1\" y=\"-48.8\" font-family=\"Times,serif\" font-size=\"14.00\">z</text>\n</g>\n<!-- 4&#45;&gt;3 -->\n<g id=\"edge7\" class=\"edge\">\n<title>4&#45;&gt;3</title>\n<path fill=\"none\" stroke=\"black\" d=\"M239.55,-56.05C250.36,-60.82 264.83,-67.21 276.97,-72.57\"/>\n<polygon fill=\"black\" stroke=\"black\" points=\"275.95,-75.37 284.93,-76.08 278.36,-69.93 275.95,-75.37\"/>\n<text text-anchor=\"middle\" x=\"262.1\" y=\"-71.8\" font-family=\"Times,serif\" font-size=\"14.00\">y</text>\n</g>\n<!-- 1 -->\n<g id=\"node6\" class=\"node\">\n<title>1</title>\n<ellipse fill=\"none\" stroke=\"black\" cx=\"58.6\" cy=\"-18\" rx=\"18\" ry=\"18\"/>\n<text text-anchor=\"middle\" x=\"58.6\" y=\"-14.3\" font-family=\"Times,serif\" font-size=\"14.00\">1</text>\n</g>\n<!-- 1&#45;&gt;2 -->\n<g id=\"edge8\" class=\"edge\">\n<title>1&#45;&gt;2</title>\n<path fill=\"none\" stroke=\"black\" d=\"M73.68,-28.52C86.88,-38.38 106.77,-53.23 121.79,-64.46\"/>\n<polygon fill=\"black\" stroke=\"black\" points=\"120.14,-66.94 128.73,-69.64 123.7,-62.17 120.14,-66.94\"/>\n<text text-anchor=\"middle\" x=\"101.1\" y=\"-56.8\" font-family=\"Times,serif\" font-size=\"14.00\">aa</text>\n</g>\n<!-- 1&#45;&gt;4 -->\n<g id=\"edge9\" class=\"edge\">\n<title>1&#45;&gt;4</title>\n<path fill=\"none\" stroke=\"black\" d=\"M76.53,-20.49C100.95,-24.18 147.44,-31.59 186.6,-40 189.79,-40.69 193.14,-41.47 196.43,-42.27\"/>\n<polygon fill=\"black\" stroke=\"black\" points=\"195.96,-45.22 204.93,-44.42 197.42,-39.45 195.96,-45.22\"/>\n<text text-anchor=\"middle\" x=\"143.6\" y=\"-38.8\" font-family=\"Times,serif\" font-size=\"14.00\">a</text>\n</g>\n</g>\n</svg>\n",
            "text/plain": [
              "<AGraph <Swig Object of type 'Agraph_t *' at 0x7a2ed8b32ca0>>"
            ]
          },
          "metadata": {},
          "execution_count": 22
        }
      ]
    },
    {
      "cell_type": "markdown",
      "source": [
        "# `CartesianMerge`"
      ],
      "metadata": {
        "id": "9oId_bk9kopW"
      }
    },
    {
      "cell_type": "markdown",
      "metadata": {
        "id": "bwa0uMF8h4UB"
      },
      "source": [
        "## Implementation: DirectMerge applied to `\".*\"`\n",
        "\n",
        "Cf. Algorithm 3 of the technical appendix."
      ]
    },
    {
      "cell_type": "code",
      "execution_count": null,
      "metadata": {
        "id": "_FsT_8zbRZ-X"
      },
      "outputs": [],
      "source": [
        "class ReversibleDict(dict):\n",
        "    \"\"\"\n",
        "    Subclass of dict that automatically maintains the inverse dictionary\n",
        "    \"\"\"\n",
        "    def __init__(self, *args, **kwargs):\n",
        "        \"\"\"\n",
        "        Initialize the reversible dict.\n",
        "        \"\"\"\n",
        "        self.update(*args, **kwargs)\n",
        "        self.inverse_dictionary = {}\n",
        "        for key in self:\n",
        "            val = self[key]\n",
        "            if val in self.inverse_dictionary:\n",
        "                self.inverse_dictionary[val].add(key)\n",
        "            else:\n",
        "                self.inverse_dictionary[val] = set([key])\n",
        "\n",
        "    def __setitem__(self, key, val):\n",
        "        \"\"\"\n",
        "        Set an item in the reversible dict.\n",
        "        \"\"\"\n",
        "        if key in self:\n",
        "            previous_val = self[key]\n",
        "            self.inverse_dictionary[previous_val].remove(key)\n",
        "        super(ReversibleDict, self).__setitem__(key, val)\n",
        "        if val in self.inverse_dictionary:\n",
        "            self.inverse_dictionary[val].add(key)\n",
        "        else:\n",
        "            self.inverse_dictionary[val] = set([key])\n",
        "\n",
        "    def __delitem__(self, key):\n",
        "        \"\"\"\n",
        "        Remove an item from the reversible dict.\n",
        "        \"\"\"\n",
        "        if key in self:\n",
        "            val = self[key]\n",
        "            super(ReversibleDict, self).__delitem__(key)\n",
        "            if val in self.inverse_dictionary:\n",
        "                self.inverse_dictionary[val].remove(key)\n",
        "\n",
        "    def get_preimage(self, val):\n",
        "        \"\"\"\n",
        "        Get the set of the keys with a certain value.\n",
        "        \"\"\"\n",
        "        if val in self.inverse_dictionary:\n",
        "            return self.inverse_dictionary[val]\n",
        "        else:\n",
        "            return set()\n",
        "\n",
        "class TokenizerFSM():\n",
        "    \"\"\"\n",
        "    Object to create and build the DFA for `\".*\"` with DirectMerge.\n",
        "    \"\"\"\n",
        "    def __init__(self, initial_token_ids, tokenizer, merge_table):\n",
        "        \"\"\"\n",
        "        Initialize the DFA.\n",
        "        \"\"\"\n",
        "        self.id2state = ReversibleDict({k: 0 for k in initial_token_ids})\n",
        "        self.state2forbidden = {0: set()}\n",
        "        self.apply_merges(tokenizer, merge_table)\n",
        "\n",
        "    def apply_merge(self, id1, id2, id_merged):\n",
        "        \"\"\"\n",
        "        Implement DirectMerge for a merge operation.\n",
        "        \"\"\"\n",
        "        try:\n",
        "            state1, state2 = self.id2state[id1], self.id2state[id2]\n",
        "        except:\n",
        "            return\n",
        "        if id2 in self.state2forbidden[state1]:\n",
        "            return\n",
        "\n",
        "        if state1 == 0 or len(self.id2state.get_preimage(state1)) > 1 or id1 == id2:\n",
        "            N = len(self.state2forbidden)\n",
        "            self.id2state[id1] = N\n",
        "            self.state2forbidden[N], state1 = set(self.state2forbidden[state1]), N\n",
        "            for t in self.state2forbidden[N]:\n",
        "                self.forbidden2states[t].add(N)\n",
        "        self.state2forbidden[state1].add(id2)\n",
        "        self.forbidden2states[id2].add(state1)\n",
        "\n",
        "        self.id2state[id_merged] = state2\n",
        "        for s in self.forbidden2states[id1]:\n",
        "            self.state2forbidden[s].add(id_merged)\n",
        "            self.forbidden2states[id_merged].add(s)\n",
        "\n",
        "    def apply_merges(self, tokenizer, merge_table):\n",
        "        \"\"\"\n",
        "        Iteratively apply DirectMerge for all merge operations of the merge table.\n",
        "        \"\"\"\n",
        "        self.forbidden2states = defaultdict(set)\n",
        "        for m in merge_table:\n",
        "            token1, token2 = m.split(\" \")\n",
        "            id1 = get_token_id(token1, tokenizer)\n",
        "            id2 = get_token_id(token2, tokenizer)\n",
        "            id_merged = get_token_id(token1 + token2, tokenizer)\n",
        "            assert id1 is not None and id2 is not None and id_merged is not None\n",
        "            self.apply_merge(id1, id2, id_merged)\n",
        "        del self.forbidden2states\n",
        "        self.fuse_equivalent_states()\n",
        "\n",
        "    def fuse_equivalent_states(self):\n",
        "        \"\"\"\n",
        "        Fuse states with the same list of forbidden tokens.\n",
        "        \"\"\"\n",
        "        forbidden2current_states = defaultdict(set)\n",
        "        for s in self.state2forbidden:\n",
        "            forbidden = self.state2forbidden[s]\n",
        "            forbidden2current_states[\"-\".join(sorted([str(x) for x in forbidden]))].add(s)\n",
        "\n",
        "        current_state2new_state, i = {}, 0\n",
        "        for f in forbidden2current_states:\n",
        "            for s in forbidden2current_states[f]:\n",
        "                current_state2new_state[s] = i\n",
        "            i += 1\n",
        "\n",
        "        assert current_state2new_state[0] == 0\n",
        "        self.id2state = {\n",
        "            t: current_state2new_state[self.id2state[t]]\n",
        "            for t in self.id2state\n",
        "        }\n",
        "        new_state2forbidden = {}\n",
        "        for s in self.state2forbidden:\n",
        "            new_state = current_state2new_state[s]\n",
        "            if new_state not in new_state2forbidden:\n",
        "                new_state2forbidden[new_state] = self.state2forbidden[s]\n",
        "        self.state2forbidden = new_state2forbidden\n",
        "\n",
        "def get_dfa_from_tokenizer_fsm(tokenizer_fsm):\n",
        "    \"\"\"\n",
        "    Return the corresponding DFA in view of displaying it.\n",
        "    \"\"\"\n",
        "    states = {x for x in tokenizer_fsm.state2forbidden}\n",
        "    input_symbols = {\n",
        "        get_token(x, tokenizer)\n",
        "        for x in tokenizer_fsm.id2state\n",
        "    }\n",
        "    transitions = {}\n",
        "    for s in tokenizer_fsm.state2forbidden:\n",
        "        transitions[s] = {\n",
        "            get_token(x, tokenizer): tokenizer_fsm.id2state[x]\n",
        "            for x in tokenizer_fsm.id2state\n",
        "            if x not in tokenizer_fsm.state2forbidden[s]\n",
        "        }\n",
        "    initial_state = min([(s, len(tokenizer_fsm.state2forbidden[s])) for s in tokenizer_fsm.state2forbidden], key=lambda x: x[1])[0]\n",
        "    return DFA(\n",
        "        states=states,\n",
        "        input_symbols=input_symbols,\n",
        "        transitions=transitions,\n",
        "        initial_state=initial_state,\n",
        "        final_states=states,\n",
        "        allow_partial=True\n",
        "    )"
      ]
    },
    {
      "cell_type": "markdown",
      "metadata": {
        "id": "QAqDlmgOh0eT"
      },
      "source": [
        "## Implementation: brute-force method\n",
        "\n",
        "Cf. Algorithm 4 of the technical appendix"
      ]
    },
    {
      "cell_type": "code",
      "execution_count": null,
      "metadata": {
        "id": "VHHgIjx7woRN"
      },
      "outputs": [],
      "source": [
        "class BruteForceTokenizerFSM():\n",
        "    \"\"\"\n",
        "    Object to create and build the DFA for `\".*\"` with a brute force approach.\n",
        "    \"\"\"\n",
        "    def __init__(self, letters, tokenizer):\n",
        "        self.id2state = {}\n",
        "        self.state2forbidden = {}\n",
        "\n",
        "        restricted_vocabulary = set()\n",
        "        for w in tokenizer.vocab:\n",
        "            for c in w:\n",
        "                if c not in letters:\n",
        "                    break\n",
        "            else:\n",
        "                restricted_vocabulary.add(get_token_id(w, tokenizer))\n",
        "\n",
        "        # We test a token and another token are decoded and encoded in the same\n",
        "        # pair. If not, the second token is disallowed for the first token.\n",
        "        state2tokens = defaultdict(set)\n",
        "        for token_id1 in restricted_vocabulary:\n",
        "            forbidden = []\n",
        "            token1 = get_token(token_id1, tokenizer)\n",
        "            for token_id2 in restricted_vocabulary:\n",
        "                token2 = get_token(token_id2, tokenizer)\n",
        "                merged = token1 + token2\n",
        "                decoded_encoded = [\n",
        "                    x.as_tuple()[0]\n",
        "                    for x in tokenizer.backend_tokenizer.model.tokenize(merged)\n",
        "                ]\n",
        "                if len(decoded_encoded) != 2:\n",
        "                    forbidden.append(str(token_id2))\n",
        "                else:\n",
        "                    x, y = decoded_encoded\n",
        "                    if x != token_id1 or y != token_id2:\n",
        "                        forbidden.append(str(token_id2))\n",
        "            state2tokens[\"-\".join(sorted(forbidden))].add(token_id1)\n",
        "\n",
        "        # We put together the tokens whose disallowed tokens are the same.\n",
        "        i = 0\n",
        "        for f in state2tokens:\n",
        "            if len(f) > 0:\n",
        "                self.state2forbidden[i] = set([int(x) for x in f.split(\"-\")])\n",
        "            else:\n",
        "                self.state2forbidden[i] = set()\n",
        "            for token_id in state2tokens[f]:\n",
        "                self.id2state[token_id] = i\n",
        "            i += 1"
      ]
    },
    {
      "cell_type": "markdown",
      "metadata": {
        "id": "-7qaC7tlh8L_"
      },
      "source": [
        "## Test: toy examples"
      ]
    },
    {
      "cell_type": "markdown",
      "source": [
        "We test DirectMerge applied to `\".*\"` (or more precisely here `\"[a-c]*\"`) with a basic merge table."
      ],
      "metadata": {
        "id": "WbIj8Gkv1joQ"
      }
    },
    {
      "cell_type": "code",
      "execution_count": null,
      "metadata": {
        "colab": {
          "base_uri": "https://localhost:8080/"
        },
        "id": "Y6r0nAUDTNUS",
        "outputId": "b2e562c3-533a-48ac-9e7a-2a746ec2b9c4"
      },
      "outputs": [
        {
          "output_type": "execute_result",
          "data": {
            "image/svg+xml": "<?xml version=\"1.0\" encoding=\"UTF-8\" standalone=\"no\"?>\n<!DOCTYPE svg PUBLIC \"-//W3C//DTD SVG 1.1//EN\"\n \"http://www.w3.org/Graphics/SVG/1.1/DTD/svg11.dtd\">\n<!-- Generated by graphviz version 2.43.0 (0)\n -->\n<!-- Pages: 1 -->\n<svg width=\"303pt\" height=\"144pt\"\n viewBox=\"0.00 0.00 302.60 144.00\" xmlns=\"http://www.w3.org/2000/svg\" xmlns:xlink=\"http://www.w3.org/1999/xlink\">\n<g id=\"graph0\" class=\"graph\" transform=\"scale(1 1) rotate(0) translate(4 140)\">\n<polygon fill=\"white\" stroke=\"transparent\" points=\"-4,4 -4,-140 298.6,-140 298.6,4 -4,4\"/>\n<!-- 2daa340e&#45;3832&#45;497e&#45;bfa3&#45;8a3159f92474 -->\n<g id=\"node1\" class=\"node\">\n<title>2daa340e&#45;3832&#45;497e&#45;bfa3&#45;8a3159f92474</title>\n<g id=\"a_node1\"><a xlink:title=\".\">\n<ellipse fill=\"black\" stroke=\"black\" cx=\"1.8\" cy=\"-42\" rx=\"1.8\" ry=\"1.8\"/>\n</a>\n</g>\n</g>\n<!-- 0 -->\n<g id=\"node2\" class=\"node\">\n<title>0</title>\n<ellipse fill=\"none\" stroke=\"black\" cx=\"62.6\" cy=\"-42\" rx=\"22\" ry=\"22\"/>\n<ellipse fill=\"none\" stroke=\"black\" cx=\"62.6\" cy=\"-42\" rx=\"26\" ry=\"26\"/>\n<text text-anchor=\"middle\" x=\"62.6\" y=\"-38.3\" font-family=\"Times,serif\" font-size=\"14.00\">0</text>\n</g>\n<!-- 2daa340e&#45;3832&#45;497e&#45;bfa3&#45;8a3159f92474&#45;&gt;0 -->\n<g id=\"edge1\" class=\"edge\">\n<title>2daa340e&#45;3832&#45;497e&#45;bfa3&#45;8a3159f92474&#45;&gt;0</title>\n<g id=\"a_edge1\"><a xlink:title=\"&#45;&gt;0\">\n<path fill=\"none\" stroke=\"black\" d=\"M3.82,-42C7.33,-42 19.36,-42 31.54,-42\"/>\n<polygon fill=\"black\" stroke=\"black\" points=\"31.82,-44.98 40.31,-42 31.81,-39.03 31.82,-44.98\"/>\n</a>\n</g>\n</g>\n<!-- 0&#45;&gt;0 -->\n<g id=\"edge2\" class=\"edge\">\n<title>0&#45;&gt;0</title>\n<path fill=\"none\" stroke=\"black\" d=\"M55.28,-62.99C54.38,-73.09 56.82,-82 62.6,-82 66.58,-82 68.97,-77.79 69.78,-71.87\"/>\n<polygon fill=\"black\" stroke=\"black\" points=\"72.77,-71.53 69.92,-62.99 66.82,-71.45 72.77,-71.53\"/>\n<text text-anchor=\"middle\" x=\"62.6\" y=\"-85.8\" font-family=\"Times,serif\" font-size=\"14.00\">ab,ac,b,c</text>\n</g>\n<!-- 1 -->\n<g id=\"node3\" class=\"node\">\n<title>1</title>\n<ellipse fill=\"none\" stroke=\"black\" cx=\"181.6\" cy=\"-81\" rx=\"22\" ry=\"22\"/>\n<ellipse fill=\"none\" stroke=\"black\" cx=\"181.6\" cy=\"-81\" rx=\"26\" ry=\"26\"/>\n<text text-anchor=\"middle\" x=\"181.6\" y=\"-77.3\" font-family=\"Times,serif\" font-size=\"14.00\">1</text>\n</g>\n<!-- 0&#45;&gt;1 -->\n<g id=\"edge3\" class=\"edge\">\n<title>0&#45;&gt;1</title>\n<path fill=\"none\" stroke=\"black\" d=\"M78.01,-58C84.8,-64.44 93.41,-71.23 102.6,-75 117.69,-81.19 135.78,-82.9 150.74,-82.96\"/>\n<polygon fill=\"black\" stroke=\"black\" points=\"151.15,-85.93 159.6,-82.81 151.05,-79.98 151.15,-85.93\"/>\n<text text-anchor=\"middle\" x=\"122.1\" y=\"-85.8\" font-family=\"Times,serif\" font-size=\"14.00\">aa</text>\n</g>\n<!-- 2 -->\n<g id=\"node4\" class=\"node\">\n<title>2</title>\n<ellipse fill=\"none\" stroke=\"black\" cx=\"268.6\" cy=\"-26\" rx=\"22\" ry=\"22\"/>\n<ellipse fill=\"none\" stroke=\"black\" cx=\"268.6\" cy=\"-26\" rx=\"26\" ry=\"26\"/>\n<text text-anchor=\"middle\" x=\"268.6\" y=\"-22.3\" font-family=\"Times,serif\" font-size=\"14.00\">2</text>\n</g>\n<!-- 0&#45;&gt;2 -->\n<g id=\"edge4\" class=\"edge\">\n<title>0&#45;&gt;2</title>\n<path fill=\"none\" stroke=\"black\" d=\"M84.66,-40.35C121.18,-37.48 196.31,-31.59 238.03,-28.32\"/>\n<polygon fill=\"black\" stroke=\"black\" points=\"238.41,-31.27 246.65,-27.64 237.94,-25.34 238.41,-31.27\"/>\n<text text-anchor=\"middle\" x=\"181.6\" y=\"-37.8\" font-family=\"Times,serif\" font-size=\"14.00\">a</text>\n</g>\n<!-- 1&#45;&gt;0 -->\n<g id=\"edge5\" class=\"edge\">\n<title>1&#45;&gt;0</title>\n<path fill=\"none\" stroke=\"black\" d=\"M163.53,-68C156.98,-63.57 149.24,-59 141.6,-56 126.33,-50.01 108.36,-46.56 93.52,-44.59\"/>\n<polygon fill=\"black\" stroke=\"black\" points=\"93.53,-41.59 84.73,-43.54 92.82,-47.5 93.53,-41.59\"/>\n<text text-anchor=\"middle\" x=\"122.1\" y=\"-59.8\" font-family=\"Times,serif\" font-size=\"14.00\">ab,ac,c</text>\n</g>\n<!-- 1&#45;&gt;1 -->\n<g id=\"edge6\" class=\"edge\">\n<title>1&#45;&gt;1</title>\n<path fill=\"none\" stroke=\"black\" d=\"M173.92,-101.99C172.97,-112.09 175.53,-121 181.6,-121 185.77,-121 188.29,-116.79 189.14,-110.87\"/>\n<polygon fill=\"black\" stroke=\"black\" points=\"192.12,-110.54 189.28,-101.99 186.17,-110.44 192.12,-110.54\"/>\n<text text-anchor=\"middle\" x=\"181.6\" y=\"-124.8\" font-family=\"Times,serif\" font-size=\"14.00\">aa</text>\n</g>\n<!-- 1&#45;&gt;2 -->\n<g id=\"edge7\" class=\"edge\">\n<title>1&#45;&gt;2</title>\n<path fill=\"none\" stroke=\"black\" d=\"M200.63,-69.34C212.68,-61.53 228.73,-51.15 242.09,-42.51\"/>\n<polygon fill=\"black\" stroke=\"black\" points=\"244.08,-44.76 249.6,-37.65 240.85,-39.77 244.08,-44.76\"/>\n<text text-anchor=\"middle\" x=\"225.1\" y=\"-58.8\" font-family=\"Times,serif\" font-size=\"14.00\">a</text>\n</g>\n<!-- 2&#45;&gt;0 -->\n<g id=\"edge8\" class=\"edge\">\n<title>2&#45;&gt;0</title>\n<path fill=\"none\" stroke=\"black\" d=\"M247.32,-20.39C234.83,-17.23 218.41,-13.6 203.6,-12 184.16,-9.9 178.93,-9.05 159.6,-12 136.1,-15.59 110.44,-23.84 91.57,-30.79\"/>\n<polygon fill=\"black\" stroke=\"black\" points=\"90.31,-28.08 83.41,-33.87 92.41,-33.65 90.31,-28.08\"/>\n<text text-anchor=\"middle\" x=\"181.6\" y=\"-15.8\" font-family=\"Times,serif\" font-size=\"14.00\">ab</text>\n</g>\n</g>\n</svg>\n",
            "text/plain": [
              "<AGraph <Swig Object of type 'Agraph_t *' at 0x7a2ed8aa3870>>"
            ]
          },
          "metadata": {},
          "execution_count": 25
        }
      ],
      "source": [
        "from automata.fa.dfa import DFA\n",
        "\n",
        "letters = set(\"abc\")\n",
        "tokenizer_fsm = TokenizerFSM(\n",
        "    [get_token_id(c, tokenizer) for c in letters],\n",
        "    tokenizer,\n",
        "    [\"a b\", \"a a\", \"a c\"]\n",
        ")\n",
        "\n",
        "get_dfa_from_tokenizer_fsm(tokenizer_fsm).show_diagram()"
      ]
    },
    {
      "cell_type": "markdown",
      "source": [
        "We test DirectMerge applied to `\".*\"` (or more precisely here `\"a*\"`), as well as the brute force approach, with the whole merge table of the Mistral-7b tokenizer and we check that they provide the same result."
      ],
      "metadata": {
        "id": "cs9ulKCT19Du"
      }
    },
    {
      "cell_type": "code",
      "execution_count": null,
      "metadata": {
        "colab": {
          "base_uri": "https://localhost:8080/"
        },
        "id": "9t7varXi6CXG",
        "outputId": "bf128d0f-abfd-49a9-f0f7-961653208e87"
      },
      "outputs": [
        {
          "output_type": "execute_result",
          "data": {
            "image/svg+xml": "<?xml version=\"1.0\" encoding=\"UTF-8\" standalone=\"no\"?>\n<!DOCTYPE svg PUBLIC \"-//W3C//DTD SVG 1.1//EN\"\n \"http://www.w3.org/Graphics/SVG/1.1/DTD/svg11.dtd\">\n<!-- Generated by graphviz version 2.43.0 (0)\n -->\n<!-- Pages: 1 -->\n<svg width=\"382pt\" height=\"133pt\"\n viewBox=\"0.00 0.00 381.60 132.58\" xmlns=\"http://www.w3.org/2000/svg\" xmlns:xlink=\"http://www.w3.org/1999/xlink\">\n<g id=\"graph0\" class=\"graph\" transform=\"scale(1 1) rotate(0) translate(4 128.58)\">\n<polygon fill=\"white\" stroke=\"transparent\" points=\"-4,4 -4,-128.58 377.6,-128.58 377.6,4 -4,4\"/>\n<!-- 2b3521ba&#45;e500&#45;42ec&#45;b925&#45;26f5ef772665 -->\n<g id=\"node1\" class=\"node\">\n<title>2b3521ba&#45;e500&#45;42ec&#45;b925&#45;26f5ef772665</title>\n<g id=\"a_node1\"><a xlink:title=\".\">\n<ellipse fill=\"black\" stroke=\"black\" cx=\"1.8\" cy=\"-43.58\" rx=\"1.8\" ry=\"1.8\"/>\n</a>\n</g>\n</g>\n<!-- 3 -->\n<g id=\"node2\" class=\"node\">\n<title>3</title>\n<ellipse fill=\"none\" stroke=\"black\" cx=\"62.6\" cy=\"-43.58\" rx=\"22\" ry=\"22\"/>\n<ellipse fill=\"none\" stroke=\"black\" cx=\"62.6\" cy=\"-43.58\" rx=\"26\" ry=\"26\"/>\n<text text-anchor=\"middle\" x=\"62.6\" y=\"-39.88\" font-family=\"Times,serif\" font-size=\"14.00\">3</text>\n</g>\n<!-- 2b3521ba&#45;e500&#45;42ec&#45;b925&#45;26f5ef772665&#45;&gt;3 -->\n<g id=\"edge1\" class=\"edge\">\n<title>2b3521ba&#45;e500&#45;42ec&#45;b925&#45;26f5ef772665&#45;&gt;3</title>\n<g id=\"a_edge1\"><a xlink:title=\"&#45;&gt;3\">\n<path fill=\"none\" stroke=\"black\" d=\"M3.82,-43.58C7.33,-43.58 19.36,-43.58 31.54,-43.58\"/>\n<polygon fill=\"black\" stroke=\"black\" points=\"31.82,-46.55 40.31,-43.58 31.81,-40.6 31.82,-46.55\"/>\n</a>\n</g>\n</g>\n<!-- 3&#45;&gt;3 -->\n<g id=\"edge2\" class=\"edge\">\n<title>3&#45;&gt;3</title>\n<path fill=\"none\" stroke=\"black\" d=\"M55.28,-64.57C54.38,-74.66 56.82,-83.58 62.6,-83.58 66.58,-83.58 68.97,-79.36 69.78,-73.45\"/>\n<polygon fill=\"black\" stroke=\"black\" points=\"72.77,-73.11 69.92,-64.57 66.82,-73.02 72.77,-73.11\"/>\n<text text-anchor=\"middle\" x=\"62.6\" y=\"-87.38\" font-family=\"Times,serif\" font-size=\"14.00\">aaaaaaaa</text>\n</g>\n<!-- 0 -->\n<g id=\"node3\" class=\"node\">\n<title>0</title>\n<ellipse fill=\"none\" stroke=\"black\" cx=\"167.6\" cy=\"-98.58\" rx=\"22\" ry=\"22\"/>\n<ellipse fill=\"none\" stroke=\"black\" cx=\"167.6\" cy=\"-98.58\" rx=\"26\" ry=\"26\"/>\n<text text-anchor=\"middle\" x=\"167.6\" y=\"-94.88\" font-family=\"Times,serif\" font-size=\"14.00\">0</text>\n</g>\n<!-- 3&#45;&gt;0 -->\n<g id=\"edge3\" class=\"edge\">\n<title>3&#45;&gt;0</title>\n<path fill=\"none\" stroke=\"black\" d=\"M82.49,-53.66C98.61,-62.27 121.96,-74.74 139.97,-84.36\"/>\n<polygon fill=\"black\" stroke=\"black\" points=\"138.93,-87.18 147.83,-88.55 141.73,-81.93 138.93,-87.18\"/>\n<text text-anchor=\"middle\" x=\"115.1\" y=\"-81.38\" font-family=\"Times,serif\" font-size=\"14.00\">aaaa</text>\n</g>\n<!-- 1 -->\n<g id=\"node4\" class=\"node\">\n<title>1</title>\n<ellipse fill=\"none\" stroke=\"black\" cx=\"260.6\" cy=\"-47.58\" rx=\"22\" ry=\"22\"/>\n<ellipse fill=\"none\" stroke=\"black\" cx=\"260.6\" cy=\"-47.58\" rx=\"26\" ry=\"26\"/>\n<text text-anchor=\"middle\" x=\"260.6\" y=\"-43.88\" font-family=\"Times,serif\" font-size=\"14.00\">1</text>\n</g>\n<!-- 3&#45;&gt;1 -->\n<g id=\"edge4\" class=\"edge\">\n<title>3&#45;&gt;1</title>\n<path fill=\"none\" stroke=\"black\" d=\"M84.95,-44.01C120.09,-44.73 190.2,-46.16 230.07,-46.97\"/>\n<polygon fill=\"black\" stroke=\"black\" points=\"230.01,-49.95 238.57,-47.15 230.13,-44 230.01,-49.95\"/>\n<text text-anchor=\"middle\" x=\"167.6\" y=\"-49.38\" font-family=\"Times,serif\" font-size=\"14.00\">aa</text>\n</g>\n<!-- 2 -->\n<g id=\"node5\" class=\"node\">\n<title>2</title>\n<ellipse fill=\"none\" stroke=\"black\" cx=\"347.6\" cy=\"-47.58\" rx=\"22\" ry=\"22\"/>\n<ellipse fill=\"none\" stroke=\"black\" cx=\"347.6\" cy=\"-47.58\" rx=\"26\" ry=\"26\"/>\n<text text-anchor=\"middle\" x=\"347.6\" y=\"-43.88\" font-family=\"Times,serif\" font-size=\"14.00\">2</text>\n</g>\n<!-- 3&#45;&gt;2 -->\n<g id=\"edge5\" class=\"edge\">\n<title>3&#45;&gt;2</title>\n<path fill=\"none\" stroke=\"black\" d=\"M83.47,-36.57C122.2,-23.91 210.35,0 282.6,-16.58 295.99,-19.65 309.84,-25.91 321.21,-32.01\"/>\n<polygon fill=\"black\" stroke=\"black\" points=\"319.79,-34.62 328.66,-36.16 322.68,-29.42 319.79,-34.62\"/>\n<text text-anchor=\"middle\" x=\"214.1\" y=\"-15.38\" font-family=\"Times,serif\" font-size=\"14.00\">a</text>\n</g>\n<!-- 0&#45;&gt;1 -->\n<g id=\"edge6\" class=\"edge\">\n<title>0&#45;&gt;1</title>\n<path fill=\"none\" stroke=\"black\" d=\"M187.46,-88.01C200.72,-80.58 218.65,-70.53 233.32,-62.31\"/>\n<polygon fill=\"black\" stroke=\"black\" points=\"235.12,-64.71 241.08,-57.96 232.21,-59.52 235.12,-64.71\"/>\n<text text-anchor=\"middle\" x=\"214.1\" y=\"-79.38\" font-family=\"Times,serif\" font-size=\"14.00\">aa</text>\n</g>\n<!-- 0&#45;&gt;2 -->\n<g id=\"edge7\" class=\"edge\">\n<title>0&#45;&gt;2</title>\n<path fill=\"none\" stroke=\"black\" d=\"M189.67,-96.66C199.16,-95.67 210.48,-94.3 220.6,-92.58 248.45,-87.84 255.92,-87.86 282.6,-78.58 294.24,-74.53 296.5,-71.94 307.6,-66.58 311.57,-64.66 315.76,-62.62 319.86,-60.63\"/>\n<polygon fill=\"black\" stroke=\"black\" points=\"321.23,-63.27 327.57,-56.88 318.63,-57.92 321.23,-63.27\"/>\n<text text-anchor=\"middle\" x=\"260.6\" y=\"-93.38\" font-family=\"Times,serif\" font-size=\"14.00\">a</text>\n</g>\n<!-- 1&#45;&gt;2 -->\n<g id=\"edge8\" class=\"edge\">\n<title>1&#45;&gt;2</title>\n<path fill=\"none\" stroke=\"black\" d=\"M282.61,-47.58C292.93,-47.58 305.54,-47.58 316.83,-47.58\"/>\n<polygon fill=\"black\" stroke=\"black\" points=\"317.04,-50.55 325.54,-47.58 317.04,-44.6 317.04,-50.55\"/>\n<text text-anchor=\"middle\" x=\"304.1\" y=\"-51.38\" font-family=\"Times,serif\" font-size=\"14.00\">a</text>\n</g>\n</g>\n</svg>\n",
            "text/plain": [
              "<AGraph <Swig Object of type 'Agraph_t *' at 0x7a2ed3537db0>>"
            ]
          },
          "metadata": {},
          "execution_count": 26
        }
      ],
      "source": [
        "letters = set(\"a\")\n",
        "\n",
        "brute_force_tokenizer_fsm = BruteForceTokenizerFSM(letters, tokenizer)\n",
        "get_dfa_from_tokenizer_fsm(brute_force_tokenizer_fsm).show_diagram()"
      ]
    },
    {
      "cell_type": "code",
      "execution_count": null,
      "metadata": {
        "colab": {
          "base_uri": "https://localhost:8080/"
        },
        "id": "v8lIWsJv66KB",
        "outputId": "6d3beffd-143f-4fbd-a437-5d3375f27653"
      },
      "outputs": [
        {
          "output_type": "execute_result",
          "data": {
            "image/svg+xml": "<?xml version=\"1.0\" encoding=\"UTF-8\" standalone=\"no\"?>\n<!DOCTYPE svg PUBLIC \"-//W3C//DTD SVG 1.1//EN\"\n \"http://www.w3.org/Graphics/SVG/1.1/DTD/svg11.dtd\">\n<!-- Generated by graphviz version 2.43.0 (0)\n -->\n<!-- Pages: 1 -->\n<svg width=\"382pt\" height=\"147pt\"\n viewBox=\"0.00 0.00 381.60 147.00\" xmlns=\"http://www.w3.org/2000/svg\" xmlns:xlink=\"http://www.w3.org/1999/xlink\">\n<g id=\"graph0\" class=\"graph\" transform=\"scale(1 1) rotate(0) translate(4 143)\">\n<polygon fill=\"white\" stroke=\"transparent\" points=\"-4,4 -4,-143 377.6,-143 377.6,4 -4,4\"/>\n<!-- e93a904e&#45;e61e&#45;4d83&#45;9b36&#45;d56bd17c8ef3 -->\n<g id=\"node1\" class=\"node\">\n<title>e93a904e&#45;e61e&#45;4d83&#45;9b36&#45;d56bd17c8ef3</title>\n<g id=\"a_node1\"><a xlink:title=\".\">\n<ellipse fill=\"black\" stroke=\"black\" cx=\"1.8\" cy=\"-84\" rx=\"1.8\" ry=\"1.8\"/>\n</a>\n</g>\n</g>\n<!-- 0 -->\n<g id=\"node2\" class=\"node\">\n<title>0</title>\n<ellipse fill=\"none\" stroke=\"black\" cx=\"62.6\" cy=\"-84\" rx=\"22\" ry=\"22\"/>\n<ellipse fill=\"none\" stroke=\"black\" cx=\"62.6\" cy=\"-84\" rx=\"26\" ry=\"26\"/>\n<text text-anchor=\"middle\" x=\"62.6\" y=\"-80.3\" font-family=\"Times,serif\" font-size=\"14.00\">0</text>\n</g>\n<!-- e93a904e&#45;e61e&#45;4d83&#45;9b36&#45;d56bd17c8ef3&#45;&gt;0 -->\n<g id=\"edge1\" class=\"edge\">\n<title>e93a904e&#45;e61e&#45;4d83&#45;9b36&#45;d56bd17c8ef3&#45;&gt;0</title>\n<g id=\"a_edge1\"><a xlink:title=\"&#45;&gt;0\">\n<path fill=\"none\" stroke=\"black\" d=\"M3.82,-84C7.33,-84 19.36,-84 31.54,-84\"/>\n<polygon fill=\"black\" stroke=\"black\" points=\"31.82,-86.98 40.31,-84 31.81,-81.03 31.82,-86.98\"/>\n</a>\n</g>\n</g>\n<!-- 0&#45;&gt;0 -->\n<g id=\"edge2\" class=\"edge\">\n<title>0&#45;&gt;0</title>\n<path fill=\"none\" stroke=\"black\" d=\"M55.28,-104.99C54.38,-115.09 56.82,-124 62.6,-124 66.58,-124 68.97,-119.79 69.78,-113.87\"/>\n<polygon fill=\"black\" stroke=\"black\" points=\"72.77,-113.53 69.92,-104.99 66.82,-113.44 72.77,-113.53\"/>\n<text text-anchor=\"middle\" x=\"62.6\" y=\"-127.8\" font-family=\"Times,serif\" font-size=\"14.00\">aaaaaaaa</text>\n</g>\n<!-- 1 -->\n<g id=\"node3\" class=\"node\">\n<title>1</title>\n<ellipse fill=\"none\" stroke=\"black\" cx=\"347.6\" cy=\"-76\" rx=\"22\" ry=\"22\"/>\n<ellipse fill=\"none\" stroke=\"black\" cx=\"347.6\" cy=\"-76\" rx=\"26\" ry=\"26\"/>\n<text text-anchor=\"middle\" x=\"347.6\" y=\"-72.3\" font-family=\"Times,serif\" font-size=\"14.00\">1</text>\n</g>\n<!-- 0&#45;&gt;1 -->\n<g id=\"edge3\" class=\"edge\">\n<title>0&#45;&gt;1</title>\n<path fill=\"none\" stroke=\"black\" d=\"M83.79,-90.47C122.72,-101.99 210.66,-123.37 282.6,-107 296,-103.95 309.85,-97.69 321.22,-91.59\"/>\n<polygon fill=\"black\" stroke=\"black\" points=\"322.69,-94.18 328.66,-87.44 319.79,-88.98 322.69,-94.18\"/>\n<text text-anchor=\"middle\" x=\"214.1\" y=\"-115.8\" font-family=\"Times,serif\" font-size=\"14.00\">a</text>\n</g>\n<!-- 2 -->\n<g id=\"node4\" class=\"node\">\n<title>2</title>\n<ellipse fill=\"none\" stroke=\"black\" cx=\"260.6\" cy=\"-76\" rx=\"22\" ry=\"22\"/>\n<ellipse fill=\"none\" stroke=\"black\" cx=\"260.6\" cy=\"-76\" rx=\"26\" ry=\"26\"/>\n<text text-anchor=\"middle\" x=\"260.6\" y=\"-72.3\" font-family=\"Times,serif\" font-size=\"14.00\">2</text>\n</g>\n<!-- 0&#45;&gt;2 -->\n<g id=\"edge4\" class=\"edge\">\n<title>0&#45;&gt;2</title>\n<path fill=\"none\" stroke=\"black\" d=\"M84.95,-83.13C120.09,-81.69 190.2,-78.83 230.07,-77.2\"/>\n<polygon fill=\"black\" stroke=\"black\" points=\"230.2,-80.18 238.57,-76.86 229.96,-74.23 230.2,-80.18\"/>\n<text text-anchor=\"middle\" x=\"167.6\" y=\"-83.8\" font-family=\"Times,serif\" font-size=\"14.00\">aa</text>\n</g>\n<!-- 3 -->\n<g id=\"node5\" class=\"node\">\n<title>3</title>\n<ellipse fill=\"none\" stroke=\"black\" cx=\"167.6\" cy=\"-26\" rx=\"22\" ry=\"22\"/>\n<ellipse fill=\"none\" stroke=\"black\" cx=\"167.6\" cy=\"-26\" rx=\"26\" ry=\"26\"/>\n<text text-anchor=\"middle\" x=\"167.6\" y=\"-22.3\" font-family=\"Times,serif\" font-size=\"14.00\">3</text>\n</g>\n<!-- 0&#45;&gt;3 -->\n<g id=\"edge5\" class=\"edge\">\n<title>0&#45;&gt;3</title>\n<path fill=\"none\" stroke=\"black\" d=\"M80.14,-70.47C86.88,-65.29 94.89,-59.54 102.6,-55 114.02,-48.27 127.27,-42.03 138.74,-37.08\"/>\n<polygon fill=\"black\" stroke=\"black\" points=\"140.05,-39.75 146.73,-33.71 137.74,-34.27 140.05,-39.75\"/>\n<text text-anchor=\"middle\" x=\"115.1\" y=\"-58.8\" font-family=\"Times,serif\" font-size=\"14.00\">aaaa</text>\n</g>\n<!-- 2&#45;&gt;1 -->\n<g id=\"edge6\" class=\"edge\">\n<title>2&#45;&gt;1</title>\n<path fill=\"none\" stroke=\"black\" d=\"M282.61,-76C292.93,-76 305.54,-76 316.83,-76\"/>\n<polygon fill=\"black\" stroke=\"black\" points=\"317.04,-78.98 325.54,-76 317.04,-73.03 317.04,-78.98\"/>\n<text text-anchor=\"middle\" x=\"304.1\" y=\"-79.8\" font-family=\"Times,serif\" font-size=\"14.00\">a</text>\n</g>\n<!-- 3&#45;&gt;1 -->\n<g id=\"edge7\" class=\"edge\">\n<title>3&#45;&gt;1</title>\n<path fill=\"none\" stroke=\"black\" d=\"M189.43,-23.2C212.79,-20.85 251.49,-19.37 282.6,-30 298.04,-35.27 312.98,-45.62 324.54,-55.16\"/>\n<polygon fill=\"black\" stroke=\"black\" points=\"322.89,-57.67 331.28,-60.95 326.77,-53.15 322.89,-57.67\"/>\n<text text-anchor=\"middle\" x=\"260.6\" y=\"-33.8\" font-family=\"Times,serif\" font-size=\"14.00\">a</text>\n</g>\n<!-- 3&#45;&gt;2 -->\n<g id=\"edge8\" class=\"edge\">\n<title>3&#45;&gt;2</title>\n<path fill=\"none\" stroke=\"black\" d=\"M187.46,-36.36C200.72,-43.65 218.65,-53.5 233.32,-61.56\"/>\n<polygon fill=\"black\" stroke=\"black\" points=\"232.2,-64.34 241.08,-65.82 235.06,-59.12 232.2,-64.34\"/>\n<text text-anchor=\"middle\" x=\"214.1\" y=\"-56.8\" font-family=\"Times,serif\" font-size=\"14.00\">aa</text>\n</g>\n</g>\n</svg>\n",
            "text/plain": [
              "<AGraph <Swig Object of type 'Agraph_t *' at 0x7a2fc882e730>>"
            ]
          },
          "metadata": {},
          "execution_count": 27
        }
      ],
      "source": [
        "tokenizer_fsm = TokenizerFSM(\n",
        "    [get_token_id(c, tokenizer) for c in letters],\n",
        "    tokenizer,\n",
        "    tokenizer_dict[\"model\"][\"merges\"]\n",
        ")\n",
        "get_dfa_from_tokenizer_fsm(tokenizer_fsm).show_diagram()"
      ]
    },
    {
      "cell_type": "code",
      "execution_count": null,
      "metadata": {
        "id": "y0WdoaP1-JYW"
      },
      "outputs": [],
      "source": [
        "def raise_error_if_dissimilar(tokenizer_fsm1, tokenizer_fsm2):\n",
        "    \"\"\"\n",
        "    Compare two DFAs (in the specific format returned by Algorithm 3) and check that they are isomorphic.\n",
        "    \"\"\"\n",
        "    assert tuple(sorted(tokenizer_fsm1.id2state.keys())) == tuple(sorted(tokenizer_fsm2.id2state.keys()))\n",
        "    for token_id in tokenizer_fsm1.id2state:\n",
        "        forbidden1 = tokenizer_fsm1.state2forbidden[\n",
        "            tokenizer_fsm1.id2state[token_id]\n",
        "        ]\n",
        "        forbidden2 = tokenizer_fsm2.state2forbidden[\n",
        "            tokenizer_fsm2.id2state[token_id]\n",
        "        ]\n",
        "        assert tuple(sorted(forbidden1)) == tuple(sorted(forbidden2))\n",
        "\n",
        "raise_error_if_dissimilar(tokenizer_fsm, brute_force_tokenizer_fsm)"
      ]
    },
    {
      "cell_type": "markdown",
      "source": [
        "We test DirectMerge applied to the first `n` letters of the alphabet and the blank space, as well as the brute force approach, with the whole merge table of the Mistral-7b tokenizer and we check that they provide the same result. We also measure the execution time."
      ],
      "metadata": {
        "id": "vzVjxIa32pCZ"
      }
    },
    {
      "cell_type": "code",
      "execution_count": null,
      "metadata": {
        "id": "mC3_GIWdVeOb"
      },
      "outputs": [],
      "source": [
        "if \"toy_example_brute_force.json\" in os.listdir():\n",
        "    with open(\"toy_example_brute_force.json\", \"r\") as f:\n",
        "        toy_example_brute_force = json.load(f)\n",
        "else:\n",
        "    toy_example_brute_force = {}\n",
        "    for i in range(1, 27):\n",
        "        letters = set(\"▁abcdefghijklmnopqrstuvwxyz\"[:i+1])\n",
        "\n",
        "        start = time.time()\n",
        "        brute_force_tokenizer_fsm = BruteForceTokenizerFSM(letters, tokenizer)\n",
        "        toy_example_brute_force[str(i)] = time.time() - start\n",
        "\n",
        "        tokenizer_fsm = TokenizerFSM(\n",
        "            [get_token_id(c, tokenizer) for c in letters],\n",
        "            tokenizer,\n",
        "            tokenizer_dict[\"model\"][\"merges\"]\n",
        "        )\n",
        "\n",
        "        raise_error_if_dissimilar(tokenizer_fsm, brute_force_tokenizer_fsm)\n",
        "    with open(\"toy_example_brute_force.json\", \"w\") as f:\n",
        "        json.dump(toy_example_brute_force, f)"
      ]
    },
    {
      "cell_type": "code",
      "execution_count": null,
      "metadata": {
        "id": "6JuUKuG1SS76"
      },
      "outputs": [],
      "source": [
        "if \"toy_example_fsm.json\" in os.listdir():\n",
        "    with open(\"toy_example_fsm.json\", \"r\") as f:\n",
        "        toy_example_fsm = json.load(f)\n",
        "else:\n",
        "    toy_example_fsm = {}\n",
        "    for i in range(1, 53):\n",
        "        letters = set(\"▁abcdefghijklmnopqrstuvwxyzABCDEFGHIJKLMNOPQRSTUVWXYZ\"[:i+1])\n",
        "        start = time.time()\n",
        "        tokenizer_fsm = TokenizerFSM(\n",
        "            [get_token_id(c, tokenizer) for c in letters],\n",
        "            tokenizer,\n",
        "            tokenizer_dict[\"model\"][\"merges\"]\n",
        "        )\n",
        "        toy_example_fsm[str(i)] = {\"delay\": time.time() - start}\n",
        "        toy_example_fsm[str(i)][\"num_states\"] = len(tokenizer_fsm.state2forbidden)\n",
        "        toy_example_fsm[str(i)][\"num_tokens\"] = len(tokenizer_fsm.id2state)\n",
        "    with open(\"toy_example_fsm.json\", \"w\") as f:\n",
        "        json.dump(toy_example_fsm, f)"
      ]
    },
    {
      "cell_type": "markdown",
      "source": [
        "As expected, the brute force approach is much less scalable than `DirectMerge`."
      ],
      "metadata": {
        "id": "6xNSLZz63Bfy"
      }
    },
    {
      "cell_type": "code",
      "execution_count": null,
      "metadata": {
        "colab": {
          "base_uri": "https://localhost:8080/"
        },
        "id": "e7jCQXWRYJBt",
        "outputId": "36467ded-5c4c-4ecd-de54-690d4b29a167"
      },
      "outputs": [
        {
          "output_type": "display_data",
          "data": {
            "text/plain": [
              "<Figure size 800x600 with 1 Axes>"
            ],
            "image/png": "[encoded data removed]"
          },
          "metadata": {}
        }
      ],
      "source": [
        "import pandas as pd\n",
        "import seaborn as sns\n",
        "import matplotlib.pyplot as plt\n",
        "\n",
        "results = {\"delay\": [], \"Algorithm\": [], \"num_tokens\": []}\n",
        "for i in range(1, 27):\n",
        "    results[\"delay\"].append(toy_example_brute_force[str(i)])\n",
        "    results[\"num_tokens\"].append(toy_example_fsm[str(i)][\"num_tokens\"])\n",
        "    results[\"Algorithm\"].append(\"Brute Force\")\n",
        "    results[\"delay\"].append(toy_example_fsm[str(i)][\"delay\"])\n",
        "    results[\"num_tokens\"].append(toy_example_fsm[str(i)][\"num_tokens\"])\n",
        "    results[\"Algorithm\"].append(\"Finite State Machine\")\n",
        "\n",
        "df = pd.DataFrame.from_dict(results)\n",
        "g = sns.lineplot(data=df, x=\"num_tokens\", y=\"delay\", hue=\"Algorithm\", marker=\"o\")\n",
        "sns.move_legend(g, \"center left\", bbox_to_anchor=(1, 0.5), frameon=False)\n",
        "plt.yscale('log')\n",
        "plt.ylabel(\"Execution time (seconds) - logarithmic scale\")\n",
        "_ = plt.xlabel(\"Vocabulary size\")"
      ]
    },
    {
      "cell_type": "markdown",
      "metadata": {
        "id": "99g8jDvinGEm"
      },
      "source": [
        "## Test: random walk\n",
        "\n",
        "To further test `DirectMerge` applied to the `\".*\"` case, we perform a random walk. At each time step, we check that a disallowed token leads to an improper token sequence. We select an allowed token and check that this leads to a proper token sequence."
      ]
    },
    {
      "cell_type": "code",
      "execution_count": null,
      "metadata": {
        "colab": {
          "base_uri": "https://localhost:8080/"
        },
        "id": "M1wOfw-lTgrY",
        "outputId": "0999bd72-3fc9-4f21-dc47-b258f8830e29"
      },
      "outputs": [
        {
          "output_type": "stream",
          "name": "stdout",
          "text": [
            "CPU times: user 12.6 s, sys: 750 ms, total: 13.4 s\n",
            "Wall time: 19 s\n"
          ]
        }
      ],
      "source": [
        "%%time\n",
        "import numpy as np\n",
        "\n",
        "letters = set(\"▁abcdefghijklmnopqrstuvwxyzABCDEFGHIJKLMNOPQRSTUVWXYZ\")\n",
        "tokenizer_fsm = TokenizerFSM(\n",
        "    [get_token_id(c, tokenizer) for c in letters],\n",
        "    tokenizer,\n",
        "    tokenizer_dict[\"model\"][\"merges\"]\n",
        ")\n",
        "\n",
        "all_tokens = tokenizer_fsm.id2state.keys()\n",
        "\n",
        "for _ in range(10):\n",
        "    token_seq = [np.random.choice(list(all_tokens))]\n",
        "    text_seq = [get_token(token_seq[-1], tokenizer)]\n",
        "    for _ in range(10):\n",
        "        forbidden = tokenizer_fsm.state2forbidden[tokenizer_fsm.id2state[token_seq[-1]]]\n",
        "        if len(forbidden) > 0:\n",
        "            bad_id = np.random.choice(list(forbidden))\n",
        "            bad_text = get_token(bad_id, tokenizer)\n",
        "            merged = \"\".join(text_seq + [bad_text])\n",
        "            decoded_encoded = [\n",
        "                x.as_tuple()[0]\n",
        "                for x in tokenizer.backend_tokenizer.model.tokenize(merged)\n",
        "            ]\n",
        "            assert tuple(token_seq + [bad_id]) != tuple(decoded_encoded)\n",
        "\n",
        "        good_id = np.random.choice([x for x in all_tokens if x not in forbidden])\n",
        "        good_text = get_token(good_id, tokenizer)\n",
        "        merged = \"\".join(text_seq + [good_text])\n",
        "        decoded_encoded = [\n",
        "            x.as_tuple()[0]\n",
        "            for x in tokenizer.backend_tokenizer.model.tokenize(merged)\n",
        "        ]\n",
        "        token_seq.append(good_id)\n",
        "        text_seq.append(good_text)\n",
        "        assert tuple(token_seq) == tuple(decoded_encoded)"
      ]
    },
    {
      "cell_type": "markdown",
      "metadata": {
        "id": "HKfs-jVFiMat"
      },
      "source": [
        "## Test: tokenizer FSM with the whole tokenizer vocabulary\n",
        "\n",
        "We measure the time required to build the `\".*\"` DFA for the Mistral-7b tokenizer. It takes approximately 20 seconds."
      ]
    },
    {
      "cell_type": "code",
      "execution_count": null,
      "metadata": {
        "colab": {
          "base_uri": "https://localhost:8080/"
        },
        "id": "Hds0tAC8gQru",
        "outputId": "45d68887-926c-4f04-bfbc-bdc1cd3d47c1"
      },
      "outputs": [
        {
          "output_type": "stream",
          "name": "stdout",
          "text": [
            "CPU times: user 12.8 s, sys: 514 ms, total: 13.3 s\n",
            "Wall time: 17.7 s\n"
          ]
        }
      ],
      "source": [
        "%%time\n",
        "merged = {s.replace(\" \", \"\") for s in tokenizer_dict[\"model\"][\"merges\"]}\n",
        "initial_ids = {\n",
        "    tokenizer.backend_tokenizer.model.token_to_id(k)\n",
        "    for k in tokenizer.vocab\n",
        "    if k not in merged\n",
        "}\n",
        "tokenizer_fsm = TokenizerFSM(\n",
        "    initial_ids,\n",
        "    tokenizer,\n",
        "    tokenizer_dict[\"model\"][\"merges\"]\n",
        ")"
      ]
    },
    {
      "cell_type": "markdown",
      "source": [
        "The number of disallowed tokens varies between 0 and 12260."
      ],
      "metadata": {
        "id": "aVDTdLUw4dMk"
      }
    },
    {
      "cell_type": "code",
      "execution_count": null,
      "metadata": {
        "colab": {
          "base_uri": "https://localhost:8080/"
        },
        "id": "ODoDzmR1hQHm",
        "outputId": "b2e947ff-4b8e-4873-f3f2-aed6f040fc4e"
      },
      "outputs": [
        {
          "output_type": "display_data",
          "data": {
            "text/plain": [
              "<Figure size 800x600 with 1 Axes>"
            ],
            "image/png": "[encoded data removed]"
          },
          "metadata": {}
        }
      ],
      "source": [
        "result = [\n",
        "    len(tokenizer_fsm.state2forbidden[tokenizer_fsm.id2state[i]])\n",
        "    for i in range(len(tokenizer.vocab))\n",
        "]\n",
        "sns.ecdfplot(\n",
        "    data=pd.DataFrame.from_dict(\n",
        "        {\"Number of forbidden tokens\": result}\n",
        "    ),\n",
        "    x=\"Number of forbidden tokens\"\n",
        ")\n",
        "sns.despine()"
      ]
    },
    {
      "cell_type": "markdown",
      "source": [
        "We show some examples of tokens with the lowest and highest numbers of disallowed tokens."
      ],
      "metadata": {
        "id": "oRW9g9AU4k9s"
      }
    },
    {
      "cell_type": "code",
      "execution_count": null,
      "metadata": {
        "colab": {
          "base_uri": "https://localhost:8080/"
        },
        "id": "v94Eu5rchZ8f",
        "outputId": "5927a114-2e9c-4572-a427-ee40ff5364cc"
      },
      "outputs": [
        {
          "output_type": "execute_result",
          "data": {
            "text/plain": [
              "([(0, '<unk>', 0),\n",
              "  (1, '<s>', 0),\n",
              "  (2, '</s>', 0),\n",
              "  (3, '<0x00>', 0),\n",
              "  (4, '<0x01>', 0)],\n",
              " [(2287, '▁▁▁', 12260),\n",
              "  (2600, '▁▁▁▁▁▁▁▁▁', 12260),\n",
              "  (5390, '▁▁▁▁▁▁▁', 12260),\n",
              "  (17422, '▁▁▁▁▁▁▁▁▁▁▁', 12260),\n",
              "  (28705, '▁', 12260)])"
            ]
          },
          "metadata": {},
          "execution_count": 35
        }
      ],
      "source": [
        "sorted_tokens = sorted(\n",
        "    [\n",
        "        (\n",
        "            i,\n",
        "            get_token(i, tokenizer),\n",
        "            len(tokenizer_fsm.state2forbidden[tokenizer_fsm.id2state[i]])\n",
        "        )\n",
        "        for i in range(32000)\n",
        "    ],\n",
        "    key=lambda x: x[2]\n",
        ")\n",
        "sorted_tokens[:5], sorted_tokens[-5:]"
      ]
    },
    {
      "cell_type": "markdown",
      "metadata": {
        "id": "Xi6XqXUxilMt"
      },
      "source": [
        "## Test: books\n",
        "\n",
        "We test over two long books that their tokenized content is recognized as a proper token sequence (no false negatives)."
      ]
    },
    {
      "cell_type": "code",
      "execution_count": null,
      "metadata": {
        "id": "NO5PR_fKibtU"
      },
      "outputs": [],
      "source": [
        "%%capture\n",
        "!wget -nc https://www.gutenberg.org/cache/epub/2814/pg2814.txt # Dubliners, by James Joyce (English)\n",
        "!wget -nc https://www.gutenberg.org/cache/epub/19657/pg19657.txt # Notre Dame de Paris, by Victor Hugo (French)"
      ]
    },
    {
      "cell_type": "code",
      "execution_count": null,
      "metadata": {
        "colab": {
          "base_uri": "https://localhost:8080/"
        },
        "id": "bIFYDt_yjeV4",
        "outputId": "35fbf04c-64bd-49a5-c5d0-3621fc1be46b"
      },
      "outputs": [
        {
          "output_type": "stream",
          "name": "stdout",
          "text": [
            "CPU times: user 1.72 s, sys: 152 ms, total: 1.87 s\n",
            "Wall time: 2.44 s\n"
          ]
        }
      ],
      "source": [
        "%%time\n",
        "for filename in [\"pg2814.txt\", \"pg19657.txt\"]:\n",
        "    with open(filename, \"r\") as f:\n",
        "        s = f.read()\n",
        "    encoded = tokenizer.encode(s)\n",
        "    for i in range(len(encoded) - 1):\n",
        "        token1, token2 = encoded[i], encoded[i+1]\n",
        "        assert token2 not in tokenizer_fsm.state2forbidden[tokenizer_fsm.id2state[token1]]"
      ]
    },
    {
      "cell_type": "markdown",
      "source": [
        "## Implementation: identification of relevant product states\n",
        "\n",
        "As part of Algorithm 5 of the technical appendix, we look for the relevant product states (i.e. on a path between the start product state and an accept product state)."
      ],
      "metadata": {
        "id": "10Ndb71SnSYI"
      }
    },
    {
      "cell_type": "code",
      "execution_count": null,
      "metadata": {
        "id": "zmah76CUloP9"
      },
      "outputs": [],
      "source": [
        "from outlines.fsm.fsm import RegexFSM\n",
        "\n",
        "class NormalizedRegexFSM(RegexFSM):\n",
        "\n",
        "    def normalize(self, tokenizer_fsm):\n",
        "        \"\"\"\n",
        "        Remove out-of-vocabulary tokens (ie. not covered by the Tokenizer FSM).\n",
        "        Remove EOS token id and -1 state.\n",
        "        Initialize self.initial_state.\n",
        "        \"\"\"\n",
        "        to_remove, to_add = set(), set()\n",
        "        self.final_states = {s for s in self.final_states if s != -1}\n",
        "        for s1 in self.states_to_token_maps:\n",
        "            for token in self.states_to_token_maps[s1]:\n",
        "                if token == self.end_token_id or token not in tokenizer_fsm.id2state:\n",
        "                    to_remove.add((s1, token))\n",
        "                else:\n",
        "                    s2 = self.states_to_token_maps[s1][token]\n",
        "                    if s2 not in self.states_to_token_maps:\n",
        "                        to_add.add(s2)\n",
        "        for s, token in to_remove:\n",
        "            del self.states_to_token_maps[s][token]\n",
        "        for s in to_add:\n",
        "            self.states_to_token_maps[s] = {}\n",
        "        self.initial_state = 0"
      ]
    },
    {
      "cell_type": "code",
      "execution_count": null,
      "metadata": {
        "id": "Uf7xJvfRlhjs"
      },
      "outputs": [],
      "source": [
        "from numba import jit, types, typed\n",
        "\n",
        "@jit(nopython=True)\n",
        "def create_dict(items):\n",
        "    \"\"\"\n",
        "    Convert a dict into a typed dict.\n",
        "    \"\"\"\n",
        "    return {k: v for k,v in items}\n",
        "\n",
        "def dict_to_items(d):\n",
        "    \"\"\"\n",
        "    Return a typed list of the items of a dict.\n",
        "    \"\"\"\n",
        "    if len(d) > 0:\n",
        "        return typed.List(d.items())\n",
        "    else:\n",
        "        return typed.List.empty_list(types.Tuple((types.int64, types.int64)))\n",
        "\n",
        "def convert_dict_dict(d):\n",
        "    \"\"\"\n",
        "    Convert a dict of dict into its typed equivalent.\n",
        "    \"\"\"\n",
        "    d2 = {k: create_dict(dict_to_items(d[k])) for k in d}\n",
        "    return create_dict(dict_to_items(d2))\n",
        "\n",
        "def get_dict_from_tokenizer_fsm(tokenizer_fsm):\n",
        "    \"\"\"\n",
        "    Convert the internal variables of a DFA resulting from Algorithm 3 into their typed equivalents.\n",
        "    \"\"\"\n",
        "    id2state = typed.Dict.empty(\n",
        "        key_type=types.int64,\n",
        "        value_type=types.int64,\n",
        "    )\n",
        "    for k in tokenizer_fsm.id2state:\n",
        "        id2state[k] = tokenizer_fsm.id2state[k]\n",
        "\n",
        "    state2forbidden = typed.Dict.empty(\n",
        "        key_type=types.int64,\n",
        "        value_type=types.DictType(types.int64, types.boolean),\n",
        "    )\n",
        "    for k in tokenizer_fsm.state2forbidden:\n",
        "        v = typed.Dict.empty(\n",
        "            key_type=types.int64,\n",
        "            value_type=types.boolean,\n",
        "        )\n",
        "        for t in tokenizer_fsm.state2forbidden[k]:\n",
        "            v[t] = True\n",
        "        state2forbidden[k] = v\n",
        "    return id2state, state2forbidden\n",
        "\n",
        "key_type = types.UniTuple(types.int64, 2)\n",
        "value_type = types.DictType(types.int64, types.boolean)\n",
        "\n",
        "@jit(\n",
        "    types.DictType(types.int64, types.DictType(types.int64, types.UniTuple(types.int64, 2)))\n",
        "    (\n",
        "        types.DictType(types.int64, types.DictType(types.int64, types.int64)),\n",
        "        types.DictType(types.int64, types.int64),\n",
        "        types.DictType(types.int64, types.DictType(types.int64, types.boolean)),\n",
        "        types.ListType(types.int64)\n",
        "    ),\n",
        "    nopython=True\n",
        ")\n",
        "def get_possible_composite_states(\n",
        "        states_to_token_maps,\n",
        "        id2state,\n",
        "        state2forbidden,\n",
        "        final_states\n",
        "    ):\n",
        "    \"\"\"\n",
        "    Find relevant composite states with a breadth-first exploration\n",
        "    \"\"\"\n",
        "    # Since it doesn't seem possible to create dicts with sets as values in\n",
        "    # Numba, I replaced them with dicts having int2boolean dicts as values\n",
        "    map: types.DictType(types.int64, types.DictType(types.Tuple((types.int64, types.int64)), types.DictType(types.int64, types.boolean))) = {}\n",
        "    new_map: types.DictType(types.int64, types.DictType(types.int64, types.Tuple((types.int64, types.int64)))) = {}\n",
        "    inverse_map: types.DictType(types.int64, types.DictType(types.int64, types.boolean)) = {}\n",
        "    predecessors: types.DictType(types.Tuple((types.int64, types.int64)), types.Tuple((types.int64, types.int64))) = {}\n",
        "\n",
        "    # We create a copy of the transition map of the regex DFA but we group the\n",
        "    # transitions according to the target states of both DFA (the regex DFA and\n",
        "    # the  tokenizer DFA). In this way, when exploring, we can test transitions\n",
        "    # in these groups and when we have a match, we can directly move on to the\n",
        "    # next group without further testing the transitions in the current group.\n",
        "    for s in states_to_token_maps:\n",
        "        map[s] = typed.Dict.empty(\n",
        "            key_type=key_type,\n",
        "            value_type=value_type\n",
        "        )\n",
        "        for t in states_to_token_maps[s]:\n",
        "            tokenizer_state = id2state[t]\n",
        "            s2 = states_to_token_maps[s][t]\n",
        "            if (s2, tokenizer_state) not in map[s]:\n",
        "                map[s][(s2, tokenizer_state)] = {t: True}\n",
        "            else:\n",
        "                map[s][(s2, tokenizer_state)][t] = True\n",
        "            if s2 not in inverse_map:\n",
        "                inverse_map[s2] = {s: True}\n",
        "            else:\n",
        "                inverse_map[s2][s] = True\n",
        "\n",
        "    # We start from the composite state made of both start states\n",
        "    to_explore = [(0, 0)]\n",
        "\n",
        "    # We store the reachable composite states in a dict. 1st key: state of the\n",
        "    # regex DFA, 2nd key: state of the tokenizer DFA.\n",
        "    reachable = {0: {0: True}}\n",
        "\n",
        "    i, n = 0, 1\n",
        "    # We perform a breadth-first exploration to find the reachable states.\n",
        "    while i < n:\n",
        "        regex_state, tokenizer_state = to_explore[i]\n",
        "        i += 1\n",
        "        for (regex_state2, tokenizer_state2) in map[regex_state]:\n",
        "            if regex_state2 not in reachable or tokenizer_state2 not in reachable[regex_state2]:\n",
        "                for t in map[regex_state][(regex_state2, tokenizer_state2)]:\n",
        "                    if t > 2 and t not in state2forbidden[tokenizer_state]:\n",
        "                        predecessors[(regex_state2, tokenizer_state2)] = (regex_state, tokenizer_state)\n",
        "                        if regex_state2 not in reachable:\n",
        "                            reachable[regex_state2] = {tokenizer_state2: True}\n",
        "                        else:\n",
        "                            reachable[regex_state2][tokenizer_state2] = True\n",
        "                        to_explore.append((regex_state2, tokenizer_state2))\n",
        "                        n += 1\n",
        "                        break\n",
        "\n",
        "    # We store the relevant composite states in a dict (relevant = on a path\n",
        "    # between the start state and an accept state). 1st key: state of the regex\n",
        "    # DFA, 2nd key: state of the tokenizer DFA.\n",
        "    final_reachable = {0: {0: True}}\n",
        "    for s in final_states:\n",
        "        for tokenizer_state in reachable[s]:\n",
        "            if s not in final_reachable:\n",
        "                final_reachable[s] = {tokenizer_state: True}\n",
        "            else:\n",
        "                final_reachable[s][tokenizer_state] = True\n",
        "\n",
        "    # For the exploration, we start from all reachable accept states.\n",
        "    to_explore: types.ListType(types.Tuple((types.int64, types.int64))) = []\n",
        "    for regex_state in final_reachable:\n",
        "        for tokenizer_state in final_reachable[regex_state]:\n",
        "            to_explore.append((regex_state, tokenizer_state))\n",
        "\n",
        "    # We also add predecessors leading to these reachable accept states.\n",
        "    i, n = 0, len(to_explore)\n",
        "    while i < n:\n",
        "        regex_state, tokenizer_state = to_explore[i]\n",
        "        i += 1\n",
        "        if (regex_state, tokenizer_state) in predecessors:\n",
        "            predecessor = predecessors[(regex_state, tokenizer_state)]\n",
        "            if tokenizer_state not in final_reachable[regex_state]:\n",
        "                n += 1\n",
        "                if regex_state not in final_reachable:\n",
        "                    final_reachable[regex_state] = {tokenizer_state: True}\n",
        "                else:\n",
        "                    final_reachable[regex_state][tokenizer_state] = True\n",
        "                to_explore.append(predecessor)\n",
        "\n",
        "    to_explore: types.ListType(types.Tuple((types.int64, types.int64))) = []\n",
        "    for regex_state in final_reachable:\n",
        "        for tokenizer_state in final_reachable[regex_state]:\n",
        "            to_explore.append((regex_state, tokenizer_state))\n",
        "\n",
        "    # Starting from an initial list of relevant composite states, we go through\n",
        "    # their potential predecessors and check that they are indeed predecessors.\n",
        "    # If so, we add them to the list of composite states to explore. We do so\n",
        "    # until there are no more composite states to explore.\n",
        "    i, n = 0, len(to_explore)\n",
        "    while i < n:\n",
        "        regex_state2, tokenizer_state2 = to_explore[i]\n",
        "        i += 1\n",
        "        if regex_state2 in inverse_map:\n",
        "            for regex_state in inverse_map[regex_state2]:\n",
        "                if (regex_state2, tokenizer_state2) in map[regex_state]:\n",
        "                    for t in map[regex_state][(regex_state2, tokenizer_state2)]:\n",
        "                        for tokenizer_state in reachable[regex_state]:\n",
        "                            if regex_state not in final_reachable or tokenizer_state not in final_reachable[regex_state]:\n",
        "                                if t not in state2forbidden[tokenizer_state]:\n",
        "                                    if regex_state not in final_reachable:\n",
        "                                        final_reachable[regex_state] = {tokenizer_state: True}\n",
        "                                    else:\n",
        "                                        final_reachable[regex_state][tokenizer_state] = True\n",
        "                                    to_explore.append((regex_state, tokenizer_state))\n",
        "                                    n += 1\n",
        "                                    if len(final_reachable[regex_state]) == len(reachable[regex_state]):\n",
        "                                        break\n",
        "\n",
        "    for s in map:\n",
        "        new_map[s] = typed.Dict.empty(\n",
        "            key_type=types.int64,\n",
        "            value_type=key_type\n",
        "        )\n",
        "        for (regex_state2, tokenizer_state2) in map[s]:\n",
        "            if regex_state2 in final_reachable:\n",
        "                if tokenizer_state2 in final_reachable[regex_state2]:\n",
        "                    for t in map[s][(regex_state2, tokenizer_state2)]:\n",
        "                        new_map[s][t] = (regex_state2, tokenizer_state2)\n",
        "\n",
        "    return new_map"
      ]
    },
    {
      "cell_type": "markdown",
      "source": [
        "## Example: comparison of Outlines and DirectMerge on a simple example\n",
        "\n",
        "We generate the DFAs presented in the second section of the blog post."
      ],
      "metadata": {
        "id": "lQ3yna3GiT-e"
      }
    },
    {
      "cell_type": "code",
      "source": [
        "def get_dfa_from_outlines_fsm(regex_fsm):\n",
        "    \"\"\"\n",
        "    Return the corresponding DFA in view of displaying it.\n",
        "    \"\"\"\n",
        "    states = set(regex_fsm.states_to_token_maps.keys())\n",
        "    final_states = set()\n",
        "    for s in regex_fsm.final_states:\n",
        "        if s != -1:\n",
        "            states.add(s)\n",
        "            final_states.add(s)\n",
        "    input_symbols = set()\n",
        "    transitions = {}\n",
        "    for s in states:\n",
        "        transitions[s] = {}\n",
        "        if s in regex_fsm.states_to_token_maps:\n",
        "            for x in regex_fsm.states_to_token_maps[s]:\n",
        "                token = get_token(x, tokenizer)\n",
        "                input_symbols.add(token)\n",
        "                transitions[s][token] = regex_fsm.states_to_token_maps[s][x]\n",
        "    initial_state = 0\n",
        "    return DFA(\n",
        "        states=states,\n",
        "        input_symbols=input_symbols,\n",
        "        transitions=transitions,\n",
        "        initial_state=initial_state,\n",
        "        final_states=final_states,\n",
        "        allow_partial=True\n",
        "    )"
      ],
      "metadata": {
        "id": "Qk73rXsXIFij"
      },
      "execution_count": null,
      "outputs": []
    },
    {
      "cell_type": "code",
      "source": [
        "get_dfa_from_outlines_fsm(regex_fsm).show_diagram()"
      ],
      "metadata": {
        "colab": {
          "base_uri": "https://localhost:8080/",
          "height": 655
        },
        "id": "S5fDEgoQV9SX",
        "outputId": "724612a1-d84d-4c7e-f4bf-953fb801cda6"
      },
      "execution_count": null,
      "outputs": [
        {
          "output_type": "execute_result",
          "data": {
            "image/svg+xml": "<?xml version=\"1.0\" encoding=\"UTF-8\" standalone=\"no\"?>\n<!DOCTYPE svg PUBLIC \"-//W3C//DTD SVG 1.1//EN\"\n \"http://www.w3.org/Graphics/SVG/1.1/DTD/svg11.dtd\">\n<!-- Generated by graphviz version 2.43.0 (0)\n -->\n<!-- Pages: 1 -->\n<svg width=\"1413pt\" height=\"460pt\"\n viewBox=\"0.00 0.00 1412.60 460.00\" xmlns=\"http://www.w3.org/2000/svg\" xmlns:xlink=\"http://www.w3.org/1999/xlink\">\n<g id=\"graph0\" class=\"graph\" transform=\"scale(1 1) rotate(0) translate(4 456)\">\n<polygon fill=\"white\" stroke=\"transparent\" points=\"-4,4 -4,-456 1408.6,-456 1408.6,4 -4,4\"/>\n<!-- 33dd34f5&#45;bcb7&#45;4c90&#45;a662&#45;d9dbc5243252 -->\n<g id=\"node1\" class=\"node\">\n<title>33dd34f5&#45;bcb7&#45;4c90&#45;a662&#45;d9dbc5243252</title>\n<g id=\"a_node1\"><a xlink:title=\".\">\n<ellipse fill=\"black\" stroke=\"black\" cx=\"1.8\" cy=\"-206\" rx=\"1.8\" ry=\"1.8\"/>\n</a>\n</g>\n</g>\n<!-- 0 -->\n<g id=\"node2\" class=\"node\">\n<title>0</title>\n<ellipse fill=\"none\" stroke=\"black\" cx=\"58.6\" cy=\"-206\" rx=\"18\" ry=\"18\"/>\n<text text-anchor=\"middle\" x=\"58.6\" y=\"-202.3\" font-family=\"Times,serif\" font-size=\"14.00\">0</text>\n</g>\n<!-- 33dd34f5&#45;bcb7&#45;4c90&#45;a662&#45;d9dbc5243252&#45;&gt;0 -->\n<g id=\"edge1\" class=\"edge\">\n<title>33dd34f5&#45;bcb7&#45;4c90&#45;a662&#45;d9dbc5243252&#45;&gt;0</title>\n<g id=\"a_edge1\"><a xlink:title=\"&#45;&gt;0\">\n<path fill=\"none\" stroke=\"black\" d=\"M3.75,-206C7.25,-206 19.84,-206 31.96,-206\"/>\n<polygon fill=\"black\" stroke=\"black\" points=\"32.08,-208.98 40.58,-206 32.07,-203.03 32.08,-208.98\"/>\n</a>\n</g>\n</g>\n<!-- 1 -->\n<g id=\"node3\" class=\"node\">\n<title>1</title>\n<ellipse fill=\"none\" stroke=\"black\" cx=\"137.6\" cy=\"-161\" rx=\"18\" ry=\"18\"/>\n<text text-anchor=\"middle\" x=\"137.6\" y=\"-157.3\" font-family=\"Times,serif\" font-size=\"14.00\">1</text>\n</g>\n<!-- 0&#45;&gt;1 -->\n<g id=\"edge2\" class=\"edge\">\n<title>0&#45;&gt;1</title>\n<path fill=\"none\" stroke=\"black\" d=\"M74.45,-197.32C85.74,-190.72 101.46,-181.54 114.27,-174.05\"/>\n<polygon fill=\"black\" stroke=\"black\" points=\"115.96,-176.51 121.8,-169.65 112.96,-171.37 115.96,-176.51\"/>\n<text text-anchor=\"middle\" x=\"98.1\" y=\"-187.8\" font-family=\"Times,serif\" font-size=\"14.00\">b</text>\n</g>\n<!-- 2 -->\n<g id=\"node4\" class=\"node\">\n<title>2</title>\n<ellipse fill=\"none\" stroke=\"black\" cx=\"216.6\" cy=\"-214\" rx=\"18\" ry=\"18\"/>\n<text text-anchor=\"middle\" x=\"216.6\" y=\"-210.3\" font-family=\"Times,serif\" font-size=\"14.00\">2</text>\n</g>\n<!-- 0&#45;&gt;2 -->\n<g id=\"edge3\" class=\"edge\">\n<title>0&#45;&gt;2</title>\n<path fill=\"none\" stroke=\"black\" d=\"M76.59,-206.87C103.76,-208.26 157.18,-211 189.31,-212.65\"/>\n<polygon fill=\"black\" stroke=\"black\" points=\"189.51,-215.64 198.15,-213.11 189.82,-209.7 189.51,-215.64\"/>\n<text text-anchor=\"middle\" x=\"137.6\" y=\"-213.8\" font-family=\"Times,serif\" font-size=\"14.00\">bo</text>\n</g>\n<!-- 4 -->\n<g id=\"node5\" class=\"node\">\n<title>4</title>\n<ellipse fill=\"none\" stroke=\"black\" cx=\"421.6\" cy=\"-94\" rx=\"18\" ry=\"18\"/>\n<text text-anchor=\"middle\" x=\"421.6\" y=\"-90.3\" font-family=\"Times,serif\" font-size=\"14.00\">4</text>\n</g>\n<!-- 0&#45;&gt;4 -->\n<g id=\"edge4\" class=\"edge\">\n<title>0&#45;&gt;4</title>\n<path fill=\"none\" stroke=\"black\" d=\"M59.45,-187.93C60.11,-143.22 68.56,-31 136.6,-31 136.6,-31 136.6,-31 307.6,-31 344.69,-31 380.95,-57.21 402.01,-75.82\"/>\n<polygon fill=\"black\" stroke=\"black\" points=\"400.01,-78.03 408.3,-81.55 404.02,-73.63 400.01,-78.03\"/>\n<text text-anchor=\"middle\" x=\"216.6\" y=\"-34.8\" font-family=\"Times,serif\" font-size=\"14.00\">bool</text>\n</g>\n<!-- 7 -->\n<g id=\"node6\" class=\"node\">\n<title>7</title>\n<ellipse fill=\"none\" stroke=\"black\" cx=\"681.6\" cy=\"-222\" rx=\"18\" ry=\"18\"/>\n<text text-anchor=\"middle\" x=\"681.6\" y=\"-218.3\" font-family=\"Times,serif\" font-size=\"14.00\">7</text>\n</g>\n<!-- 0&#45;&gt;7 -->\n<g id=\"edge5\" class=\"edge\">\n<title>0&#45;&gt;7</title>\n<path fill=\"none\" stroke=\"black\" d=\"M63.99,-223.47C72.54,-252.86 94.4,-309 136.6,-309 136.6,-309 136.6,-309 603.6,-309 637.09,-309 659.53,-272.41 671.16,-246.68\"/>\n<polygon fill=\"black\" stroke=\"black\" points=\"673.94,-247.75 674.56,-238.77 668.47,-245.4 673.94,-247.75\"/>\n<text text-anchor=\"middle\" x=\"364.1\" y=\"-312.8\" font-family=\"Times,serif\" font-size=\"14.00\">boolean</text>\n</g>\n<!-- 1&#45;&gt;2 -->\n<g id=\"edge6\" class=\"edge\">\n<title>1&#45;&gt;2</title>\n<path fill=\"none\" stroke=\"black\" d=\"M153.08,-170.97C164.66,-178.94 181.07,-190.23 194.17,-199.25\"/>\n<polygon fill=\"black\" stroke=\"black\" points=\"192.75,-201.88 201.44,-204.25 196.12,-196.98 192.75,-201.88\"/>\n<text text-anchor=\"middle\" x=\"177.1\" y=\"-192.8\" font-family=\"Times,serif\" font-size=\"14.00\">o</text>\n</g>\n<!-- 1&#45;&gt;4 -->\n<g id=\"edge7\" class=\"edge\">\n<title>1&#45;&gt;4</title>\n<path fill=\"none\" stroke=\"black\" d=\"M154.26,-153.66C187.84,-138.42 269.65,-103.94 342.6,-94 359.82,-91.65 379.38,-91.66 394.61,-92.25\"/>\n<polygon fill=\"black\" stroke=\"black\" points=\"394.84,-95.24 403.47,-92.68 395.12,-89.3 394.84,-95.24\"/>\n<text text-anchor=\"middle\" x=\"261.6\" y=\"-118.8\" font-family=\"Times,serif\" font-size=\"14.00\">ool</text>\n</g>\n<!-- 3 -->\n<g id=\"node7\" class=\"node\">\n<title>3</title>\n<ellipse fill=\"none\" stroke=\"black\" cx=\"306.6\" cy=\"-171\" rx=\"18\" ry=\"18\"/>\n<text text-anchor=\"middle\" x=\"306.6\" y=\"-167.3\" font-family=\"Times,serif\" font-size=\"14.00\">3</text>\n</g>\n<!-- 1&#45;&gt;3 -->\n<g id=\"edge8\" class=\"edge\">\n<title>1&#45;&gt;3</title>\n<path fill=\"none\" stroke=\"black\" d=\"M155.84,-162.03C185.22,-163.79 245.13,-167.38 279.61,-169.44\"/>\n<polygon fill=\"black\" stroke=\"black\" points=\"279.54,-172.42 288.2,-169.96 279.9,-166.48 279.54,-172.42\"/>\n<text text-anchor=\"middle\" x=\"216.6\" y=\"-169.8\" font-family=\"Times,serif\" font-size=\"14.00\">oo</text>\n</g>\n<!-- 2&#45;&gt;4 -->\n<g id=\"edge9\" class=\"edge\">\n<title>2&#45;&gt;4</title>\n<path fill=\"none\" stroke=\"black\" d=\"M226.3,-198.62C237.98,-179.4 260.54,-146.87 288.6,-129 321.62,-107.97 366.96,-99.51 394.99,-96.15\"/>\n<polygon fill=\"black\" stroke=\"black\" points=\"395.32,-99.11 403.45,-95.23 394.68,-93.19 395.32,-99.11\"/>\n<text text-anchor=\"middle\" x=\"306.6\" y=\"-132.8\" font-family=\"Times,serif\" font-size=\"14.00\">ol</text>\n</g>\n<!-- 2&#45;&gt;7 -->\n<g id=\"edge10\" class=\"edge\">\n<title>2&#45;&gt;7</title>\n<path fill=\"none\" stroke=\"black\" d=\"M228.89,-227.51C244.32,-244.36 273.75,-271 305.6,-271 305.6,-271 305.6,-271 603.6,-271 626.82,-271 648.69,-254.94 663.15,-241.21\"/>\n<polygon fill=\"black\" stroke=\"black\" points=\"665.33,-243.24 669.24,-235.13 661.12,-239.03 665.33,-243.24\"/>\n<text text-anchor=\"middle\" x=\"472.6\" y=\"-274.8\" font-family=\"Times,serif\" font-size=\"14.00\">olean</text>\n</g>\n<!-- 2&#45;&gt;3 -->\n<g id=\"edge11\" class=\"edge\">\n<title>2&#45;&gt;3</title>\n<path fill=\"none\" stroke=\"black\" d=\"M233.33,-206.31C246.85,-199.71 266.53,-190.09 281.95,-182.56\"/>\n<polygon fill=\"black\" stroke=\"black\" points=\"283.67,-185.03 290,-178.62 281.06,-179.68 283.67,-185.03\"/>\n<text text-anchor=\"middle\" x=\"261.6\" y=\"-199.8\" font-family=\"Times,serif\" font-size=\"14.00\">o</text>\n</g>\n<!-- 5 -->\n<g id=\"node8\" class=\"node\">\n<title>5</title>\n<ellipse fill=\"none\" stroke=\"black\" cx=\"523.6\" cy=\"-152\" rx=\"18\" ry=\"18\"/>\n<text text-anchor=\"middle\" x=\"523.6\" y=\"-148.3\" font-family=\"Times,serif\" font-size=\"14.00\">5</text>\n</g>\n<!-- 2&#45;&gt;5 -->\n<g id=\"edge12\" class=\"edge\">\n<title>2&#45;&gt;5</title>\n<path fill=\"none\" stroke=\"black\" d=\"M234.83,-215.35C245.21,-215.91 258.69,-216.19 270.6,-215 368.52,-205.25 395.21,-204.87 487.6,-171 491.87,-169.43 496.26,-167.42 500.42,-165.29\"/>\n<polygon fill=\"black\" stroke=\"black\" points=\"502.02,-167.81 508.06,-161.13 499.17,-162.58 502.02,-167.81\"/>\n<text text-anchor=\"middle\" x=\"364.1\" y=\"-210.8\" font-family=\"Times,serif\" font-size=\"14.00\">ole</text>\n</g>\n<!-- 4&#45;&gt;5 -->\n<g id=\"edge13\" class=\"edge\">\n<title>4&#45;&gt;5</title>\n<path fill=\"none\" stroke=\"black\" d=\"M438.7,-99.77C452.24,-104.95 471.85,-113.22 487.6,-123 492.91,-126.3 498.29,-130.34 503.19,-134.34\"/>\n<polygon fill=\"black\" stroke=\"black\" points=\"501.55,-136.85 509.95,-140.09 505.4,-132.32 501.55,-136.85\"/>\n<text text-anchor=\"middle\" x=\"472.6\" y=\"-126.8\" font-family=\"Times,serif\" font-size=\"14.00\">e</text>\n</g>\n<!-- 6 -->\n<g id=\"node9\" class=\"node\">\n<title>6</title>\n<ellipse fill=\"none\" stroke=\"black\" cx=\"602.6\" cy=\"-125\" rx=\"18\" ry=\"18\"/>\n<text text-anchor=\"middle\" x=\"602.6\" y=\"-121.3\" font-family=\"Times,serif\" font-size=\"14.00\">6</text>\n</g>\n<!-- 4&#45;&gt;6 -->\n<g id=\"edge14\" class=\"edge\">\n<title>4&#45;&gt;6</title>\n<path fill=\"none\" stroke=\"black\" d=\"M439.64,-95.69C462.83,-98.12 505.57,-103.1 541.6,-110 553.22,-112.23 565.95,-115.31 576.68,-118.11\"/>\n<polygon fill=\"black\" stroke=\"black\" points=\"576.18,-121.06 585.16,-120.36 577.71,-115.3 576.18,-121.06\"/>\n<text text-anchor=\"middle\" x=\"523.6\" y=\"-113.8\" font-family=\"Times,serif\" font-size=\"14.00\">ea</text>\n</g>\n<!-- 8 -->\n<g id=\"node10\" class=\"node\">\n<title>8</title>\n<ellipse fill=\"none\" stroke=\"black\" cx=\"757.6\" cy=\"-222\" rx=\"18\" ry=\"18\"/>\n<text text-anchor=\"middle\" x=\"757.6\" y=\"-218.3\" font-family=\"Times,serif\" font-size=\"14.00\">8</text>\n</g>\n<!-- 7&#45;&gt;8 -->\n<g id=\"edge15\" class=\"edge\">\n<title>7&#45;&gt;8</title>\n<path fill=\"none\" stroke=\"black\" d=\"M699.76,-222C709.01,-222 720.6,-222 730.9,-222\"/>\n<polygon fill=\"black\" stroke=\"black\" points=\"731.03,-224.98 739.53,-222 731.03,-219.03 731.03,-224.98\"/>\n<text text-anchor=\"middle\" x=\"719.6\" y=\"-225.8\" font-family=\"Times,serif\" font-size=\"14.00\">:</text>\n</g>\n<!-- 3&#45;&gt;4 -->\n<g id=\"edge16\" class=\"edge\">\n<title>3&#45;&gt;4</title>\n<path fill=\"none\" stroke=\"black\" d=\"M319.47,-157.82C325.92,-151.11 334.26,-143.1 342.6,-137 360.1,-124.21 366.63,-124.49 385.6,-114 389.63,-111.77 393.9,-109.37 398.02,-107.02\"/>\n<polygon fill=\"black\" stroke=\"black\" points=\"399.75,-109.46 405.66,-102.66 396.8,-104.29 399.75,-109.46\"/>\n<text text-anchor=\"middle\" x=\"364.1\" y=\"-140.8\" font-family=\"Times,serif\" font-size=\"14.00\">l</text>\n</g>\n<!-- 3&#45;&gt;7 -->\n<g id=\"edge17\" class=\"edge\">\n<title>3&#45;&gt;7</title>\n<path fill=\"none\" stroke=\"black\" d=\"M324.27,-175.16C330.05,-176.51 336.59,-177.93 342.6,-179 458.46,-199.56 598.35,-214.13 654.97,-219.61\"/>\n<polygon fill=\"black\" stroke=\"black\" points=\"654.88,-222.59 663.63,-220.44 655.45,-216.67 654.88,-222.59\"/>\n<text text-anchor=\"middle\" x=\"523.6\" y=\"-210.8\" font-family=\"Times,serif\" font-size=\"14.00\">lean</text>\n</g>\n<!-- 3&#45;&gt;5 -->\n<g id=\"edge18\" class=\"edge\">\n<title>3&#45;&gt;5</title>\n<path fill=\"none\" stroke=\"black\" d=\"M324.83,-169.48C362.59,-166.14 452.77,-158.17 497.11,-154.25\"/>\n<polygon fill=\"black\" stroke=\"black\" points=\"497.39,-157.21 505.59,-153.5 496.86,-151.29 497.39,-157.21\"/>\n<text text-anchor=\"middle\" x=\"421.6\" y=\"-165.8\" font-family=\"Times,serif\" font-size=\"14.00\">le</text>\n</g>\n<!-- 5&#45;&gt;7 -->\n<g id=\"edge19\" class=\"edge\">\n<title>5&#45;&gt;7</title>\n<path fill=\"none\" stroke=\"black\" d=\"M540.67,-158.59C559.81,-166.51 592.72,-180.32 620.6,-193 632.68,-198.5 645.99,-204.89 657,-210.28\"/>\n<polygon fill=\"black\" stroke=\"black\" points=\"655.96,-213.08 664.9,-214.17 658.59,-207.75 655.96,-213.08\"/>\n<text text-anchor=\"middle\" x=\"602.6\" y=\"-196.8\" font-family=\"Times,serif\" font-size=\"14.00\">an</text>\n</g>\n<!-- 5&#45;&gt;6 -->\n<g id=\"edge20\" class=\"edge\">\n<title>5&#45;&gt;6</title>\n<path fill=\"none\" stroke=\"black\" d=\"M540.93,-146.27C551.44,-142.59 565.31,-137.73 577.13,-133.58\"/>\n<polygon fill=\"black\" stroke=\"black\" points=\"578.25,-136.34 585.29,-130.72 576.28,-130.72 578.25,-136.34\"/>\n<text text-anchor=\"middle\" x=\"563.1\" y=\"-143.8\" font-family=\"Times,serif\" font-size=\"14.00\">a</text>\n</g>\n<!-- 6&#45;&gt;7 -->\n<g id=\"edge21\" class=\"edge\">\n<title>6&#45;&gt;7</title>\n<path fill=\"none\" stroke=\"black\" d=\"M619.5,-131.7C628.08,-135.95 638.37,-142.13 645.6,-150 657.86,-163.35 666.72,-181.78 672.45,-196.65\"/>\n<polygon fill=\"black\" stroke=\"black\" points=\"669.76,-197.96 675.47,-204.93 675.35,-195.93 669.76,-197.96\"/>\n<text text-anchor=\"middle\" x=\"642.1\" y=\"-153.8\" font-family=\"Times,serif\" font-size=\"14.00\">n</text>\n</g>\n<!-- 9 -->\n<g id=\"node11\" class=\"node\">\n<title>9</title>\n<ellipse fill=\"none\" stroke=\"black\" cx=\"841.6\" cy=\"-168\" rx=\"18\" ry=\"18\"/>\n<text text-anchor=\"middle\" x=\"841.6\" y=\"-164.3\" font-family=\"Times,serif\" font-size=\"14.00\">9</text>\n</g>\n<!-- 8&#45;&gt;9 -->\n<g id=\"edge22\" class=\"edge\">\n<title>8&#45;&gt;9</title>\n<path fill=\"none\" stroke=\"black\" d=\"M773.26,-212.35C785.97,-203.98 804.54,-191.75 818.96,-182.25\"/>\n<polygon fill=\"black\" stroke=\"black\" points=\"820.61,-184.73 826.07,-177.57 817.33,-179.76 820.61,-184.73\"/>\n<text text-anchor=\"middle\" x=\"799.6\" y=\"-201.8\" font-family=\"Times,serif\" font-size=\"14.00\">▁</text>\n</g>\n<!-- 10 -->\n<g id=\"node12\" class=\"node\">\n<title>10</title>\n<ellipse fill=\"none\" stroke=\"black\" cx=\"937.1\" cy=\"-292\" rx=\"19.5\" ry=\"19.5\"/>\n<text text-anchor=\"middle\" x=\"937.1\" y=\"-288.3\" font-family=\"Times,serif\" font-size=\"14.00\">10</text>\n</g>\n<!-- 8&#45;&gt;10 -->\n<g id=\"edge23\" class=\"edge\">\n<title>8&#45;&gt;10</title>\n<path fill=\"none\" stroke=\"black\" d=\"M772.13,-233.02C778.46,-237.91 786.21,-243.55 793.6,-248 829.03,-269.32 837.6,-277.52 877.6,-288 887.55,-290.61 898.76,-291.78 908.69,-292.24\"/>\n<polygon fill=\"black\" stroke=\"black\" points=\"908.79,-295.22 917.37,-292.49 908.96,-289.27 908.79,-295.22\"/>\n<text text-anchor=\"middle\" x=\"841.6\" y=\"-285.8\" font-family=\"Times,serif\" font-size=\"14.00\">▁f</text>\n</g>\n<!-- 11 -->\n<g id=\"node13\" class=\"node\">\n<title>11</title>\n<ellipse fill=\"none\" stroke=\"black\" cx=\"937.1\" cy=\"-85\" rx=\"19.5\" ry=\"19.5\"/>\n<text text-anchor=\"middle\" x=\"937.1\" y=\"-81.3\" font-family=\"Times,serif\" font-size=\"14.00\">11</text>\n</g>\n<!-- 8&#45;&gt;11 -->\n<g id=\"edge24\" class=\"edge\">\n<title>8&#45;&gt;11</title>\n<path fill=\"none\" stroke=\"black\" d=\"M766.17,-205.81C776.59,-185.01 797.09,-148.89 823.6,-126 848.12,-104.83 884.49,-94.24 909.18,-89.19\"/>\n<polygon fill=\"black\" stroke=\"black\" points=\"909.91,-92.08 917.71,-87.58 908.8,-86.24 909.91,-92.08\"/>\n<text text-anchor=\"middle\" x=\"841.6\" y=\"-129.8\" font-family=\"Times,serif\" font-size=\"14.00\">▁t</text>\n</g>\n<!-- 12 -->\n<g id=\"node14\" class=\"node\">\n<title>12</title>\n<ellipse fill=\"none\" stroke=\"black\" cx=\"1060.1\" cy=\"-85\" rx=\"19.5\" ry=\"19.5\"/>\n<text text-anchor=\"middle\" x=\"1060.1\" y=\"-81.3\" font-family=\"Times,serif\" font-size=\"14.00\">12</text>\n</g>\n<!-- 8&#45;&gt;12 -->\n<g id=\"edge25\" class=\"edge\">\n<title>8&#45;&gt;12</title>\n<path fill=\"none\" stroke=\"black\" d=\"M764.49,-205.32C770.7,-188.54 781.3,-162.2 793.6,-141 804.75,-121.78 806.64,-115.36 823.6,-101 844.23,-83.53 853.02,-84.26 877.6,-73 895.01,-65.03 898.8,-60.62 917.6,-57 934.62,-53.72 939.42,-54.7 956.6,-57 983.31,-60.58 1012.9,-69.2 1033.4,-75.93\"/>\n<polygon fill=\"black\" stroke=\"black\" points=\"1032.6,-78.8 1041.6,-78.69 1034.49,-73.16 1032.6,-78.8\"/>\n<text text-anchor=\"middle\" x=\"888.6\" y=\"-76.8\" font-family=\"Times,serif\" font-size=\"14.00\">▁tr</text>\n</g>\n<!-- 13 -->\n<g id=\"node15\" class=\"node\">\n<title>13</title>\n<ellipse fill=\"none\" stroke=\"black\" cx=\"1291.1\" cy=\"-211\" rx=\"19.5\" ry=\"19.5\"/>\n<text text-anchor=\"middle\" x=\"1291.1\" y=\"-207.3\" font-family=\"Times,serif\" font-size=\"14.00\">13</text>\n</g>\n<!-- 8&#45;&gt;13 -->\n<g id=\"edge26\" class=\"edge\">\n<title>8&#45;&gt;13</title>\n<path fill=\"none\" stroke=\"black\" d=\"M760.85,-204.17C765.87,-172.68 781.08,-107.65 823.6,-77 879.49,-36.72 905.92,-47.39 974.6,-42 1088.3,-33.08 1127,-45.8 1222.6,-108 1238.7,-118.46 1242.3,-122.54 1253.6,-138 1264.2,-152.42 1273.2,-170.37 1279.6,-184.86\"/>\n<polygon fill=\"black\" stroke=\"black\" points=\"1276.99,-186.32 1283.1,-192.94 1282.45,-183.96 1276.99,-186.32\"/>\n<text text-anchor=\"middle\" x=\"990.1\" y=\"-45.8\" font-family=\"Times,serif\" font-size=\"14.00\">▁fals</text>\n</g>\n<!-- 15 -->\n<g id=\"node16\" class=\"node\">\n<title>15</title>\n<ellipse fill=\"none\" stroke=\"black\" cx=\"1060.1\" cy=\"-217\" rx=\"19.5\" ry=\"19.5\"/>\n<text text-anchor=\"middle\" x=\"1060.1\" y=\"-213.3\" font-family=\"Times,serif\" font-size=\"14.00\">15</text>\n</g>\n<!-- 8&#45;&gt;15 -->\n<g id=\"edge27\" class=\"edge\">\n<title>8&#45;&gt;15</title>\n<path fill=\"none\" stroke=\"black\" d=\"M775.62,-221.72C825.33,-220.89 970.69,-218.47 1031.7,-217.46\"/>\n<polygon fill=\"black\" stroke=\"black\" points=\"1031.95,-220.43 1040.4,-217.31 1031.85,-214.48 1031.95,-220.43\"/>\n<text text-anchor=\"middle\" x=\"888.6\" y=\"-223.8\" font-family=\"Times,serif\" font-size=\"14.00\">▁fa</text>\n</g>\n<!-- 16 -->\n<g id=\"node17\" class=\"node\">\n<title>16</title>\n<ellipse fill=\"none\" stroke=\"black\" cx=\"1203.1\" cy=\"-266\" rx=\"19.5\" ry=\"19.5\"/>\n<text text-anchor=\"middle\" x=\"1203.1\" y=\"-262.3\" font-family=\"Times,serif\" font-size=\"14.00\">16</text>\n</g>\n<!-- 8&#45;&gt;16 -->\n<g id=\"edge28\" class=\"edge\">\n<title>8&#45;&gt;16</title>\n<path fill=\"none\" stroke=\"black\" d=\"M759.14,-240.09C761.5,-283.68 774.07,-391 840.6,-391 840.6,-391 840.6,-391 991.1,-391 1073.4,-391 1102.3,-381.62 1165.6,-329 1177.3,-319.26 1186.1,-304.71 1192.1,-292.05\"/>\n<polygon fill=\"black\" stroke=\"black\" points=\"1194.91,-293.05 1195.7,-284.08 1189.49,-290.6 1194.91,-293.05\"/>\n<text text-anchor=\"middle\" x=\"937.1\" y=\"-394.8\" font-family=\"Times,serif\" font-size=\"14.00\">▁fal</text>\n</g>\n<!-- 14 -->\n<g id=\"node18\" class=\"node\">\n<title>14</title>\n<ellipse fill=\"none\" stroke=\"black\" cx=\"1377.1\" cy=\"-294\" rx=\"23.5\" ry=\"23.5\"/>\n<ellipse fill=\"none\" stroke=\"black\" cx=\"1377.1\" cy=\"-294\" rx=\"27.5\" ry=\"27.5\"/>\n<text text-anchor=\"middle\" x=\"1377.1\" y=\"-290.3\" font-family=\"Times,serif\" font-size=\"14.00\">14</text>\n</g>\n<!-- 8&#45;&gt;14 -->\n<g id=\"edge29\" class=\"edge\">\n<title>8&#45;&gt;14</title>\n<path fill=\"none\" stroke=\"black\" d=\"M759.45,-240.14C761.55,-271.36 768.8,-336.57 793.6,-385 807.8,-412.73 809.45,-437 840.6,-437 840.6,-437 840.6,-437 1292.1,-437 1343.3,-437 1363.9,-367.98 1371.7,-325.84\"/>\n<polygon fill=\"black\" stroke=\"black\" points=\"1374.66,-326.18 1373.2,-317.29 1368.8,-325.15 1374.66,-326.18\"/>\n<text text-anchor=\"middle\" x=\"1060.1\" y=\"-440.8\" font-family=\"Times,serif\" font-size=\"14.00\">▁false,▁true</text>\n</g>\n<!-- 9&#45;&gt;10 -->\n<g id=\"edge30\" class=\"edge\">\n<title>9&#45;&gt;10</title>\n<path fill=\"none\" stroke=\"black\" d=\"M847.04,-185.46C852.19,-203.14 862.01,-230.56 877.6,-250 887.03,-261.76 900.56,-271.76 912.23,-279.05\"/>\n<polygon fill=\"black\" stroke=\"black\" points=\"910.75,-281.63 919.57,-283.44 913.8,-276.52 910.75,-281.63\"/>\n<text text-anchor=\"middle\" x=\"888.6\" y=\"-273.8\" font-family=\"Times,serif\" font-size=\"14.00\">f</text>\n</g>\n<!-- 9&#45;&gt;11 -->\n<g id=\"edge31\" class=\"edge\">\n<title>9&#45;&gt;11</title>\n<path fill=\"none\" stroke=\"black\" d=\"M851.25,-152.56C857.59,-142.19 866.93,-128.71 877.6,-119 887.53,-109.96 900.25,-102.22 911.29,-96.42\"/>\n<polygon fill=\"black\" stroke=\"black\" points=\"912.72,-99.03 918.97,-92.54 910.04,-93.71 912.72,-99.03\"/>\n<text text-anchor=\"middle\" x=\"888.6\" y=\"-122.8\" font-family=\"Times,serif\" font-size=\"14.00\">t</text>\n</g>\n<!-- 9&#45;&gt;12 -->\n<g id=\"edge32\" class=\"edge\">\n<title>9&#45;&gt;12</title>\n<path fill=\"none\" stroke=\"black\" d=\"M858.87,-161.76C896.29,-147.42 988.66,-112 1033.7,-94.75\"/>\n<polygon fill=\"black\" stroke=\"black\" points=\"1034.85,-97.5 1041.7,-91.66 1032.7,-91.95 1034.85,-97.5\"/>\n<text text-anchor=\"middle\" x=\"937.1\" y=\"-142.8\" font-family=\"Times,serif\" font-size=\"14.00\">tr</text>\n</g>\n<!-- 9&#45;&gt;15 -->\n<g id=\"edge33\" class=\"edge\">\n<title>9&#45;&gt;15</title>\n<path fill=\"none\" stroke=\"black\" d=\"M859.23,-171.76C896.54,-180.21 987.22,-200.73 1032.5,-210.98\"/>\n<polygon fill=\"black\" stroke=\"black\" points=\"1031.95,-213.91 1040.9,-212.88 1033.27,-208.1 1031.95,-213.91\"/>\n<text text-anchor=\"middle\" x=\"937.1\" y=\"-196.8\" font-family=\"Times,serif\" font-size=\"14.00\">fa</text>\n</g>\n<!-- 9&#45;&gt;14 -->\n<g id=\"edge34\" class=\"edge\">\n<title>9&#45;&gt;14</title>\n<path fill=\"none\" stroke=\"black\" d=\"M853.62,-154.27C855.75,-151.31 857.86,-148.12 859.6,-145 870.09,-126.18 866.07,-118.19 877.6,-100 913.23,-43.78 922.53,0 989.1,0 989.1,0 989.1,0 1292.1,0 1346,0 1367.3,-185.3 1373.7,-261.68\"/>\n<polygon fill=\"black\" stroke=\"black\" points=\"1370.76,-262.2 1374.4,-270.44 1376.69,-261.73 1370.76,-262.2\"/>\n<text text-anchor=\"middle\" x=\"1140.1\" y=\"-3.8\" font-family=\"Times,serif\" font-size=\"14.00\">false,true</text>\n</g>\n<!-- 10&#45;&gt;13 -->\n<g id=\"edge35\" class=\"edge\">\n<title>10&#45;&gt;13</title>\n<path fill=\"none\" stroke=\"black\" d=\"M955.9,-297.2C1002.5,-309.76 1130.7,-337.66 1222.6,-294 1247.6,-282.11 1266.4,-255.89 1277.7,-236.08\"/>\n<polygon fill=\"black\" stroke=\"black\" points=\"1280.33,-237.47 1281.8,-228.58 1275.11,-234.61 1280.33,-237.47\"/>\n<text text-anchor=\"middle\" x=\"1140.1\" y=\"-320.8\" font-family=\"Times,serif\" font-size=\"14.00\">als</text>\n</g>\n<!-- 10&#45;&gt;15 -->\n<g id=\"edge36\" class=\"edge\">\n<title>10&#45;&gt;15</title>\n<path fill=\"none\" stroke=\"black\" d=\"M951.13,-278.05C957.75,-271.45 966.17,-263.78 974.6,-258 993.09,-245.32 1016.1,-234.44 1033.4,-227.07\"/>\n<polygon fill=\"black\" stroke=\"black\" points=\"1034.69,-229.76 1041.4,-223.75 1032.41,-224.26 1034.69,-229.76\"/>\n<text text-anchor=\"middle\" x=\"990.1\" y=\"-261.8\" font-family=\"Times,serif\" font-size=\"14.00\">a</text>\n</g>\n<!-- 10&#45;&gt;16 -->\n<g id=\"edge37\" class=\"edge\">\n<title>10&#45;&gt;16</title>\n<path fill=\"none\" stroke=\"black\" d=\"M956.66,-290.17C1002.5,-285.66 1121.1,-273.97 1174.9,-268.68\"/>\n<polygon fill=\"black\" stroke=\"black\" points=\"1175.43,-271.62 1183.6,-267.83 1174.85,-265.7 1175.43,-271.62\"/>\n<text text-anchor=\"middle\" x=\"1060.1\" y=\"-286.8\" font-family=\"Times,serif\" font-size=\"14.00\">al</text>\n</g>\n<!-- 10&#45;&gt;14 -->\n<g id=\"edge38\" class=\"edge\">\n<title>10&#45;&gt;14</title>\n<path fill=\"none\" stroke=\"black\" d=\"M952.06,-304.68C958.5,-309.88 966.5,-315.49 974.6,-319 994.91,-327.81 1001.7,-325.03 1023.6,-328 1063.8,-333.45 1074,-334.22 1114.6,-336 1137.2,-336.99 1143,-338.23 1165.6,-336 1230.5,-329.58 1305.2,-312.29 1345.8,-302\"/>\n<polygon fill=\"black\" stroke=\"black\" points=\"1346.7,-304.84 1354.2,-299.86 1345.23,-299.08 1346.7,-304.84\"/>\n<text text-anchor=\"middle\" x=\"1203.1\" y=\"-336.8\" font-family=\"Times,serif\" font-size=\"14.00\">alse</text>\n</g>\n<!-- 11&#45;&gt;12 -->\n<g id=\"edge39\" class=\"edge\">\n<title>11&#45;&gt;12</title>\n<path fill=\"none\" stroke=\"black\" d=\"M956.74,-85C976.75,-85 1008.8,-85 1031.6,-85\"/>\n<polygon fill=\"black\" stroke=\"black\" points=\"1031.7,-87.98 1040.2,-85 1031.7,-82.03 1031.7,-87.98\"/>\n<text text-anchor=\"middle\" x=\"990.1\" y=\"-88.8\" font-family=\"Times,serif\" font-size=\"14.00\">r</text>\n</g>\n<!-- 11&#45;&gt;13 -->\n<g id=\"edge40\" class=\"edge\">\n<title>11&#45;&gt;13</title>\n<path fill=\"none\" stroke=\"black\" d=\"M954.56,-94.25C960.74,-97.54 967.9,-101.14 974.6,-104 1078.9,-148.53 1208.5,-187.62 1263.5,-203.48\"/>\n<polygon fill=\"black\" stroke=\"black\" points=\"1262.91,-206.41 1271.9,-205.91 1264.56,-200.69 1262.91,-206.41\"/>\n<text text-anchor=\"middle\" x=\"1140.1\" y=\"-175.8\" font-family=\"Times,serif\" font-size=\"14.00\">ru</text>\n</g>\n<!-- 12&#45;&gt;13 -->\n<g id=\"edge41\" class=\"edge\">\n<title>12&#45;&gt;13</title>\n<path fill=\"none\" stroke=\"black\" d=\"M1079.7,-86.53C1117.2,-90.56 1202.5,-104.56 1253.6,-151 1264.2,-160.59 1272.7,-173.95 1278.8,-185.63\"/>\n<polygon fill=\"black\" stroke=\"black\" points=\"1276.22,-187.12 1282.7,-193.37 1281.53,-184.44 1276.22,-187.12\"/>\n<text text-anchor=\"middle\" x=\"1203.1\" y=\"-131.8\" font-family=\"Times,serif\" font-size=\"14.00\">u</text>\n</g>\n<!-- 12&#45;&gt;14 -->\n<g id=\"edge42\" class=\"edge\">\n<title>12&#45;&gt;14</title>\n<path fill=\"none\" stroke=\"black\" d=\"M1079.8,-83.76C1116.8,-82.29 1200.1,-83.92 1253.6,-123 1305.4,-160.81 1343.7,-227.15 1362.7,-265.13\"/>\n<polygon fill=\"black\" stroke=\"black\" points=\"1360.06,-266.5 1366.5,-272.79 1365.39,-263.85 1360.06,-266.5\"/>\n<text text-anchor=\"middle\" x=\"1247.1\" y=\"-126.8\" font-family=\"Times,serif\" font-size=\"14.00\">ue</text>\n</g>\n<!-- 13&#45;&gt;14 -->\n<g id=\"edge43\" class=\"edge\">\n<title>13&#45;&gt;14</title>\n<path fill=\"none\" stroke=\"black\" d=\"M1305.6,-224.34C1318.5,-237.09 1338.2,-256.55 1353.5,-271.67\"/>\n<polygon fill=\"black\" stroke=\"black\" points=\"1351.58,-273.96 1359.7,-277.85 1355.78,-269.74 1351.58,-273.96\"/>\n<text text-anchor=\"middle\" x=\"1332.1\" y=\"-255.8\" font-family=\"Times,serif\" font-size=\"14.00\">e</text>\n</g>\n<!-- 15&#45;&gt;13 -->\n<g id=\"edge44\" class=\"edge\">\n<title>15&#45;&gt;13</title>\n<path fill=\"none\" stroke=\"black\" d=\"M1079.8,-216.51C1120.2,-215.45 1215.5,-212.95 1262.7,-211.72\"/>\n<polygon fill=\"black\" stroke=\"black\" points=\"1262.98,-214.69 1271.4,-211.49 1262.82,-208.74 1262.98,-214.69\"/>\n<text text-anchor=\"middle\" x=\"1203.1\" y=\"-216.8\" font-family=\"Times,serif\" font-size=\"14.00\">ls</text>\n</g>\n<!-- 15&#45;&gt;16 -->\n<g id=\"edge45\" class=\"edge\">\n<title>15&#45;&gt;16</title>\n<path fill=\"none\" stroke=\"black\" d=\"M1079.4,-220.06C1100.6,-223.99 1136.6,-231.81 1165.6,-244 1170.1,-245.9 1174.7,-248.29 1179.1,-250.79\"/>\n<polygon fill=\"black\" stroke=\"black\" points=\"1177.79,-253.47 1186.6,-255.32 1180.86,-248.38 1177.79,-253.47\"/>\n<text text-anchor=\"middle\" x=\"1140.1\" y=\"-247.8\" font-family=\"Times,serif\" font-size=\"14.00\">l</text>\n</g>\n<!-- 16&#45;&gt;13 -->\n<g id=\"edge46\" class=\"edge\">\n<title>16&#45;&gt;13</title>\n<path fill=\"none\" stroke=\"black\" d=\"M1219.9,-255.91C1233,-247.51 1251.9,-235.44 1266.8,-225.92\"/>\n<polygon fill=\"black\" stroke=\"black\" points=\"1268.57,-228.32 1274.1,-221.21 1265.34,-223.32 1268.57,-228.32\"/>\n<text text-anchor=\"middle\" x=\"1247.1\" y=\"-244.8\" font-family=\"Times,serif\" font-size=\"14.00\">s</text>\n</g>\n<!-- 16&#45;&gt;14 -->\n<g id=\"edge47\" class=\"edge\">\n<title>16&#45;&gt;14</title>\n<path fill=\"none\" stroke=\"black\" d=\"M1222.5,-269C1251.8,-273.77 1309.5,-283.15 1345.2,-288.97\"/>\n<polygon fill=\"black\" stroke=\"black\" points=\"1344.93,-291.94 1353.8,-290.37 1345.89,-286.07 1344.93,-291.94\"/>\n<text text-anchor=\"middle\" x=\"1291.1\" y=\"-286.8\" font-family=\"Times,serif\" font-size=\"14.00\">se</text>\n</g>\n</g>\n</svg>\n",
            "text/plain": [
              "<AGraph <Swig Object of type 'Agraph_t *' at 0x7a2ec05a7e40>>"
            ]
          },
          "metadata": {},
          "execution_count": 42
        }
      ]
    },
    {
      "cell_type": "code",
      "source": [
        "# Number of transitions\n",
        "sum([len(regex_fsm.states_to_token_maps[s]) for s in regex_fsm.states_to_token_maps])"
      ],
      "metadata": {
        "colab": {
          "base_uri": "https://localhost:8080/"
        },
        "id": "z_51_l9RoJsP",
        "outputId": "83e72030-fc46-4720-e45e-b7be3bb029d4"
      },
      "execution_count": null,
      "outputs": [
        {
          "output_type": "execute_result",
          "data": {
            "text/plain": [
              "48"
            ]
          },
          "metadata": {},
          "execution_count": 43
        }
      ]
    },
    {
      "cell_type": "code",
      "source": [
        "fsm = DirectMergeFSM(interegular.parse_pattern(\"boolean: ((true)|(false))\").to_fsm(), string.printable, tokenizer)\n",
        "fsm.apply_merges(tokenizer_dict[\"model\"][\"merges\"])\n",
        "letters = [c for c in string.printable if c != \"\\n\"]\n",
        "tokenizer_fsm = TokenizerFSM(\n",
        "    [encode(c, tokenizer)[0] for c in letters],\n",
        "    tokenizer,\n",
        "    tokenizer_dict[\"model\"][\"merges\"]\n",
        ")\n",
        "regex_fsm = NormalizedRegexFSM(\"boolean: ((true)|(false))\", tokenizer_outlines)\n",
        "regex_fsm.normalize(tokenizer_fsm)\n",
        "fsm.get_dfa().show_diagram()"
      ],
      "metadata": {
        "colab": {
          "base_uri": "https://localhost:8080/",
          "height": 574
        },
        "id": "IVrlF67IF7kw",
        "outputId": "e53cb63d-1668-4ffe-ef73-4a9d91590f3e"
      },
      "execution_count": null,
      "outputs": [
        {
          "output_type": "stream",
          "name": "stderr",
          "text": [
            "/usr/local/lib/python3.10/dist-packages/outlines/fsm/regex.py:474: NumbaPendingDeprecationWarning: \n",
            "Encountered the use of a type that is scheduled for deprecation: type 'reflected set' found for argument 'fsm_finals' of function '_walk_fsm'.\n",
            "\n",
            "For more information visit https://numba.readthedocs.io/en/stable/reference/deprecation.html#deprecation-of-reflection-for-list-and-set-types\n",
            "\n",
            "File \"../../../../usr/local/lib/python3.10/dist-packages/outlines/fsm/regex.py\", line 226:\n",
            "@numba.njit(nogil=True, cache=True)\n",
            "def _walk_fsm(\n",
            "^\n",
            "\n",
            "  state_seq = _walk_fsm(\n",
            "/usr/local/lib/python3.10/dist-packages/numba/core/ir_utils.py:2172: NumbaPendingDeprecationWarning: \n",
            "Encountered the use of a type that is scheduled for deprecation: type 'reflected set' found for argument 'fsm_finals' of function 'state_scan_tokens'.\n",
            "\n",
            "For more information visit https://numba.readthedocs.io/en/stable/reference/deprecation.html#deprecation-of-reflection-for-list-and-set-types\n",
            "\n",
            "File \"../../../../usr/local/lib/python3.10/dist-packages/outlines/fsm/regex.py\", line 462:\n",
            "@numba.njit(cache=True, nogil=True)\n",
            "def state_scan_tokens(\n",
            "^\n",
            "\n",
            "  warnings.warn(NumbaPendingDeprecationWarning(msg, loc=loc))\n"
          ]
        },
        {
          "output_type": "execute_result",
          "data": {
            "image/svg+xml": "<?xml version=\"1.0\" encoding=\"UTF-8\" standalone=\"no\"?>\n<!DOCTYPE svg PUBLIC \"-//W3C//DTD SVG 1.1//EN\"\n \"http://www.w3.org/Graphics/SVG/1.1/DTD/svg11.dtd\">\n<!-- Generated by graphviz version 2.43.0 (0)\n -->\n<!-- Pages: 1 -->\n<svg width=\"400pt\" height=\"128pt\"\n viewBox=\"0.00 0.00 399.60 128.00\" xmlns=\"http://www.w3.org/2000/svg\" xmlns:xlink=\"http://www.w3.org/1999/xlink\">\n<g id=\"graph0\" class=\"graph\" transform=\"scale(1 1) rotate(0) translate(4 124)\">\n<polygon fill=\"white\" stroke=\"transparent\" points=\"-4,4 -4,-124 395.6,-124 395.6,4 -4,4\"/>\n<!-- 38030139&#45;5415&#45;4a04&#45;b417&#45;038ff65d0186 -->\n<g id=\"node1\" class=\"node\">\n<title>38030139&#45;5415&#45;4a04&#45;b417&#45;038ff65d0186</title>\n<g id=\"a_node1\"><a xlink:title=\".\">\n<ellipse fill=\"black\" stroke=\"black\" cx=\"1.8\" cy=\"-59.5\" rx=\"1.8\" ry=\"1.8\"/>\n</a>\n</g>\n</g>\n<!-- 0 -->\n<g id=\"node2\" class=\"node\">\n<title>0</title>\n<ellipse fill=\"none\" stroke=\"black\" cx=\"58.6\" cy=\"-59.5\" rx=\"18\" ry=\"18\"/>\n<text text-anchor=\"middle\" x=\"58.6\" y=\"-55.8\" font-family=\"Times,serif\" font-size=\"14.00\">0</text>\n</g>\n<!-- 38030139&#45;5415&#45;4a04&#45;b417&#45;038ff65d0186&#45;&gt;0 -->\n<g id=\"edge1\" class=\"edge\">\n<title>38030139&#45;5415&#45;4a04&#45;b417&#45;038ff65d0186&#45;&gt;0</title>\n<g id=\"a_edge1\"><a xlink:title=\"&#45;&gt;0\">\n<path fill=\"none\" stroke=\"black\" d=\"M3.75,-59.5C7.25,-59.5 19.84,-59.5 31.96,-59.5\"/>\n<polygon fill=\"black\" stroke=\"black\" points=\"32.08,-62.48 40.58,-59.5 32.07,-56.53 32.08,-62.48\"/>\n</a>\n</g>\n</g>\n<!-- 7 -->\n<g id=\"node3\" class=\"node\">\n<title>7</title>\n<ellipse fill=\"none\" stroke=\"black\" cx=\"173.6\" cy=\"-59.5\" rx=\"18\" ry=\"18\"/>\n<text text-anchor=\"middle\" x=\"173.6\" y=\"-55.8\" font-family=\"Times,serif\" font-size=\"14.00\">7</text>\n</g>\n<!-- 0&#45;&gt;7 -->\n<g id=\"edge2\" class=\"edge\">\n<title>0&#45;&gt;7</title>\n<path fill=\"none\" stroke=\"black\" d=\"M76.76,-59.5C95.35,-59.5 125.2,-59.5 146.65,-59.5\"/>\n<polygon fill=\"black\" stroke=\"black\" points=\"146.78,-62.48 155.28,-59.5 146.78,-56.53 146.78,-62.48\"/>\n<text text-anchor=\"middle\" x=\"116.1\" y=\"-63.3\" font-family=\"Times,serif\" font-size=\"14.00\">boolean</text>\n</g>\n<!-- 8 -->\n<g id=\"node4\" class=\"node\">\n<title>8</title>\n<ellipse fill=\"none\" stroke=\"black\" cx=\"249.6\" cy=\"-59.5\" rx=\"18\" ry=\"18\"/>\n<text text-anchor=\"middle\" x=\"249.6\" y=\"-55.8\" font-family=\"Times,serif\" font-size=\"14.00\">8</text>\n</g>\n<!-- 7&#45;&gt;8 -->\n<g id=\"edge3\" class=\"edge\">\n<title>7&#45;&gt;8</title>\n<path fill=\"none\" stroke=\"black\" d=\"M191.76,-59.5C201.01,-59.5 212.6,-59.5 222.9,-59.5\"/>\n<polygon fill=\"black\" stroke=\"black\" points=\"223.03,-62.48 231.53,-59.5 223.03,-56.53 223.03,-62.48\"/>\n<text text-anchor=\"middle\" x=\"211.6\" y=\"-63.3\" font-family=\"Times,serif\" font-size=\"14.00\">:</text>\n</g>\n<!-- 17 -->\n<g id=\"node5\" class=\"node\">\n<title>17</title>\n<ellipse fill=\"none\" stroke=\"black\" cx=\"364.1\" cy=\"-92.5\" rx=\"23.5\" ry=\"23.5\"/>\n<ellipse fill=\"none\" stroke=\"black\" cx=\"364.1\" cy=\"-92.5\" rx=\"27.5\" ry=\"27.5\"/>\n<text text-anchor=\"middle\" x=\"364.1\" y=\"-88.8\" font-family=\"Times,serif\" font-size=\"14.00\">17</text>\n</g>\n<!-- 8&#45;&gt;17 -->\n<g id=\"edge4\" class=\"edge\">\n<title>8&#45;&gt;17</title>\n<path fill=\"none\" stroke=\"black\" d=\"M267.2,-64.37C284.5,-69.44 311.97,-77.5 333.09,-83.7\"/>\n<polygon fill=\"black\" stroke=\"black\" points=\"332.42,-86.6 341.41,-86.14 334.09,-80.89 332.42,-86.6\"/>\n<text text-anchor=\"middle\" x=\"304.1\" y=\"-83.3\" font-family=\"Times,serif\" font-size=\"14.00\">▁true</text>\n</g>\n<!-- 18 -->\n<g id=\"node6\" class=\"node\">\n<title>18</title>\n<ellipse fill=\"none\" stroke=\"black\" cx=\"364.1\" cy=\"-27.5\" rx=\"23.5\" ry=\"23.5\"/>\n<ellipse fill=\"none\" stroke=\"black\" cx=\"364.1\" cy=\"-27.5\" rx=\"27.5\" ry=\"27.5\"/>\n<text text-anchor=\"middle\" x=\"364.1\" y=\"-23.8\" font-family=\"Times,serif\" font-size=\"14.00\">18</text>\n</g>\n<!-- 8&#45;&gt;18 -->\n<g id=\"edge5\" class=\"edge\">\n<title>8&#45;&gt;18</title>\n<path fill=\"none\" stroke=\"black\" d=\"M267.2,-54.78C284.5,-49.86 311.97,-42.04 333.09,-36.04\"/>\n<polygon fill=\"black\" stroke=\"black\" points=\"334.05,-38.86 341.41,-33.67 332.42,-33.13 334.05,-38.86\"/>\n<text text-anchor=\"middle\" x=\"304.1\" y=\"-53.3\" font-family=\"Times,serif\" font-size=\"14.00\">▁false</text>\n</g>\n</g>\n</svg>\n",
            "text/plain": [
              "<AGraph <Swig Object of type 'Agraph_t *' at 0x7a2ec0dd4b10>>"
            ]
          },
          "metadata": {},
          "execution_count": 41
        }
      ]
    },
    {
      "cell_type": "markdown",
      "metadata": {
        "id": "fZNOK6pZiVlj"
      },
      "source": [
        "## Test: comparison of `CartesianMerge` and `DirectMerge`\n",
        "\n",
        "We check that `CartesianMerge` and `DirectMerge` return the same result (up to an isomorphism)."
      ]
    },
    {
      "cell_type": "code",
      "source": [
        "letters = [c for c in string.printable if c != \"\\n\"]\n",
        "tokenizer_fsm = TokenizerFSM(\n",
        "    [encode(c, tokenizer)[0] for c in letters],\n",
        "    tokenizer,\n",
        "    tokenizer_dict[\"model\"][\"merges\"]\n",
        ")\n",
        "id2state, state2forbidden = get_dict_from_tokenizer_fsm(tokenizer_fsm)"
      ],
      "metadata": {
        "id": "nUwXSDXbwgMC"
      },
      "execution_count": null,
      "outputs": []
    },
    {
      "cell_type": "code",
      "source": [
        "def get_dfa_cartesian(regex_fsm, tokenizer_fsm, new_map):\n",
        "    \"\"\"\n",
        "    Create the DFA implicitly built by `CartesianMerge`. In general, explicitly\n",
        "    generating this DFA is too computationally expensive. This should be done\n",
        "    only with toy examples.\n",
        "    \"\"\"\n",
        "    states = set()\n",
        "    initial_state = \"-\".join(str(x) for x in (regex_fsm.initial_state, 0))\n",
        "    final_states = set()\n",
        "    states.add(initial_state)\n",
        "    for s in new_map:\n",
        "        for t in new_map[s]:\n",
        "            states.add(\"-\".join(str(x) for x in new_map[s][t]))\n",
        "\n",
        "    transitions = {}\n",
        "    input_symbols = set()\n",
        "    for s in states:\n",
        "        transitions[s] = {}\n",
        "        regex_state, tokenizer_state = [int(x) for x in s.split(\"-\")]\n",
        "        if regex_state in regex_fsm.final_states:\n",
        "            final_states.add(s)\n",
        "        for t in new_map[regex_state]:\n",
        "            token = get_token(t, tokenizer)\n",
        "            input_symbols.add(token)\n",
        "            if t not in state2forbidden[tokenizer_state]:\n",
        "                transitions[s][token] = \"-\".join(str(x) for x in new_map[regex_state][t])\n",
        "\n",
        "    return DFA(\n",
        "        states=states,\n",
        "        input_symbols=input_symbols,\n",
        "        transitions=transitions,\n",
        "        initial_state=\"0-0\",\n",
        "        final_states=final_states,\n",
        "        allow_partial=True\n",
        "    )"
      ],
      "metadata": {
        "id": "fb922iwPlbqy"
      },
      "execution_count": null,
      "outputs": []
    },
    {
      "cell_type": "code",
      "source": [
        "def check_pattern(pattern):\n",
        "    \"\"\"\n",
        "    Check whether the direct merge table approach and the cartesian product approach yield the same results.\n",
        "    Return the common minified DFA\n",
        "    \"\"\"\n",
        "    regex_fsm = NormalizedRegexFSM(pattern, tokenizer_outlines)\n",
        "    regex_fsm.normalize(tokenizer_fsm)\n",
        "    new_map = get_possible_composite_states(\n",
        "        convert_dict_dict(regex_fsm.states_to_token_maps),\n",
        "        id2state,\n",
        "        state2forbidden,\n",
        "        typed.List(regex_fsm.final_states)\n",
        "    )\n",
        "    dfa1 = get_dfa_cartesian(regex_fsm, tokenizer_fsm, new_map).minify()\n",
        "\n",
        "    fsm = DirectMergeFSM(interegular.parse_pattern(pattern).to_fsm().reduce(), letters, tokenizer)\n",
        "    fsm.apply_merges(tokenizer_dict[\"model\"][\"merges\"])\n",
        "    dfa2 = fsm.get_dfa().minify()\n",
        "\n",
        "    assert dfa1.issubset(dfa2) and dfa2.issubset(dfa1)\n",
        "    return dfa1"
      ],
      "metadata": {
        "id": "6VRag0hJe57E"
      },
      "execution_count": null,
      "outputs": []
    },
    {
      "cell_type": "markdown",
      "source": [
        "For the following patterns, we create the target DFA with `DirectMerge` and `CartesianMerge`, check that the results are isomorphic and display the DFA."
      ],
      "metadata": {
        "id": "IdcaUZFTPZuM"
      }
    },
    {
      "cell_type": "code",
      "source": [
        "pattern = \"a*b*\"\n",
        "check_pattern(pattern).show_diagram()"
      ],
      "metadata": {
        "colab": {
          "base_uri": "https://localhost:8080/",
          "height": 677
        },
        "id": "f37useDevmtC",
        "outputId": "60425098-a1f2-4bbf-b052-cba86fb51736"
      },
      "execution_count": null,
      "outputs": [
        {
          "output_type": "execute_result",
          "data": {
            "image/svg+xml": "<?xml version=\"1.0\" encoding=\"UTF-8\" standalone=\"no\"?>\n<!DOCTYPE svg PUBLIC \"-//W3C//DTD SVG 1.1//EN\"\n \"http://www.w3.org/Graphics/SVG/1.1/DTD/svg11.dtd\">\n<!-- Generated by graphviz version 2.43.0 (0)\n -->\n<!-- Pages: 1 -->\n<svg width=\"822pt\" height=\"492pt\"\n viewBox=\"0.00 0.00 821.60 492.00\" xmlns=\"http://www.w3.org/2000/svg\" xmlns:xlink=\"http://www.w3.org/1999/xlink\">\n<g id=\"graph0\" class=\"graph\" transform=\"scale(1 1) rotate(0) translate(4 488)\">\n<polygon fill=\"white\" stroke=\"transparent\" points=\"-4,4 -4,-488 817.6,-488 817.6,4 -4,4\"/>\n<!-- e3f1024c&#45;d507&#45;438f&#45;81e7&#45;f40c3e01964f -->\n<g id=\"node1\" class=\"node\">\n<title>e3f1024c&#45;d507&#45;438f&#45;81e7&#45;f40c3e01964f</title>\n<g id=\"a_node1\"><a xlink:title=\".\">\n<ellipse fill=\"black\" stroke=\"black\" cx=\"1.8\" cy=\"-207\" rx=\"1.8\" ry=\"1.8\"/>\n</a>\n</g>\n</g>\n<!-- 4 -->\n<g id=\"node2\" class=\"node\">\n<title>4</title>\n<ellipse fill=\"none\" stroke=\"black\" cx=\"62.6\" cy=\"-207\" rx=\"22\" ry=\"22\"/>\n<ellipse fill=\"none\" stroke=\"black\" cx=\"62.6\" cy=\"-207\" rx=\"26\" ry=\"26\"/>\n<text text-anchor=\"middle\" x=\"62.6\" y=\"-203.3\" font-family=\"Times,serif\" font-size=\"14.00\">4</text>\n</g>\n<!-- e3f1024c&#45;d507&#45;438f&#45;81e7&#45;f40c3e01964f&#45;&gt;4 -->\n<g id=\"edge1\" class=\"edge\">\n<title>e3f1024c&#45;d507&#45;438f&#45;81e7&#45;f40c3e01964f&#45;&gt;4</title>\n<g id=\"a_edge1\"><a xlink:title=\"&#45;&gt;4\">\n<path fill=\"none\" stroke=\"black\" d=\"M3.82,-207C7.33,-207 19.36,-207 31.54,-207\"/>\n<polygon fill=\"black\" stroke=\"black\" points=\"31.82,-209.98 40.31,-207 31.81,-204.03 31.82,-209.98\"/>\n</a>\n</g>\n</g>\n<!-- 1 -->\n<g id=\"node3\" class=\"node\">\n<title>1</title>\n<ellipse fill=\"none\" stroke=\"black\" cx=\"787.6\" cy=\"-331\" rx=\"22\" ry=\"22\"/>\n<ellipse fill=\"none\" stroke=\"black\" cx=\"787.6\" cy=\"-331\" rx=\"26\" ry=\"26\"/>\n<text text-anchor=\"middle\" x=\"787.6\" y=\"-327.3\" font-family=\"Times,serif\" font-size=\"14.00\">1</text>\n</g>\n<!-- 4&#45;&gt;1 -->\n<g id=\"edge2\" class=\"edge\">\n<title>4&#45;&gt;1</title>\n<path fill=\"none\" stroke=\"black\" d=\"M64.15,-229.34C66.99,-292.7 84.45,-469 190.6,-469 190.6,-469 190.6,-469 701.6,-469 751.8,-469 773.31,-401.98 781.74,-361.35\"/>\n<polygon fill=\"black\" stroke=\"black\" points=\"784.69,-361.78 783.39,-352.87 778.85,-360.65 784.69,-361.78\"/>\n<text text-anchor=\"middle\" x=\"445.1\" y=\"-472.8\" font-family=\"Times,serif\" font-size=\"14.00\">abb,b</text>\n</g>\n<!-- 2 -->\n<g id=\"node4\" class=\"node\">\n<title>2</title>\n<ellipse fill=\"none\" stroke=\"black\" cx=\"191.6\" cy=\"-285\" rx=\"22\" ry=\"22\"/>\n<ellipse fill=\"none\" stroke=\"black\" cx=\"191.6\" cy=\"-285\" rx=\"26\" ry=\"26\"/>\n<text text-anchor=\"middle\" x=\"191.6\" y=\"-281.3\" font-family=\"Times,serif\" font-size=\"14.00\">2</text>\n</g>\n<!-- 4&#45;&gt;2 -->\n<g id=\"edge3\" class=\"edge\">\n<title>4&#45;&gt;2</title>\n<path fill=\"none\" stroke=\"black\" d=\"M81.8,-218.18C103.58,-231.56 140.21,-254.05 164.88,-269.2\"/>\n<polygon fill=\"black\" stroke=\"black\" points=\"163.64,-271.93 172.44,-273.85 166.76,-266.86 163.64,-271.93\"/>\n<text text-anchor=\"middle\" x=\"127.1\" y=\"-262.8\" font-family=\"Times,serif\" font-size=\"14.00\">aaaaaaaa</text>\n</g>\n<!-- 3 -->\n<g id=\"node5\" class=\"node\">\n<title>3</title>\n<ellipse fill=\"none\" stroke=\"black\" cx=\"600.6\" cy=\"-208\" rx=\"22\" ry=\"22\"/>\n<ellipse fill=\"none\" stroke=\"black\" cx=\"600.6\" cy=\"-208\" rx=\"26\" ry=\"26\"/>\n<text text-anchor=\"middle\" x=\"600.6\" y=\"-204.3\" font-family=\"Times,serif\" font-size=\"14.00\">3</text>\n</g>\n<!-- 4&#45;&gt;3 -->\n<g id=\"edge4\" class=\"edge\">\n<title>4&#45;&gt;3</title>\n<path fill=\"none\" stroke=\"black\" d=\"M69.12,-185.9C82.13,-141.6 119.12,-43 190.6,-43 190.6,-43 190.6,-43 501.6,-43 563.55,-43 587.21,-130.03 595.52,-177.68\"/>\n<polygon fill=\"black\" stroke=\"black\" points=\"592.59,-178.18 596.89,-186.09 598.46,-177.22 592.59,-178.18\"/>\n<text text-anchor=\"middle\" x=\"343.1\" y=\"-46.8\" font-family=\"Times,serif\" font-size=\"14.00\">ab</text>\n</g>\n<!-- 5 -->\n<g id=\"node6\" class=\"node\">\n<title>5</title>\n<ellipse fill=\"none\" stroke=\"black\" cx=\"389.6\" cy=\"-349\" rx=\"22\" ry=\"22\"/>\n<ellipse fill=\"none\" stroke=\"black\" cx=\"389.6\" cy=\"-349\" rx=\"26\" ry=\"26\"/>\n<text text-anchor=\"middle\" x=\"389.6\" y=\"-345.3\" font-family=\"Times,serif\" font-size=\"14.00\">5</text>\n</g>\n<!-- 4&#45;&gt;5 -->\n<g id=\"edge5\" class=\"edge\">\n<title>4&#45;&gt;5</title>\n<path fill=\"none\" stroke=\"black\" d=\"M72.24,-227.07C92.43,-270.87 147.45,-373.78 231.6,-407 278.89,-425.67 334.88,-391.72 365.58,-368.36\"/>\n<polygon fill=\"black\" stroke=\"black\" points=\"367.6,-370.56 372.46,-362.98 363.93,-365.87 367.6,-370.56\"/>\n<text text-anchor=\"middle\" x=\"244.1\" y=\"-415.8\" font-family=\"Times,serif\" font-size=\"14.00\">aa</text>\n</g>\n<!-- 6 -->\n<g id=\"node7\" class=\"node\">\n<title>6</title>\n<ellipse fill=\"none\" stroke=\"black\" cx=\"296.6\" cy=\"-254\" rx=\"22\" ry=\"22\"/>\n<ellipse fill=\"none\" stroke=\"black\" cx=\"296.6\" cy=\"-254\" rx=\"26\" ry=\"26\"/>\n<text text-anchor=\"middle\" x=\"296.6\" y=\"-250.3\" font-family=\"Times,serif\" font-size=\"14.00\">6</text>\n</g>\n<!-- 4&#45;&gt;6 -->\n<g id=\"edge6\" class=\"edge\">\n<title>4&#45;&gt;6</title>\n<path fill=\"none\" stroke=\"black\" d=\"M84.6,-211.25C126.09,-219.66 218.69,-238.42 266.21,-248.05\"/>\n<polygon fill=\"black\" stroke=\"black\" points=\"265.9,-251.02 274.82,-249.79 267.08,-245.19 265.9,-251.02\"/>\n<text text-anchor=\"middle\" x=\"191.6\" y=\"-239.8\" font-family=\"Times,serif\" font-size=\"14.00\">aaaa</text>\n</g>\n<!-- 7 -->\n<g id=\"node8\" class=\"node\">\n<title>7</title>\n<ellipse fill=\"none\" stroke=\"black\" cx=\"700.6\" cy=\"-208\" rx=\"22\" ry=\"22\"/>\n<ellipse fill=\"none\" stroke=\"black\" cx=\"700.6\" cy=\"-208\" rx=\"26\" ry=\"26\"/>\n<text text-anchor=\"middle\" x=\"700.6\" y=\"-204.3\" font-family=\"Times,serif\" font-size=\"14.00\">7</text>\n</g>\n<!-- 4&#45;&gt;7 -->\n<g id=\"edge7\" class=\"edge\">\n<title>4&#45;&gt;7</title>\n<path fill=\"none\" stroke=\"black\" d=\"M63.87,-184.8C65.34,-152.3 72.3,-91.26 102.6,-51 129.79,-14.88 145.4,0 190.6,0 190.6,0 190.6,0 601.6,0 678.9,0 695.33,-119.01 698.75,-176.99\"/>\n<polygon fill=\"black\" stroke=\"black\" points=\"695.79,-177.4 699.19,-185.74 701.73,-177.1 695.79,-177.4\"/>\n<text text-anchor=\"middle\" x=\"389.6\" y=\"-3.8\" font-family=\"Times,serif\" font-size=\"14.00\">bb</text>\n</g>\n<!-- 8 -->\n<g id=\"node9\" class=\"node\">\n<title>8</title>\n<ellipse fill=\"none\" stroke=\"black\" cx=\"500.6\" cy=\"-262\" rx=\"22\" ry=\"22\"/>\n<ellipse fill=\"none\" stroke=\"black\" cx=\"500.6\" cy=\"-262\" rx=\"26\" ry=\"26\"/>\n<text text-anchor=\"middle\" x=\"500.6\" y=\"-258.3\" font-family=\"Times,serif\" font-size=\"14.00\">8</text>\n</g>\n<!-- 4&#45;&gt;8 -->\n<g id=\"edge8\" class=\"edge\">\n<title>4&#45;&gt;8</title>\n<path fill=\"none\" stroke=\"black\" d=\"M84.31,-202.65C145.45,-190.88 329.15,-163.26 460.6,-225 467.64,-228.31 474.24,-233.39 479.92,-238.73\"/>\n<polygon fill=\"black\" stroke=\"black\" points=\"478.07,-241.09 486.16,-245.04 482.3,-236.9 478.07,-241.09\"/>\n<text text-anchor=\"middle\" x=\"296.6\" y=\"-192.8\" font-family=\"Times,serif\" font-size=\"14.00\">a</text>\n</g>\n<!-- 2&#45;&gt;1 -->\n<g id=\"edge9\" class=\"edge\">\n<title>2&#45;&gt;1</title>\n<path fill=\"none\" stroke=\"black\" d=\"M204.07,-303.43C211.15,-313.82 220.9,-326.57 231.6,-336 248.19,-350.61 253.94,-353.13 274.6,-361 314.87,-376.35 513.67,-413 549.6,-413 549.6,-413 549.6,-413 701.6,-413 733.98,-413 758.75,-381.8 772.99,-357.89\"/>\n<polygon fill=\"black\" stroke=\"black\" points=\"775.62,-359.29 777.23,-350.43 770.44,-356.35 775.62,-359.29\"/>\n<text text-anchor=\"middle\" x=\"500.6\" y=\"-413.8\" font-family=\"Times,serif\" font-size=\"14.00\">abb</text>\n</g>\n<!-- 2&#45;&gt;2 -->\n<g id=\"edge10\" class=\"edge\">\n<title>2&#45;&gt;2</title>\n<path fill=\"none\" stroke=\"black\" d=\"M182.19,-305.17C180.75,-315.6 183.88,-325 191.6,-325 197.03,-325 200.19,-320.35 201.08,-313.97\"/>\n<polygon fill=\"black\" stroke=\"black\" points=\"204.05,-313.65 201.01,-305.17 198.1,-313.69 204.05,-313.65\"/>\n<text text-anchor=\"middle\" x=\"191.6\" y=\"-328.8\" font-family=\"Times,serif\" font-size=\"14.00\">aaaaaaaa</text>\n</g>\n<!-- 2&#45;&gt;3 -->\n<g id=\"edge11\" class=\"edge\">\n<title>2&#45;&gt;3</title>\n<path fill=\"none\" stroke=\"black\" d=\"M209.55,-272.16C226.12,-259.6 252.07,-239.96 274.6,-223 294.13,-208.3 305.08,-210.36 318.6,-190 336.85,-162.52 315.79,-143.6 336.6,-118 346.25,-106.12 352.68,-106.42 367.6,-103 416.67,-91.75 521.51,-82.12 560.6,-110 582.19,-125.39 591.83,-154.72 596.14,-177.3\"/>\n<polygon fill=\"black\" stroke=\"black\" points=\"593.24,-177.99 597.58,-185.88 599.11,-177 593.24,-177.99\"/>\n<text text-anchor=\"middle\" x=\"389.6\" y=\"-106.8\" font-family=\"Times,serif\" font-size=\"14.00\">ab</text>\n</g>\n<!-- 2&#45;&gt;5 -->\n<g id=\"edge12\" class=\"edge\">\n<title>2&#45;&gt;5</title>\n<path fill=\"none\" stroke=\"black\" d=\"M207.24,-300.49C214.07,-306.84 222.65,-313.69 231.6,-318 272.9,-337.88 326.18,-345.01 358.84,-347.57\"/>\n<polygon fill=\"black\" stroke=\"black\" points=\"358.79,-350.55 367.48,-348.18 359.21,-344.61 358.79,-350.55\"/>\n<text text-anchor=\"middle\" x=\"296.6\" y=\"-345.8\" font-family=\"Times,serif\" font-size=\"14.00\">aa</text>\n</g>\n<!-- 2&#45;&gt;6 -->\n<g id=\"edge13\" class=\"edge\">\n<title>2&#45;&gt;6</title>\n<path fill=\"none\" stroke=\"black\" d=\"M212.95,-278.88C228.33,-274.25 249.64,-267.83 266.77,-262.68\"/>\n<polygon fill=\"black\" stroke=\"black\" points=\"268.01,-265.41 275.29,-260.11 266.29,-259.72 268.01,-265.41\"/>\n<text text-anchor=\"middle\" x=\"244.1\" y=\"-276.8\" font-family=\"Times,serif\" font-size=\"14.00\">aaaa</text>\n</g>\n<!-- 2&#45;&gt;8 -->\n<g id=\"edge14\" class=\"edge\">\n<title>2&#45;&gt;8</title>\n<path fill=\"none\" stroke=\"black\" d=\"M213.6,-288.19C219.42,-288.94 225.74,-289.63 231.6,-290 242.69,-290.71 245.5,-290.45 256.6,-290 325.71,-287.22 342.99,-284.77 411.6,-276 431.2,-273.49 453.15,-270 470.22,-267.14\"/>\n<polygon fill=\"black\" stroke=\"black\" points=\"470.79,-270.06 478.67,-265.7 469.79,-264.2 470.79,-270.06\"/>\n<text text-anchor=\"middle\" x=\"343.1\" y=\"-287.8\" font-family=\"Times,serif\" font-size=\"14.00\">a</text>\n</g>\n<!-- 3&#45;&gt;7 -->\n<g id=\"edge15\" class=\"edge\">\n<title>3&#45;&gt;7</title>\n<path fill=\"none\" stroke=\"black\" d=\"M622.86,-208C636.61,-208 654.69,-208 669.84,-208\"/>\n<polygon fill=\"black\" stroke=\"black\" points=\"669.88,-210.98 678.38,-208 669.88,-205.03 669.88,-210.98\"/>\n<text text-anchor=\"middle\" x=\"650.6\" y=\"-211.8\" font-family=\"Times,serif\" font-size=\"14.00\">bb</text>\n</g>\n<!-- 5&#45;&gt;1 -->\n<g id=\"edge16\" class=\"edge\">\n<title>5&#45;&gt;1</title>\n<path fill=\"none\" stroke=\"black\" d=\"M411.33,-354.5C433.13,-359.79 468.53,-367 499.6,-367 499.6,-367 499.6,-367 701.6,-367 723.08,-367 745.38,-357.13 761.74,-347.72\"/>\n<polygon fill=\"black\" stroke=\"black\" points=\"763.52,-350.12 769.27,-343.19 760.45,-345.02 763.52,-350.12\"/>\n<text text-anchor=\"middle\" x=\"600.6\" y=\"-370.8\" font-family=\"Times,serif\" font-size=\"14.00\">abb</text>\n</g>\n<!-- 5&#45;&gt;3 -->\n<g id=\"edge17\" class=\"edge\">\n<title>5&#45;&gt;3</title>\n<path fill=\"none\" stroke=\"black\" d=\"M411.24,-344.1C425.41,-340.43 444.49,-334.86 460.6,-328 510.51,-306.74 523.84,-297.9 560.6,-258 567.87,-250.11 575.26,-240.98 581.62,-232.7\"/>\n<polygon fill=\"black\" stroke=\"black\" points=\"584.16,-234.27 586.91,-225.69 579.42,-230.68 584.16,-234.27\"/>\n<text text-anchor=\"middle\" x=\"500.6\" y=\"-323.8\" font-family=\"Times,serif\" font-size=\"14.00\">ab</text>\n</g>\n<!-- 5&#45;&gt;8 -->\n<g id=\"edge18\" class=\"edge\">\n<title>5&#45;&gt;8</title>\n<path fill=\"none\" stroke=\"black\" d=\"M406.17,-333.86C413.16,-327.26 421.62,-319.55 429.6,-313 433.91,-309.46 456.72,-292.91 475.15,-279.6\"/>\n<polygon fill=\"black\" stroke=\"black\" points=\"477.04,-281.9 482.2,-274.52 473.56,-277.08 477.04,-281.9\"/>\n<text text-anchor=\"middle\" x=\"445.1\" y=\"-316.8\" font-family=\"Times,serif\" font-size=\"14.00\">a</text>\n</g>\n<!-- 6&#45;&gt;1 -->\n<g id=\"edge19\" class=\"edge\">\n<title>6&#45;&gt;1</title>\n<path fill=\"none\" stroke=\"black\" d=\"M308.94,-235.74C330.37,-201.7 375.82,-132 388.6,-132 388.6,-132 388.6,-132 701.6,-132 773.84,-132 785.51,-244.28 786.85,-300.16\"/>\n<polygon fill=\"black\" stroke=\"black\" points=\"783.88,-300.49 786.99,-308.94 789.83,-300.39 783.88,-300.49\"/>\n<text text-anchor=\"middle\" x=\"550.6\" y=\"-135.8\" font-family=\"Times,serif\" font-size=\"14.00\">abb</text>\n</g>\n<!-- 6&#45;&gt;3 -->\n<g id=\"edge20\" class=\"edge\">\n<title>6&#45;&gt;3</title>\n<path fill=\"none\" stroke=\"black\" d=\"M318.84,-250.77C371.71,-242.71 509.33,-221.75 570.06,-212.5\"/>\n<polygon fill=\"black\" stroke=\"black\" points=\"570.84,-215.39 578.79,-211.17 569.94,-209.51 570.84,-215.39\"/>\n<text text-anchor=\"middle\" x=\"445.1\" y=\"-236.8\" font-family=\"Times,serif\" font-size=\"14.00\">ab</text>\n</g>\n<!-- 6&#45;&gt;5 -->\n<g id=\"edge21\" class=\"edge\">\n<title>6&#45;&gt;5</title>\n<path fill=\"none\" stroke=\"black\" d=\"M318.72,-255.12C328.99,-256.63 340.96,-259.93 349.6,-267 365.74,-280.21 375.62,-301.68 381.39,-319.34\"/>\n<polygon fill=\"black\" stroke=\"black\" points=\"378.59,-320.37 383.91,-327.64 384.29,-318.64 378.59,-320.37\"/>\n<text text-anchor=\"middle\" x=\"343.1\" y=\"-270.8\" font-family=\"Times,serif\" font-size=\"14.00\">aa</text>\n</g>\n<!-- 6&#45;&gt;8 -->\n<g id=\"edge22\" class=\"edge\">\n<title>6&#45;&gt;8</title>\n<path fill=\"none\" stroke=\"black\" d=\"M318.86,-254.28C328.28,-254.43 339.49,-254.67 349.6,-255 391.16,-256.37 439.16,-258.75 469.44,-260.35\"/>\n<polygon fill=\"black\" stroke=\"black\" points=\"469.6,-263.34 478.25,-260.82 469.92,-257.4 469.6,-263.34\"/>\n<text text-anchor=\"middle\" x=\"389.6\" y=\"-260.8\" font-family=\"Times,serif\" font-size=\"14.00\">a</text>\n</g>\n<!-- 7&#45;&gt;1 -->\n<g id=\"edge23\" class=\"edge\">\n<title>7&#45;&gt;1</title>\n<path fill=\"none\" stroke=\"black\" d=\"M715.48,-224.31C724.93,-235.7 737.51,-251.42 747.6,-266 756.14,-278.34 764.81,-292.58 771.8,-304.58\"/>\n<polygon fill=\"black\" stroke=\"black\" points=\"769.31,-306.22 776.13,-312.1 774.47,-303.25 769.31,-306.22\"/>\n<text text-anchor=\"middle\" x=\"744.1\" y=\"-269.8\" font-family=\"Times,serif\" font-size=\"14.00\">b</text>\n</g>\n<!-- 7&#45;&gt;7 -->\n<g id=\"edge24\" class=\"edge\">\n<title>7&#45;&gt;7</title>\n<path fill=\"none\" stroke=\"black\" d=\"M692.92,-228.99C691.97,-239.09 694.53,-248 700.6,-248 704.77,-248 707.29,-243.79 708.14,-237.87\"/>\n<polygon fill=\"black\" stroke=\"black\" points=\"711.12,-237.54 708.28,-228.99 705.17,-237.44 711.12,-237.54\"/>\n<text text-anchor=\"middle\" x=\"700.6\" y=\"-251.8\" font-family=\"Times,serif\" font-size=\"14.00\">bb</text>\n</g>\n<!-- 8&#45;&gt;1 -->\n<g id=\"edge25\" class=\"edge\">\n<title>8&#45;&gt;1</title>\n<path fill=\"none\" stroke=\"black\" d=\"M522.1,-266.96C571.99,-279.04 699.9,-310.01 757.6,-323.98\"/>\n<polygon fill=\"black\" stroke=\"black\" points=\"756.95,-326.88 765.91,-325.99 758.35,-321.1 756.95,-326.88\"/>\n<text text-anchor=\"middle\" x=\"650.6\" y=\"-303.8\" font-family=\"Times,serif\" font-size=\"14.00\">abb</text>\n</g>\n<!-- 8&#45;&gt;3 -->\n<g id=\"edge26\" class=\"edge\">\n<title>8&#45;&gt;3</title>\n<path fill=\"none\" stroke=\"black\" d=\"M520.5,-251.59C535.5,-243.32 556.67,-231.66 573.32,-222.48\"/>\n<polygon fill=\"black\" stroke=\"black\" points=\"575.08,-224.91 581.09,-218.2 572.21,-219.7 575.08,-224.91\"/>\n<text text-anchor=\"middle\" x=\"550.6\" y=\"-242.8\" font-family=\"Times,serif\" font-size=\"14.00\">ab</text>\n</g>\n</g>\n</svg>\n",
            "text/plain": [
              "<AGraph <Swig Object of type 'Agraph_t *' at 0x7a2ec07fdce0>>"
            ]
          },
          "metadata": {},
          "execution_count": 47
        }
      ]
    },
    {
      "cell_type": "code",
      "source": [
        "pattern = \"(a|b){6}\"\n",
        "check_pattern(pattern).show_diagram()"
      ],
      "metadata": {
        "colab": {
          "base_uri": "https://localhost:8080/",
          "height": 929
        },
        "id": "pYbv_cY5w_gy",
        "outputId": "6b54f517-034b-4736-8479-1468e74a2a15"
      },
      "execution_count": null,
      "outputs": [
        {
          "output_type": "execute_result",
          "data": {
            "image/svg+xml": "<?xml version=\"1.0\" encoding=\"UTF-8\" standalone=\"no\"?>\n<!DOCTYPE svg PUBLIC \"-//W3C//DTD SVG 1.1//EN\"\n \"http://www.w3.org/Graphics/SVG/1.1/DTD/svg11.dtd\">\n<!-- Generated by graphviz version 2.43.0 (0)\n -->\n<!-- Pages: 1 -->\n<svg width=\"528pt\" height=\"681pt\"\n viewBox=\"0.00 0.00 527.60 681.22\" xmlns=\"http://www.w3.org/2000/svg\" xmlns:xlink=\"http://www.w3.org/1999/xlink\">\n<g id=\"graph0\" class=\"graph\" transform=\"scale(1 1) rotate(0) translate(4 677.22)\">\n<polygon fill=\"white\" stroke=\"transparent\" points=\"-4,4 -4,-677.22 523.6,-677.22 523.6,4 -4,4\"/>\n<!-- b074f8c3&#45;3d3d&#45;4b59&#45;8c01&#45;bcb2f5502f16 -->\n<g id=\"node1\" class=\"node\">\n<title>b074f8c3&#45;3d3d&#45;4b59&#45;8c01&#45;bcb2f5502f16</title>\n<g id=\"a_node1\"><a xlink:title=\".\">\n<ellipse fill=\"black\" stroke=\"black\" cx=\"1.8\" cy=\"-329.22\" rx=\"1.8\" ry=\"1.8\"/>\n</a>\n</g>\n</g>\n<!-- 12 -->\n<g id=\"node2\" class=\"node\">\n<title>12</title>\n<ellipse fill=\"none\" stroke=\"black\" cx=\"60.1\" cy=\"-329.22\" rx=\"19.5\" ry=\"19.5\"/>\n<text text-anchor=\"middle\" x=\"60.1\" y=\"-325.52\" font-family=\"Times,serif\" font-size=\"14.00\">12</text>\n</g>\n<!-- b074f8c3&#45;3d3d&#45;4b59&#45;8c01&#45;bcb2f5502f16&#45;&gt;12 -->\n<g id=\"edge1\" class=\"edge\">\n<title>b074f8c3&#45;3d3d&#45;4b59&#45;8c01&#45;bcb2f5502f16&#45;&gt;12</title>\n<g id=\"a_edge1\"><a xlink:title=\"&#45;&gt;12\">\n<path fill=\"none\" stroke=\"black\" d=\"M3.78,-329.22C7.28,-329.22 19.64,-329.22 31.78,-329.22\"/>\n<polygon fill=\"black\" stroke=\"black\" points=\"31.96,-332.2 40.46,-329.22 31.96,-326.25 31.96,-332.2\"/>\n</a>\n</g>\n</g>\n<!-- 4 -->\n<g id=\"node3\" class=\"node\">\n<title>4</title>\n<ellipse fill=\"none\" stroke=\"black\" cx=\"272.6\" cy=\"-653.22\" rx=\"18\" ry=\"18\"/>\n<text text-anchor=\"middle\" x=\"272.6\" y=\"-649.52\" font-family=\"Times,serif\" font-size=\"14.00\">4</text>\n</g>\n<!-- 12&#45;&gt;4 -->\n<g id=\"edge2\" class=\"edge\">\n<title>12&#45;&gt;4</title>\n<path fill=\"none\" stroke=\"black\" d=\"M61.63,-348.95C64.48,-408.96 82.32,-589.28 193.6,-656.22 209.47,-665.77 230.63,-664.26 246.9,-660.79\"/>\n<polygon fill=\"black\" stroke=\"black\" points=\"247.83,-663.63 255.38,-658.71 246.42,-657.85 247.83,-663.63\"/>\n<text text-anchor=\"middle\" x=\"154.1\" y=\"-645.02\" font-family=\"Times,serif\" font-size=\"14.00\">aaaa</text>\n</g>\n<!-- 5 -->\n<g id=\"node4\" class=\"node\">\n<title>5</title>\n<ellipse fill=\"none\" stroke=\"black\" cx=\"272.6\" cy=\"-210.22\" rx=\"18\" ry=\"18\"/>\n<text text-anchor=\"middle\" x=\"272.6\" y=\"-206.52\" font-family=\"Times,serif\" font-size=\"14.00\">5</text>\n</g>\n<!-- 12&#45;&gt;5 -->\n<g id=\"edge3\" class=\"edge\">\n<title>12&#45;&gt;5</title>\n<path fill=\"none\" stroke=\"black\" d=\"M61.86,-309.49C64.56,-265.29 76.83,-157.06 132.6,-91.22 152.12,-68.17 164.17,-68.07 193.6,-61.22 212.21,-56.89 221.62,-49.35 236.6,-61.22 246.23,-68.85 260.22,-143.27 267.24,-183.96\"/>\n<polygon fill=\"black\" stroke=\"black\" points=\"264.35,-184.69 268.7,-192.57 270.21,-183.69 264.35,-184.69\"/>\n<text text-anchor=\"middle\" x=\"154.1\" y=\"-95.02\" font-family=\"Times,serif\" font-size=\"14.00\">aba,abb</text>\n</g>\n<!-- 8 -->\n<g id=\"node5\" class=\"node\">\n<title>8</title>\n<ellipse fill=\"none\" stroke=\"black\" cx=\"154.1\" cy=\"-514.22\" rx=\"18\" ry=\"18\"/>\n<text text-anchor=\"middle\" x=\"154.1\" y=\"-510.52\" font-family=\"Times,serif\" font-size=\"14.00\">8</text>\n</g>\n<!-- 12&#45;&gt;8 -->\n<g id=\"edge4\" class=\"edge\">\n<title>12&#45;&gt;8</title>\n<path fill=\"none\" stroke=\"black\" d=\"M69.59,-346.29C86.09,-379.47 122.51,-452.72 141.33,-490.56\"/>\n<polygon fill=\"black\" stroke=\"black\" points=\"138.83,-492.22 145.28,-498.51 144.16,-489.58 138.83,-492.22\"/>\n<text text-anchor=\"middle\" x=\"106.1\" y=\"-436.02\" font-family=\"Times,serif\" font-size=\"14.00\">ab</text>\n</g>\n<!-- 10 -->\n<g id=\"node6\" class=\"node\">\n<title>10</title>\n<ellipse fill=\"none\" stroke=\"black\" cx=\"154.1\" cy=\"-248.22\" rx=\"19.5\" ry=\"19.5\"/>\n<text text-anchor=\"middle\" x=\"154.1\" y=\"-244.52\" font-family=\"Times,serif\" font-size=\"14.00\">10</text>\n</g>\n<!-- 12&#45;&gt;10 -->\n<g id=\"edge5\" class=\"edge\">\n<title>12&#45;&gt;10</title>\n<path fill=\"none\" stroke=\"black\" d=\"M75.47,-316.56C90.73,-303.13 114.99,-281.77 132.32,-266.51\"/>\n<polygon fill=\"black\" stroke=\"black\" points=\"134.4,-268.64 138.82,-260.79 130.47,-264.17 134.4,-268.64\"/>\n<text text-anchor=\"middle\" x=\"106.1\" y=\"-299.02\" font-family=\"Times,serif\" font-size=\"14.00\">ba</text>\n</g>\n<!-- 11 -->\n<g id=\"node7\" class=\"node\">\n<title>11</title>\n<ellipse fill=\"none\" stroke=\"black\" cx=\"154.1\" cy=\"-329.22\" rx=\"19.5\" ry=\"19.5\"/>\n<text text-anchor=\"middle\" x=\"154.1\" y=\"-325.52\" font-family=\"Times,serif\" font-size=\"14.00\">11</text>\n</g>\n<!-- 12&#45;&gt;11 -->\n<g id=\"edge6\" class=\"edge\">\n<title>12&#45;&gt;11</title>\n<path fill=\"none\" stroke=\"black\" d=\"M79.72,-329.22C92.93,-329.22 110.89,-329.22 125.74,-329.22\"/>\n<polygon fill=\"black\" stroke=\"black\" points=\"126.01,-332.2 134.51,-329.22 126.01,-326.25 126.01,-332.2\"/>\n<text text-anchor=\"middle\" x=\"106.1\" y=\"-333.02\" font-family=\"Times,serif\" font-size=\"14.00\">aa</text>\n</g>\n<!-- 13 -->\n<g id=\"node8\" class=\"node\">\n<title>13</title>\n<ellipse fill=\"none\" stroke=\"black\" cx=\"154.1\" cy=\"-426.22\" rx=\"19.5\" ry=\"19.5\"/>\n<text text-anchor=\"middle\" x=\"154.1\" y=\"-422.52\" font-family=\"Times,serif\" font-size=\"14.00\">13</text>\n</g>\n<!-- 12&#45;&gt;13 -->\n<g id=\"edge7\" class=\"edge\">\n<title>12&#45;&gt;13</title>\n<path fill=\"none\" stroke=\"black\" d=\"M74.28,-343.12C89.86,-359.54 115.91,-387.01 133.77,-405.84\"/>\n<polygon fill=\"black\" stroke=\"black\" points=\"131.93,-408.23 139.94,-412.35 136.25,-404.14 131.93,-408.23\"/>\n<text text-anchor=\"middle\" x=\"106.1\" y=\"-387.02\" font-family=\"Times,serif\" font-size=\"14.00\">bb</text>\n</g>\n<!-- 14 -->\n<g id=\"node9\" class=\"node\">\n<title>14</title>\n<ellipse fill=\"none\" stroke=\"black\" cx=\"154.1\" cy=\"-134.22\" rx=\"19.5\" ry=\"19.5\"/>\n<text text-anchor=\"middle\" x=\"154.1\" y=\"-130.52\" font-family=\"Times,serif\" font-size=\"14.00\">14</text>\n</g>\n<!-- 12&#45;&gt;14 -->\n<g id=\"edge8\" class=\"edge\">\n<title>12&#45;&gt;14</title>\n<path fill=\"none\" stroke=\"black\" d=\"M69.26,-311.91C85.6,-277.29 122.35,-199.39 141.3,-159.22\"/>\n<polygon fill=\"black\" stroke=\"black\" points=\"144.01,-160.45 144.95,-151.49 138.63,-157.91 144.01,-160.45\"/>\n<text text-anchor=\"middle\" x=\"106.1\" y=\"-252.02\" font-family=\"Times,serif\" font-size=\"14.00\">a,b</text>\n</g>\n<!-- 1 -->\n<g id=\"node10\" class=\"node\">\n<title>1</title>\n<ellipse fill=\"none\" stroke=\"black\" cx=\"493.6\" cy=\"-239.22\" rx=\"22\" ry=\"22\"/>\n<ellipse fill=\"none\" stroke=\"black\" cx=\"493.6\" cy=\"-239.22\" rx=\"26\" ry=\"26\"/>\n<text text-anchor=\"middle\" x=\"493.6\" y=\"-235.52\" font-family=\"Times,serif\" font-size=\"14.00\">1</text>\n</g>\n<!-- 4&#45;&gt;1 -->\n<g id=\"edge9\" class=\"edge\">\n<title>4&#45;&gt;1</title>\n<path fill=\"none\" stroke=\"black\" d=\"M290.54,-656.13C326.54,-661.23 410.84,-667.28 453.6,-621.22 477.36,-595.62 488.35,-355.9 491.56,-269.82\"/>\n<polygon fill=\"black\" stroke=\"black\" points=\"494.53,-269.87 491.87,-261.27 488.59,-269.66 494.53,-269.87\"/>\n<text text-anchor=\"middle\" x=\"387.1\" y=\"-662.02\" font-family=\"Times,serif\" font-size=\"14.00\">aa,ab</text>\n</g>\n<!-- 5&#45;&gt;1 -->\n<g id=\"edge10\" class=\"edge\">\n<title>5&#45;&gt;1</title>\n<path fill=\"none\" stroke=\"black\" d=\"M290.57,-212.42C317.64,-215.94 372.29,-223.06 418.6,-229.22 433.25,-231.17 449.53,-233.37 463.08,-235.2\"/>\n<polygon fill=\"black\" stroke=\"black\" points=\"462.73,-238.16 471.55,-236.35 463.53,-232.26 462.73,-238.16\"/>\n<text text-anchor=\"middle\" x=\"387.1\" y=\"-233.02\" font-family=\"Times,serif\" font-size=\"14.00\">aba,abb</text>\n</g>\n<!-- 8&#45;&gt;4 -->\n<g id=\"edge11\" class=\"edge\">\n<title>8&#45;&gt;4</title>\n<path fill=\"none\" stroke=\"black\" d=\"M157.44,-532.25C161.26,-554.95 170.85,-593.89 193.6,-618.22 201.31,-626.47 227.44,-637.29 247.35,-644.7\"/>\n<polygon fill=\"black\" stroke=\"black\" points=\"246.43,-647.53 255.43,-647.65 248.47,-641.94 246.43,-647.53\"/>\n<text text-anchor=\"middle\" x=\"215.1\" y=\"-643.02\" font-family=\"Times,serif\" font-size=\"14.00\">ba</text>\n</g>\n<!-- 8&#45;&gt;1 -->\n<g id=\"edge12\" class=\"edge\">\n<title>8&#45;&gt;1</title>\n<path fill=\"none\" stroke=\"black\" d=\"M158.14,-532.01C162.43,-550.91 172.25,-579.88 193.6,-593.22 209.8,-603.35 218.68,-599.87 236.6,-593.22 375.16,-541.77 397.57,-477.99 453.6,-341.22 463.7,-316.55 474.47,-288.2 482.13,-267.67\"/>\n<polygon fill=\"black\" stroke=\"black\" points=\"484.94,-268.66 485.11,-259.65 479.36,-266.58 484.94,-268.66\"/>\n<text text-anchor=\"middle\" x=\"323.1\" y=\"-562.02\" font-family=\"Times,serif\" font-size=\"14.00\">aaaa</text>\n</g>\n<!-- 2 -->\n<g id=\"node11\" class=\"node\">\n<title>2</title>\n<ellipse fill=\"none\" stroke=\"black\" cx=\"272.6\" cy=\"-400.22\" rx=\"18\" ry=\"18\"/>\n<text text-anchor=\"middle\" x=\"272.6\" y=\"-396.52\" font-family=\"Times,serif\" font-size=\"14.00\">2</text>\n</g>\n<!-- 8&#45;&gt;2 -->\n<g id=\"edge13\" class=\"edge\">\n<title>8&#45;&gt;2</title>\n<path fill=\"none\" stroke=\"black\" d=\"M172.2,-513.99C190.34,-512.84 218.77,-508.35 236.6,-492.22 255.25,-475.34 264.03,-447.45 268.11,-426.8\"/>\n<polygon fill=\"black\" stroke=\"black\" points=\"271.09,-427.05 269.64,-418.16 265.23,-426.01 271.09,-427.05\"/>\n<text text-anchor=\"middle\" x=\"215.1\" y=\"-515.02\" font-family=\"Times,serif\" font-size=\"14.00\">ab,bb</text>\n</g>\n<!-- 7 -->\n<g id=\"node12\" class=\"node\">\n<title>7</title>\n<ellipse fill=\"none\" stroke=\"black\" cx=\"272.6\" cy=\"-265.22\" rx=\"18\" ry=\"18\"/>\n<text text-anchor=\"middle\" x=\"272.6\" y=\"-261.52\" font-family=\"Times,serif\" font-size=\"14.00\">7</text>\n</g>\n<!-- 8&#45;&gt;7 -->\n<g id=\"edge14\" class=\"edge\">\n<title>8&#45;&gt;7</title>\n<path fill=\"none\" stroke=\"black\" d=\"M166.63,-500.67C173.98,-492.36 183.91,-481.73 193.6,-473.22 211.3,-457.67 223.87,-462.05 236.6,-442.22 244.65,-429.68 260.07,-337.96 267.46,-291.72\"/>\n<polygon fill=\"black\" stroke=\"black\" points=\"270.43,-291.98 268.82,-283.12 264.55,-291.05 270.43,-291.98\"/>\n<text text-anchor=\"middle\" x=\"215.1\" y=\"-477.02\" font-family=\"Times,serif\" font-size=\"14.00\">aa</text>\n</g>\n<!-- 10&#45;&gt;5 -->\n<g id=\"edge15\" class=\"edge\">\n<title>10&#45;&gt;5</title>\n<path fill=\"none\" stroke=\"black\" d=\"M158.94,-229.3C163.69,-211.34 173.74,-185.35 193.6,-173.22 209.91,-163.26 219.04,-165.66 236.6,-173.22 244.35,-176.56 251.19,-182.55 256.72,-188.76\"/>\n<polygon fill=\"black\" stroke=\"black\" points=\"254.5,-190.75 262.18,-195.46 259.12,-186.99 254.5,-190.75\"/>\n<text text-anchor=\"middle\" x=\"215.1\" y=\"-177.02\" font-family=\"Times,serif\" font-size=\"14.00\">a</text>\n</g>\n<!-- 10&#45;&gt;1 -->\n<g id=\"edge16\" class=\"edge\">\n<title>10&#45;&gt;1</title>\n<path fill=\"none\" stroke=\"black\" d=\"M159.85,-229.37C168.15,-197.15 185.22,-134.33 193.6,-128.22 239.39,-94.82 403.19,-185.84 466.94,-223.63\"/>\n<polygon fill=\"black\" stroke=\"black\" points=\"465.74,-226.38 474.56,-228.18 468.79,-221.27 465.74,-226.38\"/>\n<text text-anchor=\"middle\" x=\"323.1\" y=\"-159.02\" font-family=\"Times,serif\" font-size=\"14.00\">aaaa</text>\n</g>\n<!-- 10&#45;&gt;2 -->\n<g id=\"edge17\" class=\"edge\">\n<title>10&#45;&gt;2</title>\n<path fill=\"none\" stroke=\"black\" d=\"M164.49,-265.37C171.41,-276.85 181.66,-291.73 193.6,-302.22 209.87,-316.53 221.69,-309.48 236.6,-325.22 249.77,-339.13 258.71,-358.89 264.26,-374.64\"/>\n<polygon fill=\"black\" stroke=\"black\" points=\"261.5,-375.78 267,-382.91 267.15,-373.91 261.5,-375.78\"/>\n<text text-anchor=\"middle\" x=\"215.1\" y=\"-329.02\" font-family=\"Times,serif\" font-size=\"14.00\">ab</text>\n</g>\n<!-- 10&#45;&gt;7 -->\n<g id=\"edge18\" class=\"edge\">\n<title>10&#45;&gt;7</title>\n<path fill=\"none\" stroke=\"black\" d=\"M173.8,-246.27C190.49,-245.05 215.47,-244.48 236.6,-249.22 240.52,-250.1 244.53,-251.45 248.37,-253\"/>\n<polygon fill=\"black\" stroke=\"black\" points=\"247.43,-255.84 256.4,-256.6 249.86,-250.41 247.43,-255.84\"/>\n<text text-anchor=\"middle\" x=\"215.1\" y=\"-253.02\" font-family=\"Times,serif\" font-size=\"14.00\">aa</text>\n</g>\n<!-- 11&#45;&gt;5 -->\n<g id=\"edge19\" class=\"edge\">\n<title>11&#45;&gt;5</title>\n<path fill=\"none\" stroke=\"black\" d=\"M162.22,-311.11C166.21,-300.89 171.25,-287.86 175.6,-276.22 183.86,-254.09 175.74,-241.68 193.6,-226.22 207.88,-213.85 229.15,-210.13 245.87,-209.34\"/>\n<polygon fill=\"black\" stroke=\"black\" points=\"246.18,-212.31 254.62,-209.18 246.07,-206.36 246.18,-212.31\"/>\n<text text-anchor=\"middle\" x=\"215.1\" y=\"-230.02\" font-family=\"Times,serif\" font-size=\"14.00\">a</text>\n</g>\n<!-- 11&#45;&gt;2 -->\n<g id=\"edge20\" class=\"edge\">\n<title>11&#45;&gt;2</title>\n<path fill=\"none\" stroke=\"black\" d=\"M164.48,-346.03C171.27,-356.72 181.37,-370.03 193.6,-378.22 209.28,-388.72 229.95,-394.26 246.07,-397.15\"/>\n<polygon fill=\"black\" stroke=\"black\" points=\"245.63,-400.09 254.49,-398.5 246.57,-394.22 245.63,-400.09\"/>\n<text text-anchor=\"middle\" x=\"215.1\" y=\"-398.02\" font-family=\"Times,serif\" font-size=\"14.00\">ab</text>\n</g>\n<!-- 13&#45;&gt;4 -->\n<g id=\"edge21\" class=\"edge\">\n<title>13&#45;&gt;4</title>\n<path fill=\"none\" stroke=\"black\" d=\"M161.51,-444.27C165.72,-456.36 171.23,-472.67 175.6,-487.22 184.58,-517.16 178.16,-528.03 193.6,-555.22 207.1,-579 219.52,-577.86 236.6,-599.22 244.41,-609 252.09,-620.56 258.26,-630.47\"/>\n<polygon fill=\"black\" stroke=\"black\" points=\"255.89,-632.29 262.85,-638 260.97,-629.2 255.89,-632.29\"/>\n<text text-anchor=\"middle\" x=\"215.1\" y=\"-603.02\" font-family=\"Times,serif\" font-size=\"14.00\">ba</text>\n</g>\n<!-- 13&#45;&gt;5 -->\n<g id=\"edge22\" class=\"edge\">\n<title>13&#45;&gt;5</title>\n<path fill=\"none\" stroke=\"black\" d=\"M160.83,-407.84C165.09,-393.98 170.94,-374.47 175.6,-357.22 184.42,-324.54 171.88,-309.18 193.6,-283.22 207,-267.19 220.7,-277.77 236.6,-264.22 239.52,-261.73 249.4,-246.33 257.93,-232.61\"/>\n<polygon fill=\"black\" stroke=\"black\" points=\"260.54,-234.05 262.47,-225.25 255.48,-230.92 260.54,-234.05\"/>\n<text text-anchor=\"middle\" x=\"215.1\" y=\"-287.02\" font-family=\"Times,serif\" font-size=\"14.00\">a,b</text>\n</g>\n<!-- 13&#45;&gt;1 -->\n<g id=\"edge23\" class=\"edge\">\n<title>13&#45;&gt;1</title>\n<path fill=\"none\" stroke=\"black\" d=\"M161.33,-444.72C171.26,-473.92 189.92,-527.66 193.6,-530.22 209.28,-541.14 218.85,-537.31 236.6,-530.22 362.18,-480.06 448.36,-329.3 479.61,-266.82\"/>\n<polygon fill=\"black\" stroke=\"black\" points=\"482.4,-267.89 483.48,-258.95 477.06,-265.27 482.4,-267.89\"/>\n<text text-anchor=\"middle\" x=\"323.1\" y=\"-491.02\" font-family=\"Times,serif\" font-size=\"14.00\">aaaa</text>\n</g>\n<!-- 13&#45;&gt;2 -->\n<g id=\"edge24\" class=\"edge\">\n<title>13&#45;&gt;2</title>\n<path fill=\"none\" stroke=\"black\" d=\"M173.87,-425.55C190.6,-424.56 215.61,-422.15 236.6,-416.22 240.46,-415.13 244.44,-413.66 248.27,-412.07\"/>\n<polygon fill=\"black\" stroke=\"black\" points=\"249.78,-414.65 256.3,-408.44 247.33,-409.23 249.78,-414.65\"/>\n<text text-anchor=\"middle\" x=\"215.1\" y=\"-427.02\" font-family=\"Times,serif\" font-size=\"14.00\">ab,bb</text>\n</g>\n<!-- 13&#45;&gt;7 -->\n<g id=\"edge25\" class=\"edge\">\n<title>13&#45;&gt;7</title>\n<path fill=\"none\" stroke=\"black\" d=\"M161.74,-408.19C167.99,-393.37 178.64,-372.68 193.6,-359.22 209.13,-345.24 221.67,-354.84 236.6,-340.22 250.37,-326.73 259.32,-306.78 264.72,-290.85\"/>\n<polygon fill=\"black\" stroke=\"black\" points=\"267.64,-291.48 267.36,-282.48 261.97,-289.69 267.64,-291.48\"/>\n<text text-anchor=\"middle\" x=\"215.1\" y=\"-363.02\" font-family=\"Times,serif\" font-size=\"14.00\">aa</text>\n</g>\n<!-- 14&#45;&gt;7 -->\n<g id=\"edge26\" class=\"edge\">\n<title>14&#45;&gt;7</title>\n<path fill=\"none\" stroke=\"black\" d=\"M173.59,-131.92C192.05,-130.73 220.01,-132.12 236.6,-148.22 265.55,-176.33 239.91,-199.63 254.6,-237.22 255.39,-239.26 256.34,-241.32 257.36,-243.34\"/>\n<polygon fill=\"black\" stroke=\"black\" points=\"254.84,-244.94 261.6,-250.89 260.03,-242.02 254.84,-244.94\"/>\n<text text-anchor=\"middle\" x=\"215.1\" y=\"-152.02\" font-family=\"Times,serif\" font-size=\"14.00\">aba,abb</text>\n</g>\n<!-- 9 -->\n<g id=\"node13\" class=\"node\">\n<title>9</title>\n<ellipse fill=\"none\" stroke=\"black\" cx=\"272.6\" cy=\"-71.22\" rx=\"18\" ry=\"18\"/>\n<text text-anchor=\"middle\" x=\"272.6\" y=\"-67.52\" font-family=\"Times,serif\" font-size=\"14.00\">9</text>\n</g>\n<!-- 14&#45;&gt;9 -->\n<g id=\"edge27\" class=\"edge\">\n<title>14&#45;&gt;9</title>\n<path fill=\"none\" stroke=\"black\" d=\"M160.92,-115.94C166.67,-101.25 177.05,-81.56 193.6,-72.22 209.52,-63.23 230.34,-63.45 246.46,-65.66\"/>\n<polygon fill=\"black\" stroke=\"black\" points=\"246.01,-68.6 254.88,-67.04 246.98,-62.73 246.01,-68.6\"/>\n<text text-anchor=\"middle\" x=\"215.1\" y=\"-76.02\" font-family=\"Times,serif\" font-size=\"14.00\">ab</text>\n</g>\n<!-- 2&#45;&gt;1 -->\n<g id=\"edge28\" class=\"edge\">\n<title>2&#45;&gt;1</title>\n<path fill=\"none\" stroke=\"black\" d=\"M287.63,-389.9C324.19,-363.02 422.71,-290.59 468.54,-256.9\"/>\n<polygon fill=\"black\" stroke=\"black\" points=\"470.34,-259.27 475.43,-251.84 466.82,-254.48 470.34,-259.27\"/>\n<text text-anchor=\"middle\" x=\"387.1\" y=\"-342.02\" font-family=\"Times,serif\" font-size=\"14.00\">aa,ab,ba,bb</text>\n</g>\n<!-- 7&#45;&gt;1 -->\n<g id=\"edge29\" class=\"edge\">\n<title>7&#45;&gt;1</title>\n<path fill=\"none\" stroke=\"black\" d=\"M290.78,-263.18C328.03,-258.76 416.57,-248.25 463.01,-242.73\"/>\n<polygon fill=\"black\" stroke=\"black\" points=\"463.62,-245.66 471.71,-241.7 462.92,-239.75 463.62,-245.66\"/>\n<text text-anchor=\"middle\" x=\"387.1\" y=\"-259.02\" font-family=\"Times,serif\" font-size=\"14.00\">ab</text>\n</g>\n<!-- 9&#45;&gt;1 -->\n<g id=\"edge30\" class=\"edge\">\n<title>9&#45;&gt;1</title>\n<path fill=\"none\" stroke=\"black\" d=\"M287.27,-59.97C314.06,-39.36 374.7,0 418.6,-26.22 481.08,-63.55 491.84,-159.01 493.04,-208.47\"/>\n<polygon fill=\"black\" stroke=\"black\" points=\"490.07,-208.7 493.17,-217.15 496.02,-208.61 490.07,-208.7\"/>\n<text text-anchor=\"middle\" x=\"387.1\" y=\"-30.02\" font-family=\"Times,serif\" font-size=\"14.00\">aba,abb</text>\n</g>\n<!-- 3 -->\n<g id=\"node14\" class=\"node\">\n<title>3</title>\n<ellipse fill=\"none\" stroke=\"black\" cx=\"387.1\" cy=\"-122.22\" rx=\"18\" ry=\"18\"/>\n<text text-anchor=\"middle\" x=\"387.1\" y=\"-118.52\" font-family=\"Times,serif\" font-size=\"14.00\">3</text>\n</g>\n<!-- 9&#45;&gt;3 -->\n<g id=\"edge31\" class=\"edge\">\n<title>9&#45;&gt;3</title>\n<path fill=\"none\" stroke=\"black\" d=\"M288.75,-79.9C294.84,-83.27 301.98,-87.07 308.6,-90.22 326.12,-98.56 346.41,-106.9 361.83,-112.97\"/>\n<polygon fill=\"black\" stroke=\"black\" points=\"360.85,-115.78 369.85,-116.09 363.01,-110.23 360.85,-115.78\"/>\n<text text-anchor=\"middle\" x=\"323.1\" y=\"-107.02\" font-family=\"Times,serif\" font-size=\"14.00\">aa,ba</text>\n</g>\n<!-- 6 -->\n<g id=\"node15\" class=\"node\">\n<title>6</title>\n<ellipse fill=\"none\" stroke=\"black\" cx=\"387.1\" cy=\"-68.22\" rx=\"18\" ry=\"18\"/>\n<text text-anchor=\"middle\" x=\"387.1\" y=\"-64.52\" font-family=\"Times,serif\" font-size=\"14.00\">6</text>\n</g>\n<!-- 9&#45;&gt;6 -->\n<g id=\"edge32\" class=\"edge\">\n<title>9&#45;&gt;6</title>\n<path fill=\"none\" stroke=\"black\" d=\"M290.68,-70.77C309.18,-70.27 338.91,-69.48 360.27,-68.91\"/>\n<polygon fill=\"black\" stroke=\"black\" points=\"360.43,-71.88 368.85,-68.68 360.27,-65.93 360.43,-71.88\"/>\n<text text-anchor=\"middle\" x=\"323.1\" y=\"-75.02\" font-family=\"Times,serif\" font-size=\"14.00\">bb</text>\n</g>\n<!-- 3&#45;&gt;1 -->\n<g id=\"edge33\" class=\"edge\">\n<title>3&#45;&gt;1</title>\n<path fill=\"none\" stroke=\"black\" d=\"M405.13,-122.48C419.66,-123.59 440.25,-127.36 453.6,-139.22 473.64,-157.03 483.47,-186.41 488.24,-208.73\"/>\n<polygon fill=\"black\" stroke=\"black\" points=\"485.34,-209.43 489.89,-217.2 491.18,-208.29 485.34,-209.43\"/>\n<text text-anchor=\"middle\" x=\"445.1\" y=\"-143.02\" font-family=\"Times,serif\" font-size=\"14.00\">a</text>\n</g>\n<!-- 6&#45;&gt;1 -->\n<g id=\"edge34\" class=\"edge\">\n<title>6&#45;&gt;1</title>\n<path fill=\"none\" stroke=\"black\" d=\"M403.88,-74.74C418.78,-81.67 440.71,-94.02 453.6,-111.22 475.21,-140.08 484.95,-180.99 489.27,-208.74\"/>\n<polygon fill=\"black\" stroke=\"black\" points=\"486.34,-209.26 490.49,-217.25 492.23,-208.42 486.34,-209.26\"/>\n<text text-anchor=\"middle\" x=\"445.1\" y=\"-115.02\" font-family=\"Times,serif\" font-size=\"14.00\">a,b</text>\n</g>\n</g>\n</svg>\n",
            "text/plain": [
              "<AGraph <Swig Object of type 'Agraph_t *' at 0x7a2ec970ee80>>"
            ]
          },
          "metadata": {},
          "execution_count": 48
        }
      ]
    },
    {
      "cell_type": "code",
      "source": [
        "pattern = \".\"\n",
        "check_pattern(pattern).show_diagram()"
      ],
      "metadata": {
        "colab": {
          "base_uri": "https://localhost:8080/",
          "height": 121
        },
        "id": "j-VfiHSLvt26",
        "outputId": "395936cf-6e91-471e-bfd6-f59500748c23"
      },
      "execution_count": null,
      "outputs": [
        {
          "output_type": "execute_result",
          "data": {
            "image/svg+xml": "<?xml version=\"1.0\" encoding=\"UTF-8\" standalone=\"no\"?>\n<!DOCTYPE svg PUBLIC \"-//W3C//DTD SVG 1.1//EN\"\n \"http://www.w3.org/Graphics/SVG/1.1/DTD/svg11.dtd\">\n<!-- Generated by graphviz version 2.43.0 (0)\n -->\n<!-- Pages: 1 -->\n<svg width=\"1230pt\" height=\"60pt\"\n viewBox=\"0.00 0.00 1229.60 60.00\" xmlns=\"http://www.w3.org/2000/svg\" xmlns:xlink=\"http://www.w3.org/1999/xlink\">\n<g id=\"graph0\" class=\"graph\" transform=\"scale(1 1) rotate(0) translate(4 56)\">\n<polygon fill=\"white\" stroke=\"transparent\" points=\"-4,4 -4,-56 1225.6,-56 1225.6,4 -4,4\"/>\n<!-- 673f372e&#45;c720&#45;410c&#45;8732&#45;8c010a1681b1 -->\n<g id=\"node1\" class=\"node\">\n<title>673f372e&#45;c720&#45;410c&#45;8732&#45;8c010a1681b1</title>\n<g id=\"a_node1\"><a xlink:title=\".\">\n<ellipse fill=\"black\" stroke=\"black\" cx=\"1.8\" cy=\"-26\" rx=\"1.8\" ry=\"1.8\"/>\n</a>\n</g>\n</g>\n<!-- 2 -->\n<g id=\"node2\" class=\"node\">\n<title>2</title>\n<ellipse fill=\"none\" stroke=\"black\" cx=\"58.6\" cy=\"-26\" rx=\"18\" ry=\"18\"/>\n<text text-anchor=\"middle\" x=\"58.6\" y=\"-22.3\" font-family=\"Times,serif\" font-size=\"14.00\">2</text>\n</g>\n<!-- 673f372e&#45;c720&#45;410c&#45;8732&#45;8c010a1681b1&#45;&gt;2 -->\n<g id=\"edge1\" class=\"edge\">\n<title>673f372e&#45;c720&#45;410c&#45;8732&#45;8c010a1681b1&#45;&gt;2</title>\n<g id=\"a_edge1\"><a xlink:title=\"&#45;&gt;2\">\n<path fill=\"none\" stroke=\"black\" d=\"M3.75,-26C7.25,-26 19.84,-26 31.96,-26\"/>\n<polygon fill=\"black\" stroke=\"black\" points=\"32.08,-28.98 40.58,-26 32.07,-23.03 32.08,-28.98\"/>\n</a>\n</g>\n</g>\n<!-- 1 -->\n<g id=\"node3\" class=\"node\">\n<title>1</title>\n<ellipse fill=\"none\" stroke=\"black\" cx=\"1195.6\" cy=\"-26\" rx=\"22\" ry=\"22\"/>\n<ellipse fill=\"none\" stroke=\"black\" cx=\"1195.6\" cy=\"-26\" rx=\"26\" ry=\"26\"/>\n<text text-anchor=\"middle\" x=\"1195.6\" y=\"-22.3\" font-family=\"Times,serif\" font-size=\"14.00\">1</text>\n</g>\n<!-- 2&#45;&gt;1 -->\n<g id=\"edge2\" class=\"edge\">\n<title>2&#45;&gt;1</title>\n<path fill=\"none\" stroke=\"black\" d=\"M76.97,-26C204.8,-26 999.39,-26 1164.6,-26\"/>\n<polygon fill=\"black\" stroke=\"black\" points=\"1164.7,-28.98 1173.2,-26 1164.7,-23.03 1164.7,-28.98\"/>\n<text text-anchor=\"middle\" x=\"625.1\" y=\"-29.8\" font-family=\"Times,serif\" font-size=\"14.00\">\u000b,\f,&#13;,!,&quot;,#,$,%,&amp;,&#39;,(,),*,+,,,&#45;,.,/,0,1,2,3,4,5,6,7,8,9,:,;,&lt;,&lt;0x09&gt;,=,&gt;,?,@,A,B,C,D,E,F,G,H,I,J,K,L,M,N,O,P,Q,R,S,T,U,V,W,X,Y,Z,[,,],^,_,`,a,b,c,d,e,f,g,h,i,j,k,l,m,n,o,p,q,r,s,t,u,v,w,x,y,z,{,|,},~,▁</text>\n</g>\n</g>\n</svg>\n",
            "text/plain": [
              "<AGraph <Swig Object of type 'Agraph_t *' at 0x7a2ec0948720>>"
            ]
          },
          "metadata": {},
          "execution_count": 49
        }
      ]
    },
    {
      "cell_type": "code",
      "source": [
        "pattern = \"This is an example of a somewhat long sentence\"\n",
        "check_pattern(pattern).show_diagram()"
      ],
      "metadata": {
        "colab": {
          "base_uri": "https://localhost:8080/",
          "height": 101
        },
        "id": "0Z9UuG7ospMu",
        "outputId": "a060a067-3095-4e4c-b3e1-edd441ba8c57"
      },
      "execution_count": null,
      "outputs": [
        {
          "output_type": "execute_result",
          "data": {
            "image/svg+xml": "<?xml version=\"1.0\" encoding=\"UTF-8\" standalone=\"no\"?>\n<!DOCTYPE svg PUBLIC \"-//W3C//DTD SVG 1.1//EN\"\n \"http://www.w3.org/Graphics/SVG/1.1/DTD/svg11.dtd\">\n<!-- Generated by graphviz version 2.43.0 (0)\n -->\n<!-- Pages: 1 -->\n<svg width=\"1079pt\" height=\"60pt\"\n viewBox=\"0.00 0.00 1078.60 60.00\" xmlns=\"http://www.w3.org/2000/svg\" xmlns:xlink=\"http://www.w3.org/1999/xlink\">\n<g id=\"graph0\" class=\"graph\" transform=\"scale(1 1) rotate(0) translate(4 56)\">\n<polygon fill=\"white\" stroke=\"transparent\" points=\"-4,4 -4,-56 1074.6,-56 1074.6,4 -4,4\"/>\n<!-- 19b28bd8&#45;30cc&#45;467d&#45;882e&#45;cd37040666df -->\n<g id=\"node1\" class=\"node\">\n<title>19b28bd8&#45;30cc&#45;467d&#45;882e&#45;cd37040666df</title>\n<g id=\"a_node1\"><a xlink:title=\".\">\n<ellipse fill=\"black\" stroke=\"black\" cx=\"1.8\" cy=\"-26\" rx=\"1.8\" ry=\"1.8\"/>\n</a>\n</g>\n</g>\n<!-- 10 -->\n<g id=\"node2\" class=\"node\">\n<title>10</title>\n<ellipse fill=\"none\" stroke=\"black\" cx=\"60.1\" cy=\"-26\" rx=\"19.5\" ry=\"19.5\"/>\n<text text-anchor=\"middle\" x=\"60.1\" y=\"-22.3\" font-family=\"Times,serif\" font-size=\"14.00\">10</text>\n</g>\n<!-- 19b28bd8&#45;30cc&#45;467d&#45;882e&#45;cd37040666df&#45;&gt;10 -->\n<g id=\"edge1\" class=\"edge\">\n<title>19b28bd8&#45;30cc&#45;467d&#45;882e&#45;cd37040666df&#45;&gt;10</title>\n<g id=\"a_edge1\"><a xlink:title=\"&#45;&gt;10\">\n<path fill=\"none\" stroke=\"black\" d=\"M3.78,-26C7.28,-26 19.64,-26 31.78,-26\"/>\n<polygon fill=\"black\" stroke=\"black\" points=\"31.96,-28.98 40.46,-26 31.96,-23.03 31.96,-28.98\"/>\n</a>\n</g>\n</g>\n<!-- 9 -->\n<g id=\"node3\" class=\"node\">\n<title>9</title>\n<ellipse fill=\"none\" stroke=\"black\" cx=\"158.6\" cy=\"-26\" rx=\"18\" ry=\"18\"/>\n<text text-anchor=\"middle\" x=\"158.6\" y=\"-22.3\" font-family=\"Times,serif\" font-size=\"14.00\">9</text>\n</g>\n<!-- 10&#45;&gt;9 -->\n<g id=\"edge2\" class=\"edge\">\n<title>10&#45;&gt;9</title>\n<path fill=\"none\" stroke=\"black\" d=\"M79.7,-26C94.49,-26 115.34,-26 131.75,-26\"/>\n<polygon fill=\"black\" stroke=\"black\" points=\"131.84,-28.98 140.34,-26 131.84,-23.03 131.84,-28.98\"/>\n<text text-anchor=\"middle\" x=\"110.1\" y=\"-29.8\" font-family=\"Times,serif\" font-size=\"14.00\">This</text>\n</g>\n<!-- 8 -->\n<g id=\"node4\" class=\"node\">\n<title>8</title>\n<ellipse fill=\"none\" stroke=\"black\" cx=\"251.6\" cy=\"-26\" rx=\"18\" ry=\"18\"/>\n<text text-anchor=\"middle\" x=\"251.6\" y=\"-22.3\" font-family=\"Times,serif\" font-size=\"14.00\">8</text>\n</g>\n<!-- 9&#45;&gt;8 -->\n<g id=\"edge3\" class=\"edge\">\n<title>9&#45;&gt;8</title>\n<path fill=\"none\" stroke=\"black\" d=\"M176.71,-26C190.31,-26 209.55,-26 224.98,-26\"/>\n<polygon fill=\"black\" stroke=\"black\" points=\"225.06,-28.98 233.56,-26 225.06,-23.03 225.06,-28.98\"/>\n<text text-anchor=\"middle\" x=\"205.1\" y=\"-29.8\" font-family=\"Times,serif\" font-size=\"14.00\">▁is</text>\n</g>\n<!-- 7 -->\n<g id=\"node5\" class=\"node\">\n<title>7</title>\n<ellipse fill=\"none\" stroke=\"black\" cx=\"348.6\" cy=\"-26\" rx=\"18\" ry=\"18\"/>\n<text text-anchor=\"middle\" x=\"348.6\" y=\"-22.3\" font-family=\"Times,serif\" font-size=\"14.00\">7</text>\n</g>\n<!-- 8&#45;&gt;7 -->\n<g id=\"edge4\" class=\"edge\">\n<title>8&#45;&gt;7</title>\n<path fill=\"none\" stroke=\"black\" d=\"M270.02,-26C284.48,-26 305.27,-26 321.68,-26\"/>\n<polygon fill=\"black\" stroke=\"black\" points=\"321.78,-28.98 330.28,-26 321.78,-23.03 321.78,-28.98\"/>\n<text text-anchor=\"middle\" x=\"300.1\" y=\"-29.8\" font-family=\"Times,serif\" font-size=\"14.00\">▁an</text>\n</g>\n<!-- 6 -->\n<g id=\"node11\" class=\"node\">\n<title>6</title>\n<ellipse fill=\"none\" stroke=\"black\" cx=\"478.6\" cy=\"-26\" rx=\"18\" ry=\"18\"/>\n<text text-anchor=\"middle\" x=\"478.6\" y=\"-22.3\" font-family=\"Times,serif\" font-size=\"14.00\">6</text>\n</g>\n<!-- 7&#45;&gt;6 -->\n<g id=\"edge10\" class=\"edge\">\n<title>7&#45;&gt;6</title>\n<path fill=\"none\" stroke=\"black\" d=\"M366.86,-26C388.62,-26 426.22,-26 451.5,-26\"/>\n<polygon fill=\"black\" stroke=\"black\" points=\"451.7,-28.98 460.2,-26 451.7,-23.03 451.7,-28.98\"/>\n<text text-anchor=\"middle\" x=\"413.6\" y=\"-29.8\" font-family=\"Times,serif\" font-size=\"14.00\">▁example</text>\n</g>\n<!-- 2 -->\n<g id=\"node6\" class=\"node\">\n<title>2</title>\n<ellipse fill=\"none\" stroke=\"black\" cx=\"910.6\" cy=\"-26\" rx=\"18\" ry=\"18\"/>\n<text text-anchor=\"middle\" x=\"910.6\" y=\"-22.3\" font-family=\"Times,serif\" font-size=\"14.00\">2</text>\n</g>\n<!-- 1 -->\n<g id=\"node7\" class=\"node\">\n<title>1</title>\n<ellipse fill=\"none\" stroke=\"black\" cx=\"1044.6\" cy=\"-26\" rx=\"22\" ry=\"22\"/>\n<ellipse fill=\"none\" stroke=\"black\" cx=\"1044.6\" cy=\"-26\" rx=\"26\" ry=\"26\"/>\n<text text-anchor=\"middle\" x=\"1044.6\" y=\"-22.3\" font-family=\"Times,serif\" font-size=\"14.00\">1</text>\n</g>\n<!-- 2&#45;&gt;1 -->\n<g id=\"edge5\" class=\"edge\">\n<title>2&#45;&gt;1</title>\n<path fill=\"none\" stroke=\"black\" d=\"M928.85,-26C950.36,-26 987.46,-26 1013.6,-26\"/>\n<polygon fill=\"black\" stroke=\"black\" points=\"1013.9,-28.98 1022.4,-26 1013.9,-23.03 1013.9,-28.98\"/>\n<text text-anchor=\"middle\" x=\"975.6\" y=\"-29.8\" font-family=\"Times,serif\" font-size=\"14.00\">▁sentence</text>\n</g>\n<!-- 3 -->\n<g id=\"node8\" class=\"node\">\n<title>3</title>\n<ellipse fill=\"none\" stroke=\"black\" cx=\"802.6\" cy=\"-26\" rx=\"18\" ry=\"18\"/>\n<text text-anchor=\"middle\" x=\"802.6\" y=\"-22.3\" font-family=\"Times,serif\" font-size=\"14.00\">3</text>\n</g>\n<!-- 3&#45;&gt;2 -->\n<g id=\"edge6\" class=\"edge\">\n<title>3&#45;&gt;2</title>\n<path fill=\"none\" stroke=\"black\" d=\"M820.63,-26C837.6,-26 863.9,-26 883.51,-26\"/>\n<polygon fill=\"black\" stroke=\"black\" points=\"883.76,-28.98 892.26,-26 883.76,-23.03 883.76,-28.98\"/>\n<text text-anchor=\"middle\" x=\"856.6\" y=\"-29.8\" font-family=\"Times,serif\" font-size=\"14.00\">▁long</text>\n</g>\n<!-- 4 -->\n<g id=\"node9\" class=\"node\">\n<title>4</title>\n<ellipse fill=\"none\" stroke=\"black\" cx=\"663.6\" cy=\"-26\" rx=\"18\" ry=\"18\"/>\n<text text-anchor=\"middle\" x=\"663.6\" y=\"-22.3\" font-family=\"Times,serif\" font-size=\"14.00\">4</text>\n</g>\n<!-- 4&#45;&gt;3 -->\n<g id=\"edge7\" class=\"edge\">\n<title>4&#45;&gt;3</title>\n<path fill=\"none\" stroke=\"black\" d=\"M681.67,-26C705.26,-26 748.01,-26 775.59,-26\"/>\n<polygon fill=\"black\" stroke=\"black\" points=\"775.81,-28.98 784.31,-26 775.81,-23.03 775.81,-28.98\"/>\n<text text-anchor=\"middle\" x=\"733.1\" y=\"-29.8\" font-family=\"Times,serif\" font-size=\"14.00\">▁somewhat</text>\n</g>\n<!-- 5 -->\n<g id=\"node10\" class=\"node\">\n<title>5</title>\n<ellipse fill=\"none\" stroke=\"black\" cx=\"573.6\" cy=\"-26\" rx=\"18\" ry=\"18\"/>\n<text text-anchor=\"middle\" x=\"573.6\" y=\"-22.3\" font-family=\"Times,serif\" font-size=\"14.00\">5</text>\n</g>\n<!-- 5&#45;&gt;4 -->\n<g id=\"edge8\" class=\"edge\">\n<title>5&#45;&gt;4</title>\n<path fill=\"none\" stroke=\"black\" d=\"M591.98,-26C604.84,-26 622.56,-26 637.03,-26\"/>\n<polygon fill=\"black\" stroke=\"black\" points=\"637.05,-28.98 645.55,-26 637.05,-23.03 637.05,-28.98\"/>\n<text text-anchor=\"middle\" x=\"618.6\" y=\"-29.8\" font-family=\"Times,serif\" font-size=\"14.00\">▁a</text>\n</g>\n<!-- 6&#45;&gt;5 -->\n<g id=\"edge9\" class=\"edge\">\n<title>6&#45;&gt;5</title>\n<path fill=\"none\" stroke=\"black\" d=\"M496.65,-26C510.59,-26 530.53,-26 546.48,-26\"/>\n<polygon fill=\"black\" stroke=\"black\" points=\"546.83,-28.98 555.33,-26 546.83,-23.03 546.83,-28.98\"/>\n<text text-anchor=\"middle\" x=\"526.1\" y=\"-29.8\" font-family=\"Times,serif\" font-size=\"14.00\">▁of</text>\n</g>\n</g>\n</svg>\n",
            "text/plain": [
              "<AGraph <Swig Object of type 'Agraph_t *' at 0x7a2ec0eac7e0>>"
            ]
          },
          "metadata": {},
          "execution_count": 50
        }
      ]
    },
    {
      "cell_type": "code",
      "source": [
        "pattern = r'{\"boolean_value\": ((false)|(true))}'\n",
        "check_pattern(pattern).show_diagram()"
      ],
      "metadata": {
        "colab": {
          "base_uri": "https://localhost:8080/",
          "height": 101
        },
        "id": "_pbapNMBxm3G",
        "outputId": "07fc8e39-1a07-46cc-9f59-36c04dc67a38"
      },
      "execution_count": null,
      "outputs": [
        {
          "output_type": "execute_result",
          "data": {
            "image/svg+xml": "<?xml version=\"1.0\" encoding=\"UTF-8\" standalone=\"no\"?>\n<!DOCTYPE svg PUBLIC \"-//W3C//DTD SVG 1.1//EN\"\n \"http://www.w3.org/Graphics/SVG/1.1/DTD/svg11.dtd\">\n<!-- Generated by graphviz version 2.43.0 (0)\n -->\n<!-- Pages: 1 -->\n<svg width=\"784pt\" height=\"60pt\"\n viewBox=\"0.00 0.00 783.60 60.00\" xmlns=\"http://www.w3.org/2000/svg\" xmlns:xlink=\"http://www.w3.org/1999/xlink\">\n<g id=\"graph0\" class=\"graph\" transform=\"scale(1 1) rotate(0) translate(4 56)\">\n<polygon fill=\"white\" stroke=\"transparent\" points=\"-4,4 -4,-56 779.6,-56 779.6,4 -4,4\"/>\n<!-- 44cf7864&#45;1f6d&#45;4fd4&#45;85ad&#45;658d51fc7809 -->\n<g id=\"node1\" class=\"node\">\n<title>44cf7864&#45;1f6d&#45;4fd4&#45;85ad&#45;658d51fc7809</title>\n<g id=\"a_node1\"><a xlink:title=\".\">\n<ellipse fill=\"black\" stroke=\"black\" cx=\"1.8\" cy=\"-26\" rx=\"1.8\" ry=\"1.8\"/>\n</a>\n</g>\n</g>\n<!-- 8 -->\n<g id=\"node2\" class=\"node\">\n<title>8</title>\n<ellipse fill=\"none\" stroke=\"black\" cx=\"58.6\" cy=\"-26\" rx=\"18\" ry=\"18\"/>\n<text text-anchor=\"middle\" x=\"58.6\" y=\"-22.3\" font-family=\"Times,serif\" font-size=\"14.00\">8</text>\n</g>\n<!-- 44cf7864&#45;1f6d&#45;4fd4&#45;85ad&#45;658d51fc7809&#45;&gt;8 -->\n<g id=\"edge1\" class=\"edge\">\n<title>44cf7864&#45;1f6d&#45;4fd4&#45;85ad&#45;658d51fc7809&#45;&gt;8</title>\n<g id=\"a_edge1\"><a xlink:title=\"&#45;&gt;8\">\n<path fill=\"none\" stroke=\"black\" d=\"M3.75,-26C7.25,-26 19.84,-26 31.96,-26\"/>\n<polygon fill=\"black\" stroke=\"black\" points=\"32.08,-28.98 40.58,-26 32.07,-23.03 32.08,-28.98\"/>\n</a>\n</g>\n</g>\n<!-- 7 -->\n<g id=\"node3\" class=\"node\">\n<title>7</title>\n<ellipse fill=\"none\" stroke=\"black\" cx=\"143.6\" cy=\"-26\" rx=\"18\" ry=\"18\"/>\n<text text-anchor=\"middle\" x=\"143.6\" y=\"-22.3\" font-family=\"Times,serif\" font-size=\"14.00\">7</text>\n</g>\n<!-- 8&#45;&gt;7 -->\n<g id=\"edge2\" class=\"edge\">\n<title>8&#45;&gt;7</title>\n<path fill=\"none\" stroke=\"black\" d=\"M76.8,-26C88.37,-26 103.84,-26 116.87,-26\"/>\n<polygon fill=\"black\" stroke=\"black\" points=\"116.92,-28.98 125.42,-26 116.92,-23.03 116.92,-28.98\"/>\n<text text-anchor=\"middle\" x=\"101.1\" y=\"-29.8\" font-family=\"Times,serif\" font-size=\"14.00\">{&quot;</text>\n</g>\n<!-- 6 -->\n<g id=\"node4\" class=\"node\">\n<title>6</title>\n<ellipse fill=\"none\" stroke=\"black\" cx=\"258.6\" cy=\"-26\" rx=\"18\" ry=\"18\"/>\n<text text-anchor=\"middle\" x=\"258.6\" y=\"-22.3\" font-family=\"Times,serif\" font-size=\"14.00\">6</text>\n</g>\n<!-- 7&#45;&gt;6 -->\n<g id=\"edge3\" class=\"edge\">\n<title>7&#45;&gt;6</title>\n<path fill=\"none\" stroke=\"black\" d=\"M161.76,-26C180.35,-26 210.2,-26 231.65,-26\"/>\n<polygon fill=\"black\" stroke=\"black\" points=\"231.78,-28.98 240.28,-26 231.78,-23.03 231.78,-28.98\"/>\n<text text-anchor=\"middle\" x=\"201.1\" y=\"-29.8\" font-family=\"Times,serif\" font-size=\"14.00\">boolean</text>\n</g>\n<!-- 5 -->\n<g id=\"node5\" class=\"node\">\n<title>5</title>\n<ellipse fill=\"none\" stroke=\"black\" cx=\"337.6\" cy=\"-26\" rx=\"18\" ry=\"18\"/>\n<text text-anchor=\"middle\" x=\"337.6\" y=\"-22.3\" font-family=\"Times,serif\" font-size=\"14.00\">5</text>\n</g>\n<!-- 6&#45;&gt;5 -->\n<g id=\"edge4\" class=\"edge\">\n<title>6&#45;&gt;5</title>\n<path fill=\"none\" stroke=\"black\" d=\"M276.69,-26C286.76,-26 299.69,-26 310.96,-26\"/>\n<polygon fill=\"black\" stroke=\"black\" points=\"311.06,-28.98 319.56,-26 311.06,-23.03 311.06,-28.98\"/>\n<text text-anchor=\"middle\" x=\"298.1\" y=\"-29.8\" font-family=\"Times,serif\" font-size=\"14.00\">_</text>\n</g>\n<!-- 4 -->\n<g id=\"node9\" class=\"node\">\n<title>4</title>\n<ellipse fill=\"none\" stroke=\"black\" cx=\"439.6\" cy=\"-26\" rx=\"18\" ry=\"18\"/>\n<text text-anchor=\"middle\" x=\"439.6\" y=\"-22.3\" font-family=\"Times,serif\" font-size=\"14.00\">4</text>\n</g>\n<!-- 5&#45;&gt;4 -->\n<g id=\"edge8\" class=\"edge\">\n<title>5&#45;&gt;4</title>\n<path fill=\"none\" stroke=\"black\" d=\"M356.02,-26C371.65,-26 394.8,-26 412.62,-26\"/>\n<polygon fill=\"black\" stroke=\"black\" points=\"412.88,-28.98 421.38,-26 412.88,-23.03 412.88,-28.98\"/>\n<text text-anchor=\"middle\" x=\"388.6\" y=\"-29.8\" font-family=\"Times,serif\" font-size=\"14.00\">value</text>\n</g>\n<!-- 2 -->\n<g id=\"node6\" class=\"node\">\n<title>2</title>\n<ellipse fill=\"none\" stroke=\"black\" cx=\"666.6\" cy=\"-26\" rx=\"18\" ry=\"18\"/>\n<text text-anchor=\"middle\" x=\"666.6\" y=\"-22.3\" font-family=\"Times,serif\" font-size=\"14.00\">2</text>\n</g>\n<!-- 1 -->\n<g id=\"node7\" class=\"node\">\n<title>1</title>\n<ellipse fill=\"none\" stroke=\"black\" cx=\"749.6\" cy=\"-26\" rx=\"22\" ry=\"22\"/>\n<ellipse fill=\"none\" stroke=\"black\" cx=\"749.6\" cy=\"-26\" rx=\"26\" ry=\"26\"/>\n<text text-anchor=\"middle\" x=\"749.6\" y=\"-22.3\" font-family=\"Times,serif\" font-size=\"14.00\">1</text>\n</g>\n<!-- 2&#45;&gt;1 -->\n<g id=\"edge5\" class=\"edge\">\n<title>2&#45;&gt;1</title>\n<path fill=\"none\" stroke=\"black\" d=\"M684.78,-26C694.6,-26 707.19,-26 718.6,-26\"/>\n<polygon fill=\"black\" stroke=\"black\" points=\"718.91,-28.98 727.41,-26 718.91,-23.03 718.91,-28.98\"/>\n<text text-anchor=\"middle\" x=\"706.1\" y=\"-29.8\" font-family=\"Times,serif\" font-size=\"14.00\">}</text>\n</g>\n<!-- 3 -->\n<g id=\"node8\" class=\"node\">\n<title>3</title>\n<ellipse fill=\"none\" stroke=\"black\" cx=\"521.6\" cy=\"-26\" rx=\"18\" ry=\"18\"/>\n<text text-anchor=\"middle\" x=\"521.6\" y=\"-22.3\" font-family=\"Times,serif\" font-size=\"14.00\">3</text>\n</g>\n<!-- 3&#45;&gt;2 -->\n<g id=\"edge6\" class=\"edge\">\n<title>3&#45;&gt;2</title>\n<path fill=\"none\" stroke=\"black\" d=\"M539.85,-26C564.65,-26 610.58,-26 639.53,-26\"/>\n<polygon fill=\"black\" stroke=\"black\" points=\"639.79,-28.98 648.29,-26 639.79,-23.03 639.79,-28.98\"/>\n<text text-anchor=\"middle\" x=\"594.1\" y=\"-29.8\" font-family=\"Times,serif\" font-size=\"14.00\">▁false,▁true</text>\n</g>\n<!-- 4&#45;&gt;3 -->\n<g id=\"edge7\" class=\"edge\">\n<title>4&#45;&gt;3</title>\n<path fill=\"none\" stroke=\"black\" d=\"M457.96,-26C468.73,-26 482.75,-26 494.81,-26\"/>\n<polygon fill=\"black\" stroke=\"black\" points=\"495.05,-28.98 503.55,-26 495.05,-23.03 495.05,-28.98\"/>\n<text text-anchor=\"middle\" x=\"480.6\" y=\"-29.8\" font-family=\"Times,serif\" font-size=\"14.00\">&quot;:</text>\n</g>\n</g>\n</svg>\n",
            "text/plain": [
              "<AGraph <Swig Object of type 'Agraph_t *' at 0x7a2ec09910b0>>"
            ]
          },
          "metadata": {},
          "execution_count": 51
        }
      ]
    },
    {
      "cell_type": "markdown",
      "source": [
        "## Scalability of DirectMerge and CartesianMerge\n",
        "\n",
        "We compute the DFA for `\"[ a-z]{i}\"` with various values of `i` with both `DirectMerge` and `CartesianMerge`. We measure the number of parameters and the execution time."
      ],
      "metadata": {
        "id": "Q0yxtdUuLP7E"
      }
    },
    {
      "cell_type": "code",
      "source": [
        "letters = \"▁abcdefghijklmnopqrstuvwxyz\"\n",
        "tokenizer_fsm = TokenizerFSM(\n",
        "    [encode(c, tokenizer)[0] for c in letters],\n",
        "    tokenizer,\n",
        "    tokenizer_dict[\"model\"][\"merges\"]\n",
        ")\n",
        "id2state, state2forbidden = get_dict_from_tokenizer_fsm(tokenizer_fsm)"
      ],
      "metadata": {
        "id": "W2oEjRghLG20"
      },
      "execution_count": null,
      "outputs": []
    },
    {
      "cell_type": "code",
      "source": [
        "def count_parameters_directmerge(fsm):\n",
        "    \"\"\"\n",
        "    Count the number of integers required to describe the DFA created with `DirectMerge`.\n",
        "    There is one integer per final state, one per state and two per transition.\n",
        "    \"\"\"\n",
        "    return (\n",
        "        len(fsm.final_states)\n",
        "        + sum(2*len(fsm.map[s]) for s in fsm.map)\n",
        "        + len(fsm.map)\n",
        "    )\n",
        "\n",
        "def count_parameters_tokenizer_fsm(tokenizer_fsm):\n",
        "    \"\"\"\n",
        "    Count the number of integers required to describe the tokenizer DFA.\n",
        "    There are two integers for each entry of `id2state` and one for each element of each list of forbidden tokens.\n",
        "    \"\"\"\n",
        "    return len(tokenizer_fsm.id2state)*2 + sum(len(tokenizer_fsm.state2forbidden[s]) for s in tokenizer_fsm.state2forbidden)\n",
        "\n",
        "def count_parameters_cartesianmerge(regex_fsm, final_reachable):\n",
        "    \"\"\"\n",
        "    Count the number of integers required to describe the DFA created with `CartesianMerge` (excluding those for the tokenizer DFA).\n",
        "    There are the integers required to describe the regex DFA and those for the list of possible composite states.\n",
        "    \"\"\"\n",
        "    return (\n",
        "        len(regex_fsm.final_states)\n",
        "        + sum(2*len(regex_fsm.states_to_token_maps[s]) for s in regex_fsm.states_to_token_maps)\n",
        "        + len(regex_fsm.states_to_token_maps)\n",
        "    ), sum(len(final_reachable[s]) for s in final_reachable)"
      ],
      "metadata": {
        "id": "7UoUIeZzLbOS"
      },
      "execution_count": null,
      "outputs": []
    },
    {
      "cell_type": "code",
      "source": [
        "results = {\"i\": [], \"approach\": [], \"num_integers\": [], \"execution_time\": []}\n",
        "\n",
        "for i in range(1, 7):\n",
        "    pattern = \".\"*i\n",
        "\n",
        "    start = time.time()\n",
        "    regex_fsm = NormalizedRegexFSM(pattern, tokenizer_outlines)\n",
        "    regex_fsm.normalize(tokenizer_fsm)\n",
        "    final_reachable = get_possible_composite_states(\n",
        "        convert_dict_dict(regex_fsm.states_to_token_maps),\n",
        "        id2state,\n",
        "        state2forbidden,\n",
        "        typed.List(regex_fsm.final_states)\n",
        "    )\n",
        "    results[\"execution_time\"].append(time.time() - start)\n",
        "    results[\"approach\"].append(\"CartesianMerge\")\n",
        "    results[\"num_integers\"].append(\n",
        "        count_parameters_tokenizer_fsm(tokenizer_fsm)\n",
        "        + sum(count_parameters_cartesianmerge(regex_fsm, final_reachable))\n",
        "    )\n",
        "    results[\"i\"].append(i)\n",
        "\n",
        "    start = time.time()\n",
        "    fsm = DirectMergeFSM(interegular.parse_pattern(pattern).to_fsm(), string.printable, tokenizer)\n",
        "    fsm.apply_merges(tokenizer_dict[\"model\"][\"merges\"])\n",
        "    results[\"execution_time\"].append(time.time() - start)\n",
        "    results[\"approach\"].append(\"DirectMerge\")\n",
        "    results[\"num_integers\"].append(count_parameters_directmerge(fsm))\n",
        "    results[\"i\"].append(i)\n",
        "\n",
        "df = pd.DataFrame.from_dict(results)"
      ],
      "metadata": {
        "id": "9ymAWfILMyvw"
      },
      "execution_count": null,
      "outputs": []
    },
    {
      "cell_type": "markdown",
      "source": [
        "We see that `CartesianMerge` is clearly more scalable than `DirectMerge`.\n",
        "PS: the execution time for `CartesianMerge` does not account for generating the tokenizer DFA (which is the same for all regex and just needs to be computed once for a given tokenizer)."
      ],
      "metadata": {
        "id": "Tg3-EOKcRiFd"
      }
    },
    {
      "cell_type": "code",
      "source": [
        "fig, (ax1, ax2) = plt.subplots(2, 1, sharex=True)\n",
        "g = sns.lineplot(data=df, x=\"i\", y=\"num_integers\", color=\"g\", hue=\"approach\", ax=ax1)\n",
        "g.set(yscale='log', ylabel='Number of integers to represent\\nthe FSMs (logarithmic scale)')\n",
        "g = sns.lineplot(data=df, x=\"i\", y=\"execution_time\", ax=ax2, hue=\"approach\", legend=False)\n",
        "g.set(yscale='log', ylabel='Execution time in seconds\\n(logarithmic scale)')\n",
        "handles, labels = ax1.get_legend_handles_labels()\n",
        "fig.legend(handles, labels, loc='upper right')\n",
        "sns.move_legend(fig, \"center left\", bbox_to_anchor=(1, 0.5), frameon=False)\n",
        "ax1.legend([],[], frameon=False)\n",
        "plt.tight_layout()\n",
        "plt.show()"
      ],
      "metadata": {
        "colab": {
          "base_uri": "https://localhost:8080/",
          "height": 600
        },
        "id": "coCGqVKixQ43",
        "outputId": "b7c0caec-c6c9-4e10-f878-69c1f537ce8e"
      },
      "execution_count": null,
      "outputs": [
        {
          "output_type": "display_data",
          "data": {
            "text/plain": [
              "<Figure size 800x600 with 2 Axes>"
            ],
            "image/png": "[encoded data removed]"
          },
          "metadata": {}
        }
      ]
    },
    {
      "cell_type": "markdown",
      "source": [
        "# Experiment: Glaive function calling dataset\n",
        "\n",
        "We test `CartesianMerge` with the `glaive-function-calling-v2` dataset. It includes json strings with their corresponding json schemas. We check that the json strings are compatible with the DFA created with `CartesianMerge`. We also measure the execution time."
      ],
      "metadata": {
        "id": "iUbQtc65YO24"
      }
    },
    {
      "cell_type": "code",
      "source": [
        "from datasets import load_dataset\n",
        "from outlines.fsm.json_schema import build_regex_from_object\n",
        "\n",
        "size_vocabulary = len(tokenizer.vocab)\n",
        "\n",
        "if \"function_calling_results.json\" not in os.listdir():\n",
        "    i = -1\n",
        "    results = defaultdict(lambda: defaultdict(list))\n",
        "    n = 0\n",
        "else:\n",
        "    with open(\"function_calling_results.json\", \"r\") as f:\n",
        "        results = defaultdict(lambda: defaultdict(list), json.load(f))\n",
        "    i = max([int(k) for k in results.keys()])\n",
        "    n = sum(\n",
        "        len(results[k][\"choices_cartesian\"])\n",
        "        for k in results\n",
        "        if k != -1\n",
        "        if \"choices_cartesian\" in results[k]\n",
        "    )\n",
        "\n",
        "if n < 1000:\n",
        "    dataset = load_dataset(\"glaiveai/glaive-function-calling-v2\")\n",
        "\n",
        "    # We create the tokenizer DFA.\n",
        "    start = time.time()\n",
        "    tokenizer_fsm = TokenizerFSM(\n",
        "        [encode(c, tokenizer)[0] for c in string.printable],\n",
        "        tokenizer,\n",
        "        tokenizer_dict[\"model\"][\"merges\"]\n",
        "    )\n",
        "    results[-1][\"delay_tokenizer_fsm\"] = time.time() - start\n",
        "    id2state, state2forbidden = get_dict_from_tokenizer_fsm(tokenizer_fsm)\n",
        "\n",
        "# For each record of the dataset...\n",
        "while n < 1000:\n",
        "    i += 1\n",
        "    try:\n",
        "        system = dataset[\"train\"][i][\"system\"].split(\"Use them if required -\\n\")[1].strip()\n",
        "    except IndexError:\n",
        "        continue\n",
        "    # We extract the json schemas corresponding to functions.\n",
        "    functions = {}\n",
        "    start, delta_brackets = 0, 0\n",
        "    for pos in range(len(system)):\n",
        "        if system[pos] == \"{\":\n",
        "            delta_brackets += 1\n",
        "        elif system[pos] == \"}\":\n",
        "            delta_brackets -= 1\n",
        "            if delta_brackets == 0:\n",
        "                function = json.loads(system[start:pos+1])\n",
        "                functions[function[\"name\"]] = function[\"parameters\"]\n",
        "                start = pos + 1\n",
        "    # We extract the json strings correspondning to function calls.\n",
        "    function_calls = defaultdict(list)\n",
        "    if \"<functioncall> \" in dataset[\"train\"][i][\"chat\"]:\n",
        "        for x in dataset[\"train\"][i][\"chat\"].split(\"<functioncall> \")[1:]:\n",
        "            try:\n",
        "                function_call = json.loads(\n",
        "                    x.split(\" <|endoftext|>\")[0]\n",
        "                    .replace(\"\\'{\", \"{\")\n",
        "                    .replace(\"}\\'\", \"}\")\n",
        "                    .replace(\"\\'[\", \"[\")\n",
        "                    .replace(\"]\\'\", \"]\")\n",
        "                    .replace(\"\\\\\\'\", \"'\")\n",
        "                )\n",
        "                function_calls[function_call[\"name\"]].append(function_call[\"arguments\"])\n",
        "            except:\n",
        "                continue\n",
        "\n",
        "    # For each json schema for which there is a json string...\n",
        "    for name in function_calls:\n",
        "        if name not in functions:\n",
        "            continue\n",
        "        try:\n",
        "            pattern = build_regex_from_object(json.dumps(functions[name]))\n",
        "        except NotImplementedError:\n",
        "            continue\n",
        "        results[i][\"function\"].append(name)\n",
        "        # We build the regex DFA with outlines.\n",
        "        start = time.time()\n",
        "        regex_fsm = NormalizedRegexFSM(pattern, tokenizer_outlines)\n",
        "        results[i][\"delay_outlines\"].append(time.time() - start)\n",
        "\n",
        "        # We list the possible composite states.\n",
        "        start = time.time()\n",
        "        regex_fsm.normalize(tokenizer_fsm)\n",
        "        new_map = get_possible_composite_states(\n",
        "            convert_dict_dict(regex_fsm.states_to_token_maps),\n",
        "            id2state,\n",
        "            state2forbidden,\n",
        "            typed.List(regex_fsm.final_states)\n",
        "        )\n",
        "        results[i][\"delay_cartesian\"].append(time.time() - start)\n",
        "\n",
        "        # For each json string corresponding to a function call...\n",
        "        for parameters in function_calls[name]:\n",
        "            parameters = json.dumps(parameters)\n",
        "\n",
        "            # We first that the string complies with the regex. It might not be\n",
        "            # the case because Outlines does not fully support all JSON schema\n",
        "            # features\n",
        "            if re.compile(pattern).match(parameters) is None:\n",
        "                continue\n",
        "            n += 1\n",
        "            token_sequence = encode(parameters, tokenizer)\n",
        "            regex_state = regex_fsm.initial_state\n",
        "            tokenizer_state = 0\n",
        "\n",
        "            choices_outlines, choices_cartesian = [], []\n",
        "\n",
        "            for t in token_sequence:\n",
        "\n",
        "                # For each token, we list the allowed tokens.\n",
        "                start = time.time()\n",
        "                mask = np.zeros(size_vocabulary)\n",
        "                mask[list(new_map[regex_state])] = 1\n",
        "                mask[list(tokenizer_fsm.state2forbidden[tokenizer_state])] = 0\n",
        "                results[i][\"delay_decoding\"].append(time.time() - start)\n",
        "\n",
        "                # We check that the actual token is among the allowed tokens.\n",
        "                assert int(mask[t]) == 1\n",
        "\n",
        "                # We check that `CartesianMerge` is always more restrictive than\n",
        "                # `Outlines`.\n",
        "                choices_outlines.append(len(regex_fsm.states_to_token_maps[regex_state]))\n",
        "                choices_cartesian.append(int(np.sum(mask)))\n",
        "                assert choices_outlines[-1] >= choices_cartesian[-1]\n",
        "\n",
        "                # We keep track of the states of both DFAs.\n",
        "                regex_state, tokenizer_state = new_map[regex_state][t]\n",
        "\n",
        "            results[i][\"choices_outlines\"].append(choices_outlines)\n",
        "            results[i][\"choices_cartesian\"].append(choices_cartesian)\n",
        "\n",
        "    if i % 5 == 0:\n",
        "        with open(\"function_calling_results.json\", \"w\") as f:\n",
        "            json.dump(results, f)\n",
        "            print(i, n, time.time())"
      ],
      "metadata": {
        "id": "BH9Sv-uNfV1F"
      },
      "execution_count": null,
      "outputs": []
    },
    {
      "cell_type": "code",
      "source": [
        "with open(\"function_calling_results.json\", \"r\") as f:\n",
        "    results = defaultdict(lambda: defaultdict(list), json.load(f))\n",
        "\n",
        "delays_outlines = []\n",
        "delays_cartesian = []\n",
        "for k in results:\n",
        "    if \"delay_outlines\" in results[k]:\n",
        "        delays_outlines.extend(results[k][\"delay_outlines\"])\n",
        "        for i in range(len(results[k][\"delay_outlines\"])):\n",
        "            delays_cartesian.append(results[k][\"delay_cartesian\"][i] + results[k][\"delay_outlines\"][i])\n",
        "df = pd.DataFrame(columns=[\"Method\", \"Preprocessing time (seconds)\"])\n",
        "df[\"Method\"] = [\"outlines\"]*len(delays_outlines) + [\"CartesianMerge\"]*len(delays_cartesian)\n",
        "df[\"Preprocessing time (seconds)\"] = delays_outlines + delays_cartesian\n",
        "\n",
        "delays_decoding = []\n",
        "for i in results:\n",
        "    if \"delay_decoding\" in results[i]:\n",
        "        delays_decoding.extend(results[i][\"delay_decoding\"])\n",
        "\n",
        "np.mean(delays_outlines), np.mean(delays_cartesian)-np.mean(delays_outlines), results[\"-1\"][\"delay_tokenizer_fsm\"], np.mean(delays_decoding)"
      ],
      "metadata": {
        "id": "jeLOLbzoy7pe",
        "colab": {
          "base_uri": "https://localhost:8080/"
        },
        "outputId": "b08b26e2-0b96-4ea8-d8f6-6e2c164bc0a2"
      },
      "execution_count": null,
      "outputs": [
        {
          "output_type": "execute_result",
          "data": {
            "text/plain": [
              "(0.6869955827216773,\n",
              " 27.258802759074104,\n",
              " 20.870391607284546,\n",
              " 0.0015315119331255705)"
            ]
          },
          "metadata": {},
          "execution_count": 57
        }
      ]
    },
    {
      "cell_type": "code",
      "source": [
        "sns.set_theme()\n",
        "sns.set_style(\"darkgrid\")\n",
        "sns.set(rc={'figure.figsize':(8,6)})\n",
        "\n",
        "fig, ax = plt.subplots()\n",
        "g = sns.histplot(\n",
        "    data=df, x=\"Preprocessing time (seconds)\", hue=\"Method\",\n",
        "    log_scale=True, element=\"step\", fill=False,\n",
        "    cumulative=True, stat=\"density\", common_norm=False,\n",
        "    ax=ax\n",
        ")\n",
        "\n",
        "for t in g.legend_.texts:\n",
        "    t.set_text(t.get_text().replace('outlines', r'$\\texttt{Outlines}$').replace('CartesianMerge', r'$\\texttt{CartesianMerge}$'))\n",
        "\n",
        "g.legend_.get_frame().set_facecolor('white')\n",
        "\n",
        "_ = g.set(title=\n",
        "    r\"\\textbf{Preprocessing time} with \"\n",
        "    + r\"\\texttt{\"\n",
        "    + \"Outlines} and \"\n",
        "    + r\"\\texttt{\"\n",
        "    + \"CartesianMerge}\"\n",
        "    + \"\\nfor a sample of JSON schemas from the \"\n",
        "    + r\"\\texttt{\"\n",
        "    + \"glaive-function-calling-v2} dataset\",\n",
        "    ylabel=\"Cumulative distribution\"\n",
        ")"
      ],
      "metadata": {
        "id": "6dHTtLuXzgDk",
        "colab": {
          "base_uri": "https://localhost:8080/",
          "height": 585
        },
        "outputId": "b882e518-23aa-4309-d3ba-f8f276121c86"
      },
      "execution_count": null,
      "outputs": [
        {
          "output_type": "display_data",
          "data": {
            "text/plain": [
              "<Figure size 800x600 with 1 Axes>"
            ],
            "image/png": "[encoded data removed]"
          },
          "metadata": {}
        }
      ]
    },
    {
      "cell_type": "code",
      "source": [
        "fig, ax = plt.subplots()\n",
        "g = sns.histplot(\n",
        "    data=pd.DataFrame.from_dict({\"Decoding time (seconds)\": delays_decoding}),\n",
        "    x=\"Decoding time (seconds)\",\n",
        "    log_scale=True, element=\"step\", fill=False,\n",
        "    cumulative=True, stat=\"density\", common_norm=False,\n",
        "    ax=ax\n",
        ")\n",
        "\n",
        "_ = g.set(title=\n",
        "    r\"\\textbf{Decoding time} (time to create the token mask) with \"\n",
        "    + r\"\\texttt{\"\n",
        "    + \"CartesianMerge}\"\n",
        "    + \"\\nfor a sample of JSON schemas from the \"\n",
        "    + r\"\\texttt{\"\n",
        "    + \"glaive-function-calling-v2} dataset\",\n",
        "    ylabel=\"Cumulative distribution\"\n",
        ")"
      ],
      "metadata": {
        "colab": {
          "base_uri": "https://localhost:8080/",
          "height": 586
        },
        "id": "MKdql4ZukG7V",
        "outputId": "327fdf32-04d3-430e-c426-4db81211c3eb"
      },
      "execution_count": null,
      "outputs": [
        {
          "output_type": "display_data",
          "data": {
            "text/plain": [
              "<Figure size 800x600 with 1 Axes>"
            ],
            "image/png": "[encoded data removed]"
          },
          "metadata": {}
        }
      ]
    },
    {
      "cell_type": "markdown",
      "source": [
        "Among the 18898 tokens seen, 3853 (resp. 750) have only one allowed token with `CartesianMerge` (`Outlines`), which means that we can skip the LLM call. This is not really an estimate of the actual fraction of LLM calls we can skip because here we assume that we align with the \"ground truth\" for all preceding tokens. In particular the tokens generated so far form a proper token sequence which is not necessarily the case with `Outlines`."
      ],
      "metadata": {
        "id": "960FpVHfa4EO"
      }
    },
    {
      "cell_type": "code",
      "source": [
        "num_tokens = 0\n",
        "num_one_option_outlines = 0\n",
        "num_one_option_cartesian = 0\n",
        "\n",
        "for k in results:\n",
        "    if \"choices_outlines\" in results[k]:\n",
        "        for seq in results[k][\"choices_outlines\"]:\n",
        "            num_tokens += len(seq)\n",
        "            num_one_option_outlines += sum(1 for x in seq if x == 1)\n",
        "        for seq in results[k][\"choices_cartesian\"]:\n",
        "            num_one_option_cartesian += sum(1 for x in seq if x == 1)\n",
        "\n",
        "print(num_tokens, num_one_option_cartesian)"
      ],
      "metadata": {
        "colab": {
          "base_uri": "https://localhost:8080/"
        },
        "id": "sJk6SsAKGHVY",
        "outputId": "c4c492d4-0a31-46f6-e430-629c5d86f6b8"
      },
      "execution_count": null,
      "outputs": [
        {
          "output_type": "stream",
          "name": "stdout",
          "text": [
            "18898 3853\n"
          ]
        }
      ]
    },
    {
      "cell_type": "markdown",
      "source": [
        "# Example: token masking distorting the LLM distribution\n",
        "\n",
        "This is the example in the second section of the blog post."
      ],
      "metadata": {
        "id": "a8nHdoqR3A_G"
      }
    },
    {
      "cell_type": "code",
      "source": [
        "%%capture\n",
        "import os\n",
        "import torch\n",
        "from transformers import AutoModelForCausalLM, AutoTokenizer, BitsAndBytesConfig\n",
        "from peft import PeftModel\n",
        "\n",
        "\n",
        "MODEL_NAME = \"Hugofernandez/Mistral-7B-v0.1-colab-sharded\"\n",
        "DEVICE = torch.device(\"cuda:0\" if torch.cuda.is_available() else \"cpu\")\n",
        "\n",
        "# Use 4-bit quantization to the model to reduce its memory consumption\n",
        "bnb_config = BitsAndBytesConfig(\n",
        "    load_in_4bit=True,\n",
        "    bnb_4bit_quant_type=\"nf4\",\n",
        "    bnb_4bit_compute_dtype=torch.float16,\n",
        ")\n",
        "\n",
        "# Load the base model\n",
        "model = AutoModelForCausalLM.from_pretrained(\n",
        "    MODEL_NAME,\n",
        "    quantization_config=bnb_config,\n",
        ")\n",
        "tokenizer = AutoTokenizer.from_pretrained(MODEL_NAME, padding_side=\"left\")\n",
        "tokenizer.pad_token = tokenizer.eos_token"
      ],
      "metadata": {
        "id": "_zFUogwX3Ou8"
      },
      "execution_count": null,
      "outputs": []
    },
    {
      "cell_type": "markdown",
      "source": [
        "First, we cover the unconstrained decoding case. We go through all the potential paths leading to the possible answers and compute the corresponding probabilities."
      ],
      "metadata": {
        "id": "CknMi7mMh32I"
      }
    },
    {
      "cell_type": "code",
      "source": [
        "prompt = \"Question: What is the first name of the US president who was a member of the Sigma Alpha Epsilon fraternity?\\nAnswer:\"\n",
        "\n",
        "def get_proba(prompt, target):\n",
        "    if len(target) == 0:\n",
        "        return (\"\", 1)\n",
        "    model_input = tokenizer([prompt], return_tensors=\"pt\", padding=True).to(DEVICE)\n",
        "    with torch.no_grad():\n",
        "        output = model(**model_input)\n",
        "        proba = torch.nn.functional.softmax(output[\"logits\"][0, -1, :], dim=-1)\n",
        "    result = []\n",
        "    for w in tokenizer.vocab:\n",
        "        if target.startswith(w):\n",
        "            proba_token = float(proba[tokenizer.vocab[w]])\n",
        "            if len(w) < len(target):\n",
        "                for s, p in get_proba(prompt + w.replace(\"▁\", \" \"), target[len(w):]):\n",
        "                    result.append((w + \"|\" + s, proba_token*p))\n",
        "            else:\n",
        "                result.append((w, proba_token))\n",
        "    return result\n",
        "\n",
        "sum_proba = {}\n",
        "for target in [\"▁Theodore\", \"▁William\"]:\n",
        "    result = get_proba(prompt, target)\n",
        "    sum_proba[target] = sum(x[1] for x in result)\n",
        "    print(f'Proba for all token sequences decoded as \"{target}\":', \"{0:.6g}\".format(sum_proba[target]))\n",
        "    for s, p in sorted(result, key=lambda x: -x[1])[:5]:\n",
        "        print(s, \"{0:.6g}\".format(p), \"{0:.6g}\".format(p/sum_proba[target]))\n",
        "    print(\"...\\n\")\n",
        "\n",
        "print(f'p(\"_William\")/(p(\"_William\") + p(\"_Theodore\")):', sum_proba[\"▁William\"]/(sum_proba[\"▁Theodore\"] + sum_proba[\"▁William\"]))"
      ],
      "metadata": {
        "id": "VXfOpZRV3oLW",
        "colab": {
          "base_uri": "https://localhost:8080/"
        },
        "outputId": "ac197e9e-3f79-4b7c-f09f-2ac4c2c2c69d"
      },
      "execution_count": null,
      "outputs": [
        {
          "output_type": "stream",
          "name": "stdout",
          "text": [
            "Proba for all token sequences decoded as \"▁Theodore\": 0.00388386\n",
            "▁Theod|ore 0.00387837 0.998586\n",
            "▁The|od|ore 5.49352e-06 0.00141445\n",
            "▁Theod|or|e 1.54239e-11 3.97127e-09\n",
            "▁The|o|d|ore 1.53644e-11 3.95597e-09\n",
            "▁|The|od|ore 1.12852e-11 2.90567e-09\n",
            "...\n",
            "\n",
            "Proba for all token sequences decoded as \"▁William\": 0.0236206\n",
            "▁William 0.0236205 0.999997\n",
            "▁Will|iam 4.17723e-08 1.76847e-06\n",
            "▁Will|i|am 2.62149e-08 1.10983e-06\n",
            "▁Wil|li|am 7.06484e-10 2.99096e-08\n",
            "▁Will|ia|m 2.33194e-11 9.87249e-10\n",
            "...\n",
            "\n",
            "p(\"_William\")/(p(\"_William\") + p(\"_Theodore\")): 0.8587916157311236\n"
          ]
        }
      ]
    },
    {
      "cell_type": "markdown",
      "source": [
        "For the `Outlines` constrained decoding with multinomial sampling, any token that is a prefix of one of the two answers (except \" \" which is common too both) will necessarily lead to this answer. The probability to generate one of the two answers is the sum of all these tokens (plus those after \" \" which are part of the answer)."
      ],
      "metadata": {
        "id": "byRkw8YjjtIm"
      }
    },
    {
      "cell_type": "code",
      "source": [
        "def get_proba2(prompt, target):\n",
        "    if len(target) == 0:\n",
        "        return (\"\", 1)\n",
        "    model_input = tokenizer([prompt], return_tensors=\"pt\", padding=True).to(DEVICE)\n",
        "    with torch.no_grad():\n",
        "        output = model(**model_input)\n",
        "        proba = torch.nn.functional.softmax(output[\"logits\"][0, -1, :], dim=-1)\n",
        "    result = []\n",
        "    for w in tokenizer.vocab:\n",
        "        if len(w) > 1 and target.startswith(w):\n",
        "            proba_token = float(proba[tokenizer.vocab[w]])\n",
        "            result.append((w, proba_token))\n",
        "    return result\n",
        "\n",
        "sum_proba = {}\n",
        "for target in [\"▁Theodore\", \"▁William\"]:\n",
        "    result = get_proba2(prompt, target) + [(\"▁|\" + s, p) for s, p in get_proba2(prompt + \"▁\", target[1:])]\n",
        "    sum_proba[target] = sum(x[1] for x in result)\n",
        "    print(f'Proba for all token sequence starts leading only to \"{target}\":', \"{0:.6g}\".format(sum_proba[target]))\n",
        "    for s, p in sorted(result, key=lambda x: -x[1])[:10]:\n",
        "        print(s, \"{0:.6g}\".format(p), \"{0:.6g}\".format(p/sum_proba[target]))\n",
        "    print(\"...\\n\" if len(result) > 10 else \"\\n\")\n",
        "\n",
        "print(f'p(\"_William\")/(p(\"_William\") + p(\"_Theodore\")):', sum_proba[\"▁William\"]/(sum_proba[\"▁Theodore\"] + sum_proba[\"▁William\"]))"
      ],
      "metadata": {
        "id": "7X79XEkX3wlk",
        "colab": {
          "base_uri": "https://localhost:8080/"
        },
        "outputId": "f887b83f-35df-4ed3-c611-43990f334da2"
      },
      "execution_count": null,
      "outputs": [
        {
          "output_type": "stream",
          "name": "stdout",
          "text": [
            "Proba for all token sequence starts leading only to \"▁Theodore\": 0.0253642\n",
            "▁The 0.0194297 0.766031\n",
            "▁Theod 0.00388619 0.153216\n",
            "▁T 0.00169775 0.066935\n",
            "▁Th 0.000344919 0.0135987\n",
            "▁|The 5.00557e-06 0.000197348\n",
            "▁|Th 5.61061e-07 2.21202e-05\n",
            "\n",
            "\n",
            "Proba for all token sequence starts leading only to \"▁William\": 0.0284329\n",
            "▁William 0.0236205 0.830748\n",
            "▁W 0.00410464 0.144362\n",
            "▁Will 0.0006101 0.0214576\n",
            "▁Wil 8.61932e-05 0.00303146\n",
            "▁|Will 9.81959e-06 0.000345361\n",
            "▁Wi 1.55725e-06 5.47693e-05\n",
            "\n",
            "\n",
            "p(\"_William\")/(p(\"_William\") + p(\"_Theodore\")): 0.5285210318350017\n"
          ]
        }
      ]
    },
    {
      "cell_type": "markdown",
      "source": [
        "For `DirectMerge` and `CartesianMerge`, only the first token of each possible answer is considered."
      ],
      "metadata": {
        "id": "hhMwM2UtkV9D"
      }
    },
    {
      "cell_type": "code",
      "source": [
        "sum_proba = {}\n",
        "for target in [\"▁Theodore\", \"▁William\"]:\n",
        "    model_input = tokenizer([prompt], return_tensors=\"pt\", padding=True).to(DEVICE)\n",
        "    with torch.no_grad():\n",
        "        output = model(**model_input)\n",
        "        proba = torch.nn.functional.softmax(output[\"logits\"][0, -1, :], dim=-1)\n",
        "    idx = tokenizer.encode(\"\\n\"+target, add_special_tokens=False)[2]\n",
        "    sum_proba[target] = float(proba[idx])\n",
        "    print(tokenizer.backend_tokenizer.model.id_to_token(idx), \"{0:.6g}\".format(sum_proba[target]), \"\\n\")\n",
        "\n",
        "print(f'p(\"_William\")/(p(\"_William\") + p(\"_Theodore\")):', sum_proba[\"▁William\"]/(sum_proba[\"▁Theodore\"] + sum_proba[\"▁William\"]))"
      ],
      "metadata": {
        "id": "WeiOrWS836IR",
        "colab": {
          "base_uri": "https://localhost:8080/"
        },
        "outputId": "8e5df64a-f978-448e-ef45-dab8746c4e33"
      },
      "execution_count": null,
      "outputs": [
        {
          "output_type": "stream",
          "name": "stdout",
          "text": [
            "▁Theod 0.00388619 \n",
            "\n",
            "▁William 0.0236205 \n",
            "\n",
            "p(\"_William\")/(p(\"_William\") + p(\"_Theodore\")): 0.8587185711730042\n"
          ]
        }
      ]
    },
    {
      "cell_type": "markdown",
      "source": [
        "# Example: self-intoxication\n",
        "\n",
        "Here we see how modifying the tokenization of a part of the prompt can modify the LLM output. We query the LLM with the following prompt: `A [whale/tiger/weasel/cow] shark is a kind of` and we examine the probabilities of `fish` and `mammal` with two tokenizations of the word `shark` (one correct and the other incorrect)."
      ],
      "metadata": {
        "id": "4h97Nt4n83q_"
      }
    },
    {
      "cell_type": "code",
      "source": [
        "prefix = tokenizer.encode(\"A\", add_special_tokens=False)\n",
        "suffix = tokenizer.encode(\"is a kind of\", add_special_tokens=False)\n",
        "shark_tokenized = tokenizer.encode(\"shark\", add_special_tokens=False)\n",
        "shark_tokenized2 = [tokenizer.backend_tokenizer.model.token_to_id(s) for s in [\"▁s\", \"har\", \"k\"]]\n",
        "\n",
        "shark_types = [\"whale\", \"tiger\", \"weasel\", \"cow\"]\n",
        "for shark_type in shark_types:\n",
        "    input_ids = torch.tensor([prefix + tokenizer.encode(shark_type, add_special_tokens=False) + shark_tokenized + suffix], dtype=torch.int).to(DEVICE)\n",
        "    input_ids2 = torch.tensor([prefix + tokenizer.encode(shark_type, add_special_tokens=False) + shark_tokenized2 + suffix], dtype=torch.int).to(DEVICE)\n",
        "    assert tokenizer.decode(input_ids[0]) == tokenizer.decode(input_ids2[0])\n",
        "\n",
        "    print(shark_type)\n",
        "\n",
        "    print(\"\\nStandard tokenization\")\n",
        "    with torch.no_grad():\n",
        "        result = model(input_ids)\n",
        "        proba = torch.nn.functional.softmax(result[\"logits\"][0, -1, :], dim=-1)\n",
        "    print(\n",
        "        \"P(mammal)/P(fish):\",\n",
        "        float(proba[tokenizer.encode(\"mammal\", add_special_tokens=False)[0]])\n",
        "        /float(proba[tokenizer.encode(\"fish\", add_special_tokens=False)[0]])\n",
        "    )\n",
        "\n",
        "    print(\"\\nAlternative tokenization\")\n",
        "    with torch.no_grad():\n",
        "        result = model(input_ids2)\n",
        "        proba = torch.nn.functional.softmax(result[\"logits\"][0, -1, :], dim=-1)\n",
        "    print(\n",
        "        \"P(mammal)/P(fish):\",\n",
        "        float(proba[tokenizer.encode(\"mammal\", add_special_tokens=False)[0]])\n",
        "        /float(proba[tokenizer.encode(\"fish\", add_special_tokens=False)[0]]),\n",
        "        \"\\n\"\n",
        "    )"
      ],
      "metadata": {
        "id": "HTykr7Xr9HfK",
        "colab": {
          "base_uri": "https://localhost:8080/"
        },
        "outputId": "0e260de3-14d2-4731-c1f2-7bc4fea19d2d"
      },
      "execution_count": null,
      "outputs": [
        {
          "output_type": "stream",
          "name": "stdout",
          "text": [
            "whale\n",
            "\n",
            "Standard tokenization\n",
            "P(mammal)/P(fish): 0.12956414495244145\n",
            "\n",
            "Alternative tokenization\n",
            "P(mammal)/P(fish): 0.2059087231078096 \n",
            "\n",
            "tiger\n",
            "\n",
            "Standard tokenization\n",
            "P(mammal)/P(fish): 0.14834671773140942\n",
            "\n",
            "Alternative tokenization\n",
            "P(mammal)/P(fish): 0.11374136861423408 \n",
            "\n",
            "weasel\n",
            "\n",
            "Standard tokenization\n",
            "P(mammal)/P(fish): 0.082951255182334\n",
            "\n",
            "Alternative tokenization\n",
            "P(mammal)/P(fish): 0.23326822094872637 \n",
            "\n",
            "cow\n",
            "\n",
            "Standard tokenization\n",
            "P(mammal)/P(fish): 0.1820246226349742\n",
            "\n",
            "Alternative tokenization\n",
            "P(mammal)/P(fish): 0.13895114849772544 \n",
            "\n"
          ]
        }
      ]
    },
    {
      "cell_type": "markdown",
      "source": [
        "# Experiment: does Mistral-7b spontaneously generate improper token sequences?\n",
        "\n",
        "We take a text sample written after the training of Mistral-7B (so that it isn't part of the training corpus of Mistral-7B) and we check, for each token, the probability of generating an \"improper\" token. This probability is very small most of the time."
      ],
      "metadata": {
        "id": "ZP8w3TMtJVHE"
      }
    },
    {
      "cell_type": "code",
      "source": [
        "!wget -nc https://raw.githubusercontent.com/outlines-dev/outlines/main/README.md\n",
        "with open(\"README.md\", 'r') as f:\n",
        "    readme = f.read()\n",
        "input_ids = tokenizer.encode(readme, return_tensors=\"pt\").to(DEVICE)\n",
        "with torch.no_grad():\n",
        "    result = model(input_ids)\n",
        "proba = torch.nn.functional.softmax(result[\"logits\"][0, :, :], dim=-1).to(\"cpu\")\n",
        "\n",
        "merged = {s.replace(\" \", \"\") for s in tokenizer_dict[\"model\"][\"merges\"]}\n",
        "initial_ids = {\n",
        "    tokenizer.backend_tokenizer.model.token_to_id(k)\n",
        "    for k in tokenizer.vocab\n",
        "    if k not in merged\n",
        "}\n",
        "tokenizer_fsm = TokenizerFSM(\n",
        "    initial_ids,\n",
        "    tokenizer,\n",
        "    tokenizer_dict[\"model\"][\"merges\"]\n",
        ")\n",
        "\n",
        "proba_proper_tokenization = []\n",
        "num_forbidden = []\n",
        "\n",
        "argmax = torch.argmax(proba, dim=-1)\n",
        "\n",
        "for i in range(input_ids.shape[1]):\n",
        "    current_token = int(input_ids[0, i])\n",
        "    state = tokenizer_fsm.id2state[current_token]\n",
        "    forbidden = tokenizer_fsm.state2forbidden[state]\n",
        "    mask = torch.ones(32000)\n",
        "    for t in forbidden:\n",
        "        mask[t] = 0\n",
        "\n",
        "    if int(argmax[i]) in forbidden:\n",
        "        print(i, argmax[i], proba[i, argmax[i]])\n",
        "    proba_proper_tokenization.append(min(1, float(torch.sum(proba[i, :]*mask))))\n",
        "    num_forbidden.append(len(forbidden))"
      ],
      "metadata": {
        "id": "dVrLyt-n9vAK",
        "colab": {
          "base_uri": "https://localhost:8080/"
        },
        "outputId": "5a3d18e9-9fe1-4abe-bf5c-3ff0dd950895"
      },
      "execution_count": null,
      "outputs": [
        {
          "output_type": "stream",
          "name": "stdout",
          "text": [
            "File ‘README.md’ already there; not retrieving.\n",
            "\n"
          ]
        }
      ]
    },
    {
      "cell_type": "code",
      "source": [
        "plt.xscale('symlog', linthresh=1e-8)\n",
        "sns.histplot(\n",
        "    [1-proba_proper_tokenization[i] for i in range(len(proba_proper_tokenization)) if num_forbidden[i] > 0],\n",
        "    bins=20,\n",
        "    stat=\"probability\"\n",
        ")\n",
        "_ = plt.xlabel(\"Probability to generate an improper token (logarithmic scale)\")"
      ],
      "metadata": {
        "id": "WTZpAizhKO_h",
        "colab": {
          "base_uri": "https://localhost:8080/",
          "height": 547
        },
        "outputId": "c57f3ac6-815c-4eed-b4ee-c442e00247a1"
      },
      "execution_count": null,
      "outputs": [
        {
          "output_type": "display_data",
          "data": {
            "text/plain": [
              "<Figure size 800x600 with 1 Axes>"
            ],
            "image/png": "[encoded data removed]"
          },
          "metadata": {}
        }
      ]
    },
    {
      "cell_type": "markdown",
      "source": [
        "# Vegas configurations"
      ],
      "metadata": {
        "id": "P-JJEg3b-cR8"
      }
    },
    {
      "cell_type": "markdown",
      "source": [
        "We look for Vegas configurations in the sense given in the last section of the blog post."
      ],
      "metadata": {
        "id": "OWH99EntlpDX"
      }
    },
    {
      "cell_type": "code",
      "source": [
        "def mergeable(string, merge_table, direction):\n",
        "    \"\"\"\n",
        "    Identify with which characters a token can be merged.\n",
        "    \"\"\"\n",
        "    result = set()\n",
        "    for s in merge_table:\n",
        "        if string in s:\n",
        "            if direction in [\"right\", \"both\"]:\n",
        "                splitted = s.replace(\" \", \"\").split(string)\n",
        "                for split in splitted[1:]:\n",
        "                    if len(split) > 0:\n",
        "                        result.add(split[0])\n",
        "            if direction in [\"left\", \"both\"]:\n",
        "                splitted = s.replace(\" \", \"\").split(string)\n",
        "                for split in splitted[:-1]:\n",
        "                    if len(split) > 0:\n",
        "                        result.add(split[-1])\n",
        "    return result"
      ],
      "metadata": {
        "id": "gF1f8pTDMCyu"
      },
      "execution_count": null,
      "outputs": []
    },
    {
      "cell_type": "markdown",
      "source": [
        "A line break does not merge with anything (interesting for YAML schemas)."
      ],
      "metadata": {
        "id": "0VBV-3xvlxpa"
      }
    },
    {
      "cell_type": "code",
      "source": [
        "\" \".join(mergeable('\\n', tokenizer_dict[\"model\"][\"merges\"], \"both\"))"
      ],
      "metadata": {
        "id": "jP9N-dLGOL0A",
        "colab": {
          "base_uri": "https://localhost:8080/",
          "height": 35
        },
        "outputId": "a4f931de-505e-4ac5-8602-b0e81f9bbf1c"
      },
      "execution_count": null,
      "outputs": [
        {
          "output_type": "execute_result",
          "data": {
            "text/plain": [
              "''"
            ],
            "application/vnd.google.colaboratory.intrinsic+json": {
              "type": "string"
            }
          },
          "metadata": {},
          "execution_count": 69
        }
      ]
    },
    {
      "cell_type": "markdown",
      "source": [
        "A colon break does not merge with a blank space at its right (interesting for JSON and YAML schemas)."
      ],
      "metadata": {
        "id": "uCy-Ud0nl8rb"
      }
    },
    {
      "cell_type": "code",
      "source": [
        "\" \".join(mergeable(\":\", tokenizer_dict[\"model\"][\"merges\"], \"right\"))"
      ],
      "metadata": {
        "id": "NI1OcNA9M_Oa",
        "colab": {
          "base_uri": "https://localhost:8080/",
          "height": 35
        },
        "outputId": "1c638118-1870-4219-dd23-1d2b748e0e67"
      },
      "execution_count": null,
      "outputs": [
        {
          "output_type": "execute_result",
          "data": {
            "text/plain": [
              "'* / } _ = , \\r - < ~ ] \\' ` \" % \\\\ $ ) {'"
            ],
            "application/vnd.google.colaboratory.intrinsic+json": {
              "type": "string"
            }
          },
          "metadata": {},
          "execution_count": 70
        }
      ]
    },
    {
      "cell_type": "markdown",
      "source": [
        "Digits do not merge with anything (interesting for numeric types in JSON or YAML schemas)."
      ],
      "metadata": {
        "id": "Hvs7rFLumZu2"
      }
    },
    {
      "cell_type": "code",
      "source": [
        "\" \".join([\" \".join(mergeable(str(i), tokenizer_dict[\"model\"][\"merges\"], \"both\")) for i in range(10)])"
      ],
      "metadata": {
        "id": "NIBhThfLmHQg",
        "colab": {
          "base_uri": "https://localhost:8080/",
          "height": 35
        },
        "outputId": "af6335fe-5226-458d-84a3-5e8f679d6eed"
      },
      "execution_count": null,
      "outputs": [
        {
          "output_type": "execute_result",
          "data": {
            "text/plain": [
              "'         '"
            ],
            "application/vnd.google.colaboratory.intrinsic+json": {
              "type": "string"
            }
          },
          "metadata": {},
          "execution_count": 71
        }
      ]
    },
    {
      "cell_type": "markdown",
      "source": [
        "`\",` (which is a token) does not merge with a blank space at its right (interesting for string types in JSON schemas)."
      ],
      "metadata": {
        "id": "IUoNVH0PpOFr"
      }
    },
    {
      "cell_type": "code",
      "source": [
        "\" \".join(mergeable('\",', tokenizer_dict[\"model\"][\"merges\"], \"right\"))"
      ],
      "metadata": {
        "id": "ZfEoNP9rpBCe",
        "colab": {
          "base_uri": "https://localhost:8080/",
          "height": 35
        },
        "outputId": "5e3978c5-2169-4d15-8db6-9e55a9c3570b"
      },
      "execution_count": null,
      "outputs": [
        {
          "output_type": "execute_result",
          "data": {
            "text/plain": [
              "'\\r \"'"
            ],
            "application/vnd.google.colaboratory.intrinsic+json": {
              "type": "string"
            }
          },
          "metadata": {},
          "execution_count": 72
        }
      ]
    }
  ],
  "metadata": {
    "colab": {
      "provenance": [],
      "collapsed_sections": [
        "H8Nocqqfz1kD",
        "4WCDj0Hgon9X",
        "bwa0uMF8h4UB",
        "QAqDlmgOh0eT",
        "-7qaC7tlh8L_",
        "99g8jDvinGEm",
        "HKfs-jVFiMat",
        "Xi6XqXUxilMt"
      ],
      "toc_visible": true,
      "gpuType": "T4"
    },
    "kernelspec": {
      "display_name": "Python 3",
      "name": "python3"
    },
    "language_info": {
      "name": "python"
    },
    "accelerator": "GPU"
  },
  "nbformat": 4,
  "nbformat_minor": 0
}